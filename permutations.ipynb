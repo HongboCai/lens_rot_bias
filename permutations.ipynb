{
 "cells": [
  {
   "cell_type": "code",
   "execution_count": 1,
   "id": "52eabb1f-2bdc-49ef-97f8-f4e1e7af03e1",
   "metadata": {},
   "outputs": [],
   "source": [
    "map_dir = '/global/cscratch1/sd/hongbo/lens_rot_bias/Maps/'\n",
    "for i in range(10):\n",
    "    for j in range(10):\n",
    "        if i!=j:\n",
    "            map_list = []\n",
    "            # map_list.append(map_dir+'CMBRot_fullsky_alm_1e-07_00%s.fits'%i)\n",
    "            # map_list.append(map_dir+'CMBRot_fullsky_alm_1e-07_00%s.fits'%j)\n",
    "            # map_list.append(map_dir+'CMBRot_fullsky_alm_1e-07_00%s.fits'%(i+10))\n",
    "            # map_list.append(map_dir+'CMBRot_fullsky_alm_1e-07_00%s.fits'%(j+10))\n",
    "            # map_list.append('CMBRot_fullsky_alm_1e-07_00%s.fits'%i)\n",
    "            # map_list.append('CMBRot_fullsky_alm_1e-07_00%s.fits'%j)\n",
    "            # map_list.append('CMBRot_fullsky_alm_1e-07_00%s.fits'%(i+10))\n",
    "            # map_list.append('CMBRot_fullsky_alm_1e-07_00%s.fits'%(j+10))\n",
    "            # print(map_list)"
   ]
  },
  {
   "cell_type": "code",
   "execution_count": 2,
   "id": "07b0ed06-9f9c-4d1f-baca-2eba23b499b8",
   "metadata": {},
   "outputs": [],
   "source": [
    "import sys, os, time\n",
    "import numpy as np\n",
    "import param as p"
   ]
  },
  {
   "cell_type": "code",
   "execution_count": 9,
   "id": "eedec6ef-2e7c-4589-85c3-bc01d45192b0",
   "metadata": {},
   "outputs": [],
   "source": [
    "# add_noise = False\n",
    "# qos = 'regular'\n",
    "# time = '09:00:00'\n",
    "# OMP_NUM_THREADS = 32\n",
    "# n_tasks_per_node = int(nrecon_per_job * OMP_NUM_THREADS)\n",
    "\n",
    "job_path = p.repodir + 'N1aaJobs/'\n",
    "src_path = p.repodir + 'src'"
   ]
  },
  {
   "cell_type": "code",
   "execution_count": 7,
   "id": "c23e9087-7d78-4143-825f-babf4154b53e",
   "metadata": {},
   "outputs": [],
   "source": [
    "# arguments list for all processes\n",
    "A_cb = 1e-07\n",
    "args_list = []\n",
    "# recon sim jobs\n",
    "recon_sim_job_nums = [i for i in range(20)]\n",
    "sim_nums = [i for i in range(10)]\n",
    "\n",
    "for experiment, values  in p.exps_config.items():\n",
    "    for groups, moment in p.moments.items():\n",
    "        for i in sim_nums:\n",
    "            for j in sim_nums:\n",
    "                if i!=j:\n",
    "                    args_dict = {}\n",
    "                    args_dict['cmb1'] = p.repodir + f'Maps/CMBRot_fullsky_alm_{A_cb}_{i:03d}.fits'\n",
    "                    args_dict['cmb2'] = p.repodir + f'Maps/CMBRot_fullsky_alm_{A_cb}_{j:03d}.fits'\n",
    "                    args_dict['cmb3'] = p.repodir + f'Maps/CMBRot_fullsky_alm_{A_cb}_{i+10:03d}.fits'\n",
    "                    args_dict['cmb4'] = p.repodir + f'Maps/CMBRot_fullsky_alm_{A_cb}_{j+10:03d}.fits'\n",
    "                    args_dict['experiment'] = experiment\n",
    "                    args_dict['nlev_t'] = values['nlev_t']\n",
    "                    args_dict['nlev_p'] = values['nlev_p']\n",
    "                    args_dict['beam_arcmin'] = values['beam_arcmin']\n",
    "                    args_dict['ellmin' ]= moment['ellmin']\n",
    "                    args_dict['ellmax' ]= moment['ellmax']\n",
    "                    args_dict['delta_L'] = moment['delta_L']\n",
    "                    args_list.append(args_dict)\n",
    "\n",
    "recon_param_chuncks = np.array_split(args_list, len(recon_sim_job_nums))"
   ]
  },
  {
   "cell_type": "code",
   "execution_count": 10,
   "id": "f2045528-c060-438f-bf91-e12bdd1c1207",
   "metadata": {},
   "outputs": [],
   "source": [
    "for i, recon_job in enumerate(recon_sim_job_nums):\n",
    "    f = open('%s/reconJob.sh.%d' %(job_path, recon_job), 'w')\n",
    "    \n",
    "    f.write('#!/bin/bash\\n')\n",
    "    # f.write('#SBATCH --qos %s\\n' %qos)\n",
    "    # f.write('#SBATCH --constraint=haswell\\n')\n",
    "    # f.write('#SBATCH -N 1\\n')\n",
    "    # f.write('#SBATCH -t %s\\n' %time)\n",
    "    # f.write('#SBATCH --ntasks-per-node=%s\\n' %n_tasks_per_node)\n",
    "    # f.write('#SBATCH --license=SCRATCH\\n')\n",
    "    # f.write('#SBATCH --output=%sslurmjob.log.%d\\n' %(job_path, recon_job))\n",
    "    # f.write('\\n')\n",
    "    f.write('cd %s\\n\\n' %src_path)\n",
    "    for recon_param in recon_param_chuncks[i]:\n",
    "        f.write('python reconN1aa.py --cmb1 \\'%s\\' --cmb2 \\'%s\\' --cmb3 \\'%s\\' --cmb4 \\'%s\\' --experiment \\'%s\\' --nlev_t %s --beam_arcmin %s --ellmin %s --ellmax %s --delta_L %s & sleep 1\\n' %(recon_param['cmb1'], recon_param['cmb2'], recon_param['cmb3'], recon_param['cmb4'], recon_param['experiment'], recon_param['nlev_t'], recon_param['beam_arcmin'], recon_param['ellmin'], recon_param['ellmax'], recon_param['delta_L']))\n",
    "    f.write('wait\\n')\n",
    "    f.close()"
   ]
  },
  {
   "cell_type": "code",
   "execution_count": null,
   "id": "439f915e-90b5-46ed-a2fb-73e41d5113ae",
   "metadata": {},
   "outputs": [],
   "source": []
  }
 ],
 "metadata": {
  "kernelspec": {
   "display_name": "myenv-jupyter",
   "language": "python",
   "name": "myenv-jupyter"
  },
  "language_info": {
   "codemirror_mode": {
    "name": "ipython",
    "version": 3
   },
   "file_extension": ".py",
   "mimetype": "text/x-python",
   "name": "python",
   "nbconvert_exporter": "python",
   "pygments_lexer": "ipython3",
   "version": "3.7.9"
  }
 },
 "nbformat": 4,
 "nbformat_minor": 5
}
