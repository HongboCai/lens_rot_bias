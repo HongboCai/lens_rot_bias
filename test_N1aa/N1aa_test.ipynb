{
 "cells": [
  {
   "cell_type": "code",
   "execution_count": 1,
   "id": "d6f0f9b7-baf3-4fed-9a99-fd9689790fea",
   "metadata": {
    "collapsed": false,
    "jupyter": {
     "outputs_hidden": false
    }
   },
   "outputs": [],
   "source": [
    "import os\n",
    "import numpy as np\n",
    "import healpy as hp\n",
    "import matplotlib.pyplot as plt\n",
    "from math import pi\n",
    "import plancklens\n",
    "from plancklens import utils, n0s\n",
    "from plancklens import nhl\n",
    "from plancklens.n1 import n1\n",
    "from plancklens import qest, qecl, qresp\n",
    "import matplotlib as mpl\n",
    "\n",
    "from orphics import maps, cosmology\n",
    "mpl.rcParams['font.size']=12"
   ]
  },
  {
   "cell_type": "code",
   "execution_count": 2,
   "id": "2d1abded-f287-4a04-8992-98fd044a5cd1",
   "metadata": {
    "collapsed": false,
    "jupyter": {
     "outputs_hidden": false
    }
   },
   "outputs": [],
   "source": [
    "exps_config = {\n",
    "    'CMB_S3': {\n",
    "        'nlev_t': 7,\n",
    "        'nlev_p':7*2**0.5,\n",
    "        'beam_arcmin': 1.4,\n",
    "        'result_nums': [0, 20, 40, 60, 80]\n",
    "    },\n",
    "    'CMB_S4': {\n",
    "        'nlev_t': 1,\n",
    "        'nlev_p':2**0.5,\n",
    "        'beam_arcmin': 1.4,\n",
    "        'result_nums': [90, 110, 130, 150, 170]\n",
    "    }\n",
    "}"
   ]
  },
  {
   "cell_type": "code",
   "execution_count": 41,
   "id": "ca8e4558-d271-429e-ba39-4b52b538528f",
   "metadata": {},
   "outputs": [],
   "source": [
    "A_cb = 1e-08\n",
    "experiment = 'CMB_S4'\n",
    "\n",
    "lmax = 3000\n",
    "ellmin = 30\n",
    "ellmax = 3000\n",
    "Lmax = 3000\n",
    "\n",
    "ls = np.arange(lmax+1)\n",
    "ells = np.arange(ellmax+1)"
   ]
  },
  {
   "cell_type": "code",
   "execution_count": 42,
   "id": "51c3f9cb-7fcf-4882-abb3-b1406a212a48",
   "metadata": {
    "collapsed": false,
    "jupyter": {
     "outputs_hidden": false
    }
   },
   "outputs": [],
   "source": [
    "theory = cosmology.default_theory()\n",
    "cltt, clee, clbb = theory.lCl('TT', ls), theory.lCl('EE', ls), theory.lCl('BB', ls)\n",
    "clte = theory.lCl('TE', ls)"
   ]
  },
  {
   "cell_type": "code",
   "execution_count": 43,
   "id": "325503c4-cacb-4cb4-b002-dfd5a372f234",
   "metadata": {
    "collapsed": false,
    "jupyter": {
     "outputs_hidden": false
    }
   },
   "outputs": [],
   "source": [
    "main_path = '/home/hongbo/projects/lens_rot_bias/'\n",
    "cls_path = '/home/hongbo/projects/lens_rot_bias/inputPs'\n",
    "claa = np.loadtxt(cls_path + '/claa_A%s.txt' %A_cb)[:,1]"
   ]
  },
  {
   "cell_type": "code",
   "execution_count": 44,
   "id": "50d7a4f5-7475-493f-a813-c54d761a4f49",
   "metadata": {
    "collapsed": false,
    "jupyter": {
     "outputs_hidden": false
    }
   },
   "outputs": [],
   "source": [
    "clpp = np.loadtxt(cls_path + '/cosmo2017_10K_acc3_lenspotentialCls.dat', \\\n",
    "                  usecols=(5), unpack=True)\n",
    "fac = (ls*(ls+1))**2/(2*pi)\n",
    "fac[0] = 1\n",
    "clpp = np.concatenate(([1,1], clpp))[ls]/fac\n",
    "clpp[0], clpp[1] = 0, 0"
   ]
  },
  {
   "cell_type": "code",
   "execution_count": 45,
   "id": "f95a5b54-3ca2-4a1c-b73a-8cd72e43df2a",
   "metadata": {
    "collapsed": false,
    "jupyter": {
     "outputs_hidden": false
    }
   },
   "outputs": [],
   "source": [
    "nltt = (exps_config[experiment]['nlev_t']*\\\n",
    "        pi/180/60)**2/maps.gauss_beam(ls, exps_config[experiment]['beam_arcmin'])**2\n",
    "nlee = (exps_config[experiment]['nlev_p']*\\\n",
    "        pi/180/60)**2/maps.gauss_beam(ls, exps_config[experiment]['beam_arcmin'])**2\n",
    "nlbb = nlee\n",
    "\n",
    "ocltt = cltt + nltt\n",
    "oclee = clee + nlee\n",
    "oclbb = clbb + nlbb\n",
    "oclee[0], oclee[1], oclbb[0], oclbb[1] = 1, 1, 1, 1"
   ]
  },
  {
   "cell_type": "code",
   "execution_count": 46,
   "id": "4bf84130-81d5-49df-b61b-fb32ada7a004",
   "metadata": {
    "collapsed": false,
    "jupyter": {
     "outputs_hidden": false
    }
   },
   "outputs": [],
   "source": [
    "ftl = 1/ocltt[:lmax+1]\n",
    "fel = 1/oclee[:lmax+1]\n",
    "fbl = 1/oclbb[:lmax+1]\n",
    "\n",
    "# ftl[:ellmin] *= 0.\n",
    "# fel[:ellmin] *= 0.\n",
    "# fbl[:ellmin] *= 0.\n",
    "\n",
    "ftl[:2] *= 0.\n",
    "fel[:2] *= 0.\n",
    "fbl[:2] *= 0."
   ]
  },
  {
   "cell_type": "code",
   "execution_count": 47,
   "id": "fedb4700-abcf-4515-a7a8-4b16bcf13b32",
   "metadata": {},
   "outputs": [],
   "source": [
    "n1aa_integral = []\n",
    "\n",
    "for result_num in exps_config[experiment]['result_nums']:\n",
    "    n1aa_integral.append(np.loadtxt(main_path+'/output/N1aa/N1aa_%s_%s_%s_30_3000.dat' \\\n",
    "                                    %(result_num, A_cb, experiment)))\n",
    "\n",
    "n1aa_integral = np.array(n1aa_integral)\n",
    "n1aa_sim = np.mean(n1aa_integral, axis=0)"
   ]
  },
  {
   "cell_type": "code",
   "execution_count": 48,
   "id": "50dbe66b-532f-4492-825f-bb02991a2cf0",
   "metadata": {
    "collapsed": false,
    "jupyter": {
     "outputs_hidden": false
    }
   },
   "outputs": [],
   "source": [
    "#---- N1 lensing bias library:\n",
    "n1_dd = n1.library_n1(main_path+'/test_N1aa/',cltt,clte,clee)\n",
    "N0s, N0_curls = n0s.get_N0(beam_fwhm=exps_config[experiment]['beam_arcmin'],\\\n",
    "                           nlev_t=exps_config[experiment]['nlev_t'], \\\n",
    "                           nlev_p=exps_config[experiment]['nlev_p'], joint_TP=False, ksource='p')"
   ]
  },
  {
   "cell_type": "code",
   "execution_count": 49,
   "id": "b471ce97-2c3a-4100-a823-127c698f586c",
   "metadata": {},
   "outputs": [
    {
     "name": "stdout",
     "output_type": "stream",
     "text": [
      "n1: doing L 1 kA peb kB peb kind r\n",
      "n1: doing L 2 kA peb kB peb kind r\n",
      "n1: doing L 3 kA peb kB peb kind r\n",
      "n1: doing L 4 kA peb kB peb kind r\n",
      "n1: doing L 5 kA peb kB peb kind r\n",
      "n1: doing L 6 kA peb kB peb kind r\n",
      "n1: doing L 7 kA peb kB peb kind r\n",
      "n1: doing L 8 kA peb kB peb kind r\n",
      "n1: doing L 9 kA peb kB peb kind r\n",
      "n1: doing L 10 kA peb kB peb kind r\n",
      "n1: doing L 21 kA peb kB peb kind r\n",
      "n1: doing L 41 kA peb kB peb kind r\n",
      "n1: doing L 61 kA peb kB peb kind r\n",
      "n1: doing L 81 kA peb kB peb kind r\n",
      "n1: doing L 101 kA peb kB peb kind r\n",
      "n1: doing L 121 kA peb kB peb kind r\n",
      "n1: doing L 141 kA peb kB peb kind r\n",
      "n1: doing L 161 kA peb kB peb kind r\n",
      "n1: doing L 181 kA peb kB peb kind r\n",
      "n1: doing L 201 kA peb kB peb kind r\n",
      "n1: doing L 221 kA peb kB peb kind r\n",
      "n1: doing L 241 kA peb kB peb kind r\n",
      "n1: doing L 261 kA peb kB peb kind r\n",
      "n1: doing L 281 kA peb kB peb kind r\n",
      "n1: doing L 301 kA peb kB peb kind r\n",
      "n1: doing L 321 kA peb kB peb kind r\n",
      "n1: doing L 341 kA peb kB peb kind r\n",
      "n1: doing L 361 kA peb kB peb kind r\n",
      "n1: doing L 381 kA peb kB peb kind r\n",
      "n1: doing L 401 kA peb kB peb kind r\n",
      "n1: doing L 421 kA peb kB peb kind r\n",
      "n1: doing L 441 kA peb kB peb kind r\n",
      "n1: doing L 461 kA peb kB peb kind r\n",
      "n1: doing L 481 kA peb kB peb kind r\n",
      "n1: doing L 501 kA peb kB peb kind r\n",
      "n1: doing L 521 kA peb kB peb kind r\n",
      "n1: doing L 541 kA peb kB peb kind r\n",
      "n1: doing L 561 kA peb kB peb kind r\n",
      "n1: doing L 581 kA peb kB peb kind r\n",
      "n1: doing L 601 kA peb kB peb kind r\n",
      "n1: doing L 621 kA peb kB peb kind r\n",
      "n1: doing L 641 kA peb kB peb kind r\n",
      "n1: doing L 661 kA peb kB peb kind r\n",
      "n1: doing L 681 kA peb kB peb kind r\n",
      "n1: doing L 701 kA peb kB peb kind r\n",
      "n1: doing L 721 kA peb kB peb kind r\n",
      "n1: doing L 741 kA peb kB peb kind r\n",
      "n1: doing L 761 kA peb kB peb kind r\n",
      "n1: doing L 781 kA peb kB peb kind r\n",
      "n1: doing L 801 kA peb kB peb kind r\n",
      "n1: doing L 821 kA peb kB peb kind r\n",
      "n1: doing L 841 kA peb kB peb kind r\n",
      "n1: doing L 861 kA peb kB peb kind r\n",
      "n1: doing L 881 kA peb kB peb kind r\n",
      "n1: doing L 901 kA peb kB peb kind r\n",
      "n1: doing L 921 kA peb kB peb kind r\n",
      "n1: doing L 941 kA peb kB peb kind r\n",
      "n1: doing L 961 kA peb kB peb kind r\n",
      "n1: doing L 981 kA peb kB peb kind r\n",
      "n1: doing L 1001 kA peb kB peb kind r\n",
      "n1: doing L 1021 kA peb kB peb kind r\n",
      "n1: doing L 1041 kA peb kB peb kind r\n",
      "n1: doing L 1061 kA peb kB peb kind r\n",
      "n1: doing L 1081 kA peb kB peb kind r\n",
      "n1: doing L 1101 kA peb kB peb kind r\n",
      "n1: doing L 1121 kA peb kB peb kind r\n",
      "n1: doing L 1141 kA peb kB peb kind r\n",
      "n1: doing L 1161 kA peb kB peb kind r\n",
      "n1: doing L 1181 kA peb kB peb kind r\n",
      "n1: doing L 1201 kA peb kB peb kind r\n",
      "n1: doing L 1221 kA peb kB peb kind r\n",
      "n1: doing L 1241 kA peb kB peb kind r\n",
      "n1: doing L 1261 kA peb kB peb kind r\n",
      "n1: doing L 1281 kA peb kB peb kind r\n",
      "n1: doing L 1301 kA peb kB peb kind r\n",
      "n1: doing L 1321 kA peb kB peb kind r\n",
      "n1: doing L 1341 kA peb kB peb kind r\n",
      "n1: doing L 1361 kA peb kB peb kind r\n",
      "n1: doing L 1381 kA peb kB peb kind r\n",
      "n1: doing L 1401 kA peb kB peb kind r\n",
      "n1: doing L 1421 kA peb kB peb kind r\n",
      "n1: doing L 1441 kA peb kB peb kind r\n",
      "n1: doing L 1461 kA peb kB peb kind r\n",
      "n1: doing L 1481 kA peb kB peb kind r\n",
      "n1: doing L 1501 kA peb kB peb kind r\n",
      "n1: doing L 1521 kA peb kB peb kind r\n",
      "n1: doing L 1541 kA peb kB peb kind r\n",
      "n1: doing L 1561 kA peb kB peb kind r\n",
      "n1: doing L 1581 kA peb kB peb kind r\n",
      "n1: doing L 1601 kA peb kB peb kind r\n",
      "n1: doing L 1621 kA peb kB peb kind r\n",
      "n1: doing L 1641 kA peb kB peb kind r\n",
      "n1: doing L 1661 kA peb kB peb kind r\n",
      "n1: doing L 1681 kA peb kB peb kind r\n",
      "n1: doing L 1701 kA peb kB peb kind r\n",
      "n1: doing L 1721 kA peb kB peb kind r\n",
      "n1: doing L 1741 kA peb kB peb kind r\n",
      "n1: doing L 1761 kA peb kB peb kind r\n",
      "n1: doing L 1781 kA peb kB peb kind r\n",
      "n1: doing L 1801 kA peb kB peb kind r\n",
      "n1: doing L 1821 kA peb kB peb kind r\n",
      "n1: doing L 1841 kA peb kB peb kind r\n",
      "n1: doing L 1861 kA peb kB peb kind r\n",
      "n1: doing L 1881 kA peb kB peb kind r\n",
      "n1: doing L 1901 kA peb kB peb kind r\n",
      "n1: doing L 1921 kA peb kB peb kind r\n",
      "n1: doing L 1941 kA peb kB peb kind r\n",
      "n1: doing L 1961 kA peb kB peb kind r\n",
      "n1: doing L 1981 kA peb kB peb kind r\n",
      "n1: doing L 2001 kA peb kB peb kind r\n",
      "n1: doing L 2021 kA peb kB peb kind r\n",
      "n1: doing L 2041 kA peb kB peb kind r\n",
      "n1: doing L 2061 kA peb kB peb kind r\n",
      "n1: doing L 2081 kA peb kB peb kind r\n",
      "n1: doing L 2101 kA peb kB peb kind r\n",
      "n1: doing L 2121 kA peb kB peb kind r\n",
      "n1: doing L 2141 kA peb kB peb kind r\n",
      "n1: doing L 2161 kA peb kB peb kind r\n",
      "n1: doing L 2181 kA peb kB peb kind r\n",
      "n1: doing L 2201 kA peb kB peb kind r\n",
      "n1: doing L 2221 kA peb kB peb kind r\n",
      "n1: doing L 2241 kA peb kB peb kind r\n",
      "n1: doing L 2261 kA peb kB peb kind r\n",
      "n1: doing L 2281 kA peb kB peb kind r\n",
      "n1: doing L 2301 kA peb kB peb kind r\n",
      "n1: doing L 2321 kA peb kB peb kind r\n",
      "n1: doing L 2341 kA peb kB peb kind r\n",
      "n1: doing L 2361 kA peb kB peb kind r\n",
      "n1: doing L 2381 kA peb kB peb kind r\n",
      "n1: doing L 2401 kA peb kB peb kind r\n",
      "n1: doing L 2421 kA peb kB peb kind r\n",
      "n1: doing L 2441 kA peb kB peb kind r\n",
      "n1: doing L 2461 kA peb kB peb kind r\n",
      "n1: doing L 2481 kA peb kB peb kind r\n",
      "n1: doing L 2501 kA peb kB peb kind r\n",
      "n1: doing L 2521 kA peb kB peb kind r\n",
      "n1: doing L 2541 kA peb kB peb kind r\n",
      "n1: doing L 2561 kA peb kB peb kind r\n",
      "n1: doing L 2581 kA peb kB peb kind r\n",
      "n1: doing L 2601 kA peb kB peb kind r\n",
      "n1: doing L 2621 kA peb kB peb kind r\n",
      "n1: doing L 2641 kA peb kB peb kind r\n",
      "n1: doing L 2661 kA peb kB peb kind r\n",
      "n1: doing L 2681 kA peb kB peb kind r\n",
      "n1: doing L 2701 kA peb kB peb kind r\n",
      "n1: doing L 2721 kA peb kB peb kind r\n",
      "n1: doing L 2741 kA peb kB peb kind r\n",
      "n1: doing L 2761 kA peb kB peb kind r\n",
      "n1: doing L 2781 kA peb kB peb kind r\n",
      "n1: doing L 2801 kA peb kB peb kind r\n",
      "n1: doing L 2821 kA peb kB peb kind r\n",
      "n1: doing L 2841 kA peb kB peb kind r\n",
      "n1: doing L 2861 kA peb kB peb kind r\n",
      "n1: doing L 2881 kA peb kB peb kind r\n",
      "n1: doing L 2901 kA peb kB peb kind r\n",
      "n1: doing L 2921 kA peb kB peb kind r\n",
      "n1: doing L 2941 kA peb kB peb kind r\n",
      "n1: doing L 2961 kA peb kB peb kind r\n",
      "n1: doing L 2981 kA peb kB peb kind r\n",
      "n1: doing L 3000 kA peb kB peb kind r\n"
     ]
    }
   ],
   "source": [
    "n1aa = n1_dd.get_n1('peb', 'r', claa[:4001], ftl, fel, fbl, 3000)"
   ]
  },
  {
   "cell_type": "code",
   "execution_count": 52,
   "id": "c4399715-d3d3-4623-8c92-1cd635215cf7",
   "metadata": {},
   "outputs": [
    {
     "data": {
      "text/plain": [
       "<matplotlib.legend.Legend at 0x720107f98cd0>"
      ]
     },
     "execution_count": 52,
     "metadata": {},
     "output_type": "execute_result"
    },
    {
     "data": {
      "image/png": "[encoded data removed]",
      "text/plain": [
       "<Figure size 640x480 with 1 Axes>"
      ]
     },
     "metadata": {},
     "output_type": "display_data"
    }
   ],
   "source": [
    "Ls = np.arange(5, ellmax+1, 20)\n",
    "frac_bias=((N0s['p_p'])**2*n1aa)[2:]/clpp[2:]\n",
    "plt.plot(ls[2:], pi*frac_bias, label='cal')\n",
    "plt.plot(Ls, n1aa_sim[Ls]/clpp[Ls], label='n1aa sim')\n",
    "plt.legend()"
   ]
  },
  {
   "cell_type": "code",
   "execution_count": 18,
   "id": "52c9c1db-b927-4381-b92b-c44eb0b02f1c",
   "metadata": {
    "collapsed": false,
    "jupyter": {
     "outputs_hidden": false
    }
   },
   "outputs": [
    {
     "name": "stdout",
     "output_type": "stream",
     "text": [
      "n1: doing L 3 kA peb kB peb kind p\n"
     ]
    },
    {
     "name": "stdout",
     "output_type": "stream",
     "text": [
      "n1: doing L 4 kA peb kB peb kind p\n"
     ]
    },
    {
     "name": "stdout",
     "output_type": "stream",
     "text": [
      "n1: doing L 5 kA peb kB peb kind p\n"
     ]
    },
    {
     "name": "stdout",
     "output_type": "stream",
     "text": [
      "n1: doing L 6 kA peb kB peb kind p\n"
     ]
    },
    {
     "name": "stdout",
     "output_type": "stream",
     "text": [
      "n1: doing L 7 kA peb kB peb kind p\n"
     ]
    },
    {
     "name": "stdout",
     "output_type": "stream",
     "text": [
      "n1: doing L 8 kA peb kB peb kind p\n"
     ]
    },
    {
     "name": "stdout",
     "output_type": "stream",
     "text": [
      "n1: doing L 9 kA peb kB peb kind p\n"
     ]
    },
    {
     "name": "stdout",
     "output_type": "stream",
     "text": [
      "n1: doing L 10 kA peb kB peb kind p\n"
     ]
    },
    {
     "name": "stdout",
     "output_type": "stream",
     "text": [
      "n1: doing L 21 kA peb kB peb kind p\n"
     ]
    },
    {
     "name": "stdout",
     "output_type": "stream",
     "text": [
      "n1: doing L 41 kA peb kB peb kind p\n"
     ]
    },
    {
     "name": "stdout",
     "output_type": "stream",
     "text": [
      "n1: doing L 61 kA peb kB peb kind p\n"
     ]
    },
    {
     "name": "stdout",
     "output_type": "stream",
     "text": [
      "n1: doing L 81 kA peb kB peb kind p\n"
     ]
    },
    {
     "name": "stdout",
     "output_type": "stream",
     "text": [
      "n1: doing L 101 kA peb kB peb kind p\n"
     ]
    },
    {
     "name": "stdout",
     "output_type": "stream",
     "text": [
      "n1: doing L 121 kA peb kB peb kind p\n"
     ]
    },
    {
     "name": "stdout",
     "output_type": "stream",
     "text": [
      "n1: doing L 141 kA peb kB peb kind p\n"
     ]
    },
    {
     "name": "stdout",
     "output_type": "stream",
     "text": [
      "n1: doing L 161 kA peb kB peb kind p\n"
     ]
    },
    {
     "name": "stdout",
     "output_type": "stream",
     "text": [
      "n1: doing L 181 kA peb kB peb kind p\n"
     ]
    },
    {
     "name": "stdout",
     "output_type": "stream",
     "text": [
      "n1: doing L 201 kA peb kB peb kind p\n"
     ]
    },
    {
     "name": "stdout",
     "output_type": "stream",
     "text": [
      "n1: doing L 221 kA peb kB peb kind p\n"
     ]
    },
    {
     "name": "stdout",
     "output_type": "stream",
     "text": [
      "n1: doing L 241 kA peb kB peb kind p\n"
     ]
    },
    {
     "name": "stdout",
     "output_type": "stream",
     "text": [
      "n1: doing L 261 kA peb kB peb kind p\n"
     ]
    },
    {
     "name": "stdout",
     "output_type": "stream",
     "text": [
      "n1: doing L 281 kA peb kB peb kind p\n"
     ]
    },
    {
     "name": "stdout",
     "output_type": "stream",
     "text": [
      "n1: doing L 301 kA peb kB peb kind p\n"
     ]
    },
    {
     "name": "stdout",
     "output_type": "stream",
     "text": [
      "n1: doing L 321 kA peb kB peb kind p\n"
     ]
    },
    {
     "name": "stdout",
     "output_type": "stream",
     "text": [
      "n1: doing L 341 kA peb kB peb kind p\n"
     ]
    },
    {
     "name": "stdout",
     "output_type": "stream",
     "text": [
      "n1: doing L 361 kA peb kB peb kind p\n"
     ]
    },
    {
     "name": "stdout",
     "output_type": "stream",
     "text": [
      "n1: doing L 381 kA peb kB peb kind p\n"
     ]
    },
    {
     "name": "stdout",
     "output_type": "stream",
     "text": [
      "n1: doing L 401 kA peb kB peb kind p\n"
     ]
    },
    {
     "name": "stdout",
     "output_type": "stream",
     "text": [
      "n1: doing L 421 kA peb kB peb kind p\n"
     ]
    },
    {
     "name": "stdout",
     "output_type": "stream",
     "text": [
      "n1: doing L 441 kA peb kB peb kind p\n"
     ]
    },
    {
     "name": "stdout",
     "output_type": "stream",
     "text": [
      "n1: doing L 461 kA peb kB peb kind p\n"
     ]
    },
    {
     "name": "stdout",
     "output_type": "stream",
     "text": [
      "n1: doing L 481 kA peb kB peb kind p\n"
     ]
    },
    {
     "name": "stdout",
     "output_type": "stream",
     "text": [
      "n1: doing L 501 kA peb kB peb kind p\n"
     ]
    },
    {
     "name": "stdout",
     "output_type": "stream",
     "text": [
      "n1: doing L 521 kA peb kB peb kind p\n"
     ]
    },
    {
     "name": "stdout",
     "output_type": "stream",
     "text": [
      "n1: doing L 541 kA peb kB peb kind p\n"
     ]
    },
    {
     "name": "stdout",
     "output_type": "stream",
     "text": [
      "n1: doing L 561 kA peb kB peb kind p\n"
     ]
    },
    {
     "name": "stdout",
     "output_type": "stream",
     "text": [
      "n1: doing L 581 kA peb kB peb kind p\n"
     ]
    },
    {
     "name": "stdout",
     "output_type": "stream",
     "text": [
      "n1: doing L 601 kA peb kB peb kind p\n"
     ]
    },
    {
     "name": "stdout",
     "output_type": "stream",
     "text": [
      "n1: doing L 621 kA peb kB peb kind p\n"
     ]
    },
    {
     "name": "stdout",
     "output_type": "stream",
     "text": [
      "n1: doing L 641 kA peb kB peb kind p\n"
     ]
    },
    {
     "name": "stdout",
     "output_type": "stream",
     "text": [
      "n1: doing L 661 kA peb kB peb kind p\n"
     ]
    },
    {
     "name": "stdout",
     "output_type": "stream",
     "text": [
      "n1: doing L 681 kA peb kB peb kind p\n"
     ]
    },
    {
     "name": "stdout",
     "output_type": "stream",
     "text": [
      "n1: doing L 701 kA peb kB peb kind p\n"
     ]
    },
    {
     "name": "stdout",
     "output_type": "stream",
     "text": [
      "n1: doing L 721 kA peb kB peb kind p\n"
     ]
    },
    {
     "name": "stdout",
     "output_type": "stream",
     "text": [
      "n1: doing L 741 kA peb kB peb kind p\n"
     ]
    },
    {
     "name": "stdout",
     "output_type": "stream",
     "text": [
      "n1: doing L 761 kA peb kB peb kind p\n"
     ]
    },
    {
     "name": "stdout",
     "output_type": "stream",
     "text": [
      "n1: doing L 781 kA peb kB peb kind p\n"
     ]
    },
    {
     "name": "stdout",
     "output_type": "stream",
     "text": [
      "n1: doing L 801 kA peb kB peb kind p\n"
     ]
    },
    {
     "name": "stdout",
     "output_type": "stream",
     "text": [
      "n1: doing L 821 kA peb kB peb kind p\n"
     ]
    },
    {
     "name": "stdout",
     "output_type": "stream",
     "text": [
      "n1: doing L 841 kA peb kB peb kind p\n"
     ]
    },
    {
     "name": "stdout",
     "output_type": "stream",
     "text": [
      "n1: doing L 861 kA peb kB peb kind p\n"
     ]
    },
    {
     "name": "stdout",
     "output_type": "stream",
     "text": [
      "n1: doing L 881 kA peb kB peb kind p\n"
     ]
    },
    {
     "name": "stdout",
     "output_type": "stream",
     "text": [
      "n1: doing L 901 kA peb kB peb kind p\n"
     ]
    },
    {
     "name": "stdout",
     "output_type": "stream",
     "text": [
      "n1: doing L 921 kA peb kB peb kind p\n"
     ]
    },
    {
     "name": "stdout",
     "output_type": "stream",
     "text": [
      "n1: doing L 941 kA peb kB peb kind p\n"
     ]
    },
    {
     "name": "stdout",
     "output_type": "stream",
     "text": [
      "n1: doing L 961 kA peb kB peb kind p\n"
     ]
    },
    {
     "name": "stdout",
     "output_type": "stream",
     "text": [
      "n1: doing L 981 kA peb kB peb kind p\n"
     ]
    },
    {
     "name": "stdout",
     "output_type": "stream",
     "text": [
      "n1: doing L 1001 kA peb kB peb kind p\n"
     ]
    },
    {
     "name": "stdout",
     "output_type": "stream",
     "text": [
      "n1: doing L 1021 kA peb kB peb kind p\n"
     ]
    },
    {
     "name": "stdout",
     "output_type": "stream",
     "text": [
      "n1: doing L 1041 kA peb kB peb kind p\n"
     ]
    },
    {
     "name": "stdout",
     "output_type": "stream",
     "text": [
      "n1: doing L 1061 kA peb kB peb kind p\n"
     ]
    },
    {
     "name": "stdout",
     "output_type": "stream",
     "text": [
      "n1: doing L 1081 kA peb kB peb kind p\n"
     ]
    },
    {
     "name": "stdout",
     "output_type": "stream",
     "text": [
      "n1: doing L 1101 kA peb kB peb kind p\n"
     ]
    },
    {
     "name": "stdout",
     "output_type": "stream",
     "text": [
      "n1: doing L 1121 kA peb kB peb kind p\n"
     ]
    },
    {
     "name": "stdout",
     "output_type": "stream",
     "text": [
      "n1: doing L 1141 kA peb kB peb kind p\n"
     ]
    },
    {
     "name": "stdout",
     "output_type": "stream",
     "text": [
      "n1: doing L 1161 kA peb kB peb kind p\n"
     ]
    },
    {
     "name": "stdout",
     "output_type": "stream",
     "text": [
      "n1: doing L 1181 kA peb kB peb kind p\n"
     ]
    },
    {
     "name": "stdout",
     "output_type": "stream",
     "text": [
      "n1: doing L 1201 kA peb kB peb kind p\n"
     ]
    },
    {
     "name": "stdout",
     "output_type": "stream",
     "text": [
      "n1: doing L 1221 kA peb kB peb kind p\n"
     ]
    },
    {
     "name": "stdout",
     "output_type": "stream",
     "text": [
      "n1: doing L 1241 kA peb kB peb kind p\n"
     ]
    },
    {
     "name": "stdout",
     "output_type": "stream",
     "text": [
      "n1: doing L 1261 kA peb kB peb kind p\n"
     ]
    },
    {
     "name": "stdout",
     "output_type": "stream",
     "text": [
      "n1: doing L 1281 kA peb kB peb kind p\n"
     ]
    },
    {
     "name": "stdout",
     "output_type": "stream",
     "text": [
      "n1: doing L 1301 kA peb kB peb kind p\n"
     ]
    },
    {
     "name": "stdout",
     "output_type": "stream",
     "text": [
      "n1: doing L 1321 kA peb kB peb kind p\n"
     ]
    },
    {
     "name": "stdout",
     "output_type": "stream",
     "text": [
      "n1: doing L 1341 kA peb kB peb kind p\n"
     ]
    },
    {
     "name": "stdout",
     "output_type": "stream",
     "text": [
      "n1: doing L 1361 kA peb kB peb kind p\n"
     ]
    },
    {
     "name": "stdout",
     "output_type": "stream",
     "text": [
      "n1: doing L 1381 kA peb kB peb kind p\n"
     ]
    },
    {
     "name": "stdout",
     "output_type": "stream",
     "text": [
      "n1: doing L 1401 kA peb kB peb kind p\n"
     ]
    },
    {
     "name": "stdout",
     "output_type": "stream",
     "text": [
      "n1: doing L 1421 kA peb kB peb kind p\n"
     ]
    },
    {
     "name": "stdout",
     "output_type": "stream",
     "text": [
      "n1: doing L 1441 kA peb kB peb kind p\n"
     ]
    },
    {
     "name": "stdout",
     "output_type": "stream",
     "text": [
      "n1: doing L 1461 kA peb kB peb kind p\n"
     ]
    },
    {
     "name": "stdout",
     "output_type": "stream",
     "text": [
      "n1: doing L 1481 kA peb kB peb kind p\n"
     ]
    },
    {
     "name": "stdout",
     "output_type": "stream",
     "text": [
      "n1: doing L 1501 kA peb kB peb kind p\n"
     ]
    },
    {
     "name": "stdout",
     "output_type": "stream",
     "text": [
      "n1: doing L 1521 kA peb kB peb kind p\n"
     ]
    },
    {
     "name": "stdout",
     "output_type": "stream",
     "text": [
      "n1: doing L 1541 kA peb kB peb kind p\n"
     ]
    },
    {
     "name": "stdout",
     "output_type": "stream",
     "text": [
      "n1: doing L 1561 kA peb kB peb kind p\n"
     ]
    },
    {
     "name": "stdout",
     "output_type": "stream",
     "text": [
      "n1: doing L 1581 kA peb kB peb kind p\n"
     ]
    },
    {
     "name": "stdout",
     "output_type": "stream",
     "text": [
      "n1: doing L 1601 kA peb kB peb kind p\n"
     ]
    },
    {
     "name": "stdout",
     "output_type": "stream",
     "text": [
      "n1: doing L 1621 kA peb kB peb kind p\n"
     ]
    },
    {
     "name": "stdout",
     "output_type": "stream",
     "text": [
      "n1: doing L 1641 kA peb kB peb kind p\n"
     ]
    },
    {
     "name": "stdout",
     "output_type": "stream",
     "text": [
      "n1: doing L 1661 kA peb kB peb kind p\n"
     ]
    },
    {
     "name": "stdout",
     "output_type": "stream",
     "text": [
      "n1: doing L 1681 kA peb kB peb kind p\n"
     ]
    },
    {
     "name": "stdout",
     "output_type": "stream",
     "text": [
      "n1: doing L 1701 kA peb kB peb kind p\n"
     ]
    },
    {
     "name": "stdout",
     "output_type": "stream",
     "text": [
      "n1: doing L 1721 kA peb kB peb kind p\n"
     ]
    },
    {
     "name": "stdout",
     "output_type": "stream",
     "text": [
      "n1: doing L 1741 kA peb kB peb kind p\n"
     ]
    },
    {
     "name": "stdout",
     "output_type": "stream",
     "text": [
      "n1: doing L 1761 kA peb kB peb kind p\n"
     ]
    },
    {
     "name": "stdout",
     "output_type": "stream",
     "text": [
      "n1: doing L 1781 kA peb kB peb kind p\n"
     ]
    },
    {
     "name": "stdout",
     "output_type": "stream",
     "text": [
      "n1: doing L 1801 kA peb kB peb kind p\n"
     ]
    },
    {
     "name": "stdout",
     "output_type": "stream",
     "text": [
      "n1: doing L 1821 kA peb kB peb kind p\n"
     ]
    },
    {
     "name": "stdout",
     "output_type": "stream",
     "text": [
      "n1: doing L 1841 kA peb kB peb kind p\n"
     ]
    },
    {
     "name": "stdout",
     "output_type": "stream",
     "text": [
      "n1: doing L 1861 kA peb kB peb kind p\n"
     ]
    },
    {
     "name": "stdout",
     "output_type": "stream",
     "text": [
      "n1: doing L 1881 kA peb kB peb kind p\n"
     ]
    },
    {
     "name": "stdout",
     "output_type": "stream",
     "text": [
      "n1: doing L 1901 kA peb kB peb kind p\n"
     ]
    },
    {
     "name": "stdout",
     "output_type": "stream",
     "text": [
      "n1: doing L 1921 kA peb kB peb kind p\n"
     ]
    },
    {
     "name": "stdout",
     "output_type": "stream",
     "text": [
      "n1: doing L 1941 kA peb kB peb kind p\n"
     ]
    },
    {
     "name": "stdout",
     "output_type": "stream",
     "text": [
      "n1: doing L 1961 kA peb kB peb kind p\n"
     ]
    },
    {
     "name": "stdout",
     "output_type": "stream",
     "text": [
      "n1: doing L 1981 kA peb kB peb kind p\n"
     ]
    },
    {
     "name": "stdout",
     "output_type": "stream",
     "text": [
      "n1: doing L 2001 kA peb kB peb kind p\n"
     ]
    },
    {
     "name": "stdout",
     "output_type": "stream",
     "text": [
      "n1: doing L 2021 kA peb kB peb kind p\n"
     ]
    },
    {
     "name": "stdout",
     "output_type": "stream",
     "text": [
      "n1: doing L 2041 kA peb kB peb kind p\n"
     ]
    },
    {
     "name": "stdout",
     "output_type": "stream",
     "text": [
      "n1: doing L 2061 kA peb kB peb kind p\n"
     ]
    },
    {
     "name": "stdout",
     "output_type": "stream",
     "text": [
      "n1: doing L 2081 kA peb kB peb kind p\n"
     ]
    },
    {
     "name": "stdout",
     "output_type": "stream",
     "text": [
      "n1: doing L 2101 kA peb kB peb kind p\n"
     ]
    },
    {
     "name": "stdout",
     "output_type": "stream",
     "text": [
      "n1: doing L 2121 kA peb kB peb kind p\n"
     ]
    },
    {
     "name": "stdout",
     "output_type": "stream",
     "text": [
      "n1: doing L 2141 kA peb kB peb kind p\n"
     ]
    },
    {
     "name": "stdout",
     "output_type": "stream",
     "text": [
      "n1: doing L 2161 kA peb kB peb kind p\n"
     ]
    },
    {
     "name": "stdout",
     "output_type": "stream",
     "text": [
      "n1: doing L 2181 kA peb kB peb kind p\n"
     ]
    },
    {
     "name": "stdout",
     "output_type": "stream",
     "text": [
      "n1: doing L 2201 kA peb kB peb kind p\n"
     ]
    },
    {
     "name": "stdout",
     "output_type": "stream",
     "text": [
      "n1: doing L 2221 kA peb kB peb kind p\n"
     ]
    },
    {
     "name": "stdout",
     "output_type": "stream",
     "text": [
      "n1: doing L 2241 kA peb kB peb kind p\n"
     ]
    },
    {
     "name": "stdout",
     "output_type": "stream",
     "text": [
      "n1: doing L 2261 kA peb kB peb kind p\n"
     ]
    },
    {
     "name": "stdout",
     "output_type": "stream",
     "text": [
      "n1: doing L 2281 kA peb kB peb kind p\n"
     ]
    },
    {
     "name": "stdout",
     "output_type": "stream",
     "text": [
      "n1: doing L 2301 kA peb kB peb kind p\n"
     ]
    },
    {
     "name": "stdout",
     "output_type": "stream",
     "text": [
      "n1: doing L 2321 kA peb kB peb kind p\n"
     ]
    },
    {
     "name": "stdout",
     "output_type": "stream",
     "text": [
      "n1: doing L 2341 kA peb kB peb kind p\n"
     ]
    },
    {
     "name": "stdout",
     "output_type": "stream",
     "text": [
      "n1: doing L 2361 kA peb kB peb kind p\n"
     ]
    },
    {
     "name": "stdout",
     "output_type": "stream",
     "text": [
      "n1: doing L 2381 kA peb kB peb kind p\n"
     ]
    },
    {
     "name": "stdout",
     "output_type": "stream",
     "text": [
      "n1: doing L 2401 kA peb kB peb kind p\n"
     ]
    },
    {
     "name": "stdout",
     "output_type": "stream",
     "text": [
      "n1: doing L 2421 kA peb kB peb kind p\n"
     ]
    },
    {
     "name": "stdout",
     "output_type": "stream",
     "text": [
      "n1: doing L 2441 kA peb kB peb kind p\n"
     ]
    },
    {
     "name": "stdout",
     "output_type": "stream",
     "text": [
      "n1: doing L 2461 kA peb kB peb kind p\n"
     ]
    },
    {
     "name": "stdout",
     "output_type": "stream",
     "text": [
      "n1: doing L 2481 kA peb kB peb kind p\n"
     ]
    },
    {
     "name": "stdout",
     "output_type": "stream",
     "text": [
      "n1: doing L 2501 kA peb kB peb kind p\n"
     ]
    },
    {
     "name": "stdout",
     "output_type": "stream",
     "text": [
      "n1: doing L 2521 kA peb kB peb kind p\n"
     ]
    },
    {
     "name": "stdout",
     "output_type": "stream",
     "text": [
      "n1: doing L 2541 kA peb kB peb kind p\n"
     ]
    },
    {
     "name": "stdout",
     "output_type": "stream",
     "text": [
      "n1: doing L 2561 kA peb kB peb kind p\n"
     ]
    },
    {
     "name": "stdout",
     "output_type": "stream",
     "text": [
      "n1: doing L 2581 kA peb kB peb kind p\n"
     ]
    },
    {
     "name": "stdout",
     "output_type": "stream",
     "text": [
      "n1: doing L 2601 kA peb kB peb kind p\n"
     ]
    },
    {
     "name": "stdout",
     "output_type": "stream",
     "text": [
      "n1: doing L 2621 kA peb kB peb kind p\n"
     ]
    },
    {
     "name": "stdout",
     "output_type": "stream",
     "text": [
      "n1: doing L 2641 kA peb kB peb kind p\n"
     ]
    },
    {
     "name": "stdout",
     "output_type": "stream",
     "text": [
      "n1: doing L 2661 kA peb kB peb kind p\n"
     ]
    },
    {
     "name": "stdout",
     "output_type": "stream",
     "text": [
      "n1: doing L 2681 kA peb kB peb kind p\n"
     ]
    },
    {
     "name": "stdout",
     "output_type": "stream",
     "text": [
      "n1: doing L 2701 kA peb kB peb kind p\n"
     ]
    },
    {
     "name": "stdout",
     "output_type": "stream",
     "text": [
      "n1: doing L 2721 kA peb kB peb kind p\n"
     ]
    },
    {
     "name": "stdout",
     "output_type": "stream",
     "text": [
      "n1: doing L 2741 kA peb kB peb kind p\n"
     ]
    },
    {
     "name": "stdout",
     "output_type": "stream",
     "text": [
      "n1: doing L 2761 kA peb kB peb kind p\n"
     ]
    },
    {
     "name": "stdout",
     "output_type": "stream",
     "text": [
      "n1: doing L 2781 kA peb kB peb kind p\n"
     ]
    },
    {
     "name": "stdout",
     "output_type": "stream",
     "text": [
      "n1: doing L 2801 kA peb kB peb kind p\n"
     ]
    },
    {
     "name": "stdout",
     "output_type": "stream",
     "text": [
      "n1: doing L 2821 kA peb kB peb kind p\n"
     ]
    },
    {
     "name": "stdout",
     "output_type": "stream",
     "text": [
      "n1: doing L 2841 kA peb kB peb kind p\n"
     ]
    },
    {
     "name": "stdout",
     "output_type": "stream",
     "text": [
      "n1: doing L 2861 kA peb kB peb kind p\n"
     ]
    },
    {
     "name": "stdout",
     "output_type": "stream",
     "text": [
      "n1: doing L 2881 kA peb kB peb kind p\n"
     ]
    },
    {
     "name": "stdout",
     "output_type": "stream",
     "text": [
      "n1: doing L 2901 kA peb kB peb kind p\n"
     ]
    },
    {
     "name": "stdout",
     "output_type": "stream",
     "text": [
      "n1: doing L 2921 kA peb kB peb kind p\n"
     ]
    },
    {
     "name": "stdout",
     "output_type": "stream",
     "text": [
      "n1: doing L 2941 kA peb kB peb kind p\n"
     ]
    },
    {
     "name": "stdout",
     "output_type": "stream",
     "text": [
      "n1: doing L 2961 kA peb kB peb kind p\n"
     ]
    },
    {
     "name": "stdout",
     "output_type": "stream",
     "text": [
      "n1: doing L 2981 kA peb kB peb kind p\n"
     ]
    },
    {
     "name": "stdout",
     "output_type": "stream",
     "text": [
      "n1: doing L 3000 kA peb kB peb kind p\n"
     ]
    }
   ],
   "source": [
    "# n1pp = n1_dd.get_n1('peb', 'p', clpp, ftl, fel, fbl, ellmax)"
   ]
  },
  {
   "cell_type": "code",
   "execution_count": null,
   "id": "e6e8d324-0137-4362-af50-18322c44ae0c",
   "metadata": {
    "collapsed": false,
    "jupyter": {
     "outputs_hidden": false
    }
   },
   "outputs": [],
   "source": []
  },
  {
   "cell_type": "code",
   "execution_count": null,
   "id": "7c4d2745-c82c-46b7-9f6a-7a748c897d06",
   "metadata": {
    "collapsed": false,
    "jupyter": {
     "outputs_hidden": false
    }
   },
   "outputs": [],
   "source": []
  }
 ],
 "metadata": {
  "kernelspec": {
   "display_name": "Python 3 (ipykernel)",
   "language": "python",
   "name": "python3"
  },
  "language_info": {
   "codemirror_mode": {
    "name": "ipython",
    "version": 3
   },
   "file_extension": ".py",
   "mimetype": "text/x-python",
   "name": "python",
   "nbconvert_exporter": "python",
   "pygments_lexer": "ipython3",
   "version": "3.11.5"
  },
  "name": "test_N1aa.ipynb"
 },
 "nbformat": 4,
 "nbformat_minor": 5
}
