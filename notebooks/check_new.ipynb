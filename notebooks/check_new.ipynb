{
 "cells": [
  {
   "cell_type": "code",
   "execution_count": 26,
   "id": "8e366c13-8cb3-4118-b27e-a68d63ff7520",
   "metadata": {},
   "outputs": [],
   "source": [
    "import numpy as np\n",
    "import curvedsky\n",
    "import matplotlib.pyplot as plt\n",
    "from math import pi\n",
    "import pandas as pd\n",
    "import matplotlib as mpl"
   ]
  },
  {
   "cell_type": "code",
   "execution_count": 27,
   "id": "ec2c81b9-6d61-4906-94f1-792ce1b105b2",
   "metadata": {},
   "outputs": [],
   "source": [
    "Lmax = 3000\n",
    "Ls = np.arange(0, Lmax+1)\n",
    "clpp = np.loadtxt('../inputPs/cosmo2017_10K_acc3_lenspotentialCls.dat', usecols=5, unpack=True)\n",
    "clpp = np.concatenate(([0,0],clpp))\n",
    "clkk = 2*pi/4*clpp[Ls]\n",
    "mpl.rcParams['font.size']=12"
   ]
  },
  {
   "cell_type": "code",
   "execution_count": 34,
   "id": "d7888bc3-230e-4f6f-b699-25c5a1321c1d",
   "metadata": {},
   "outputs": [],
   "source": [
    "reckap_cl = pd.read_csv('../output/recon_ps/reckap_cl_CMBLensedRot_fullsky_alm_000.csv')"
   ]
  },
  {
   "cell_type": "code",
   "execution_count": 35,
   "id": "d36c6f9e-cf56-4e79-9c1d-c99de02ac3d9",
   "metadata": {},
   "outputs": [
    {
     "data": {
      "text/plain": [
       "<matplotlib.legend.Legend at 0x155528e445d0>"
      ]
     },
     "execution_count": 35,
     "metadata": {},
     "output_type": "execute_result"
    },
    {
     "data": {
      "image/png": "[encoded data removed]",
      "text/plain": [
       "<Figure size 432x288 with 1 Axes>"
      ]
     },
     "metadata": {
      "needs_background": "light"
     },
     "output_type": "display_data"
    }
   ],
   "source": [
    "plt.plot(Ls, clkk, label='theory')\n",
    "plt.plot(Ls, reckap_cl['reckap_cl'][Ls], label='reckap cl')\n",
    "# plt.plot(Ls, reckap_cl['cross_cl'][Ls], label='cross cl')\n",
    "plt.plot(Ls, reckap_cl['cross_cl'][Ls]+reckap_cl['rdn0'][Ls], label='cross cl + rnd0')\n",
    "\n",
    "plt.xscale('log')\n",
    "plt.yscale('log')\n",
    "plt.xlabel('L')\n",
    "plt.ylabel('$C_L^{\\kappa\\kappa}$')\n",
    "plt.legend()"
   ]
  },
  {
   "cell_type": "code",
   "execution_count": 5,
   "id": "32f20619-b747-4017-a442-0853c5b9e3f8",
   "metadata": {},
   "outputs": [],
   "source": [
    "# reckap_alm = np.load('../src/reckap_alm.npy')\n",
    "# reckap_cl = curvedsky.utils.alm2cl(Lmax, reckap_alm)\n",
    "# # lens_fac = Ls*(Ls+1)/2\n",
    "# plt.plot(Ls, reckap_cl)\n",
    "# plt.plot(Ls, test_reckap_cl['reckap_cl'][Ls])\n",
    "# plt.plot(Ls, test_reckap_cl['cross_cl'][Ls])\n",
    "# plt.plot(Ls, clkk)\n",
    "# plt.xscale('log')\n",
    "# plt.yscale('log')"
   ]
  },
  {
   "cell_type": "code",
   "execution_count": 6,
   "id": "25c97c2d-ab30-4871-a3b4-7d33cfc7c79e",
   "metadata": {},
   "outputs": [],
   "source": [
    "a = '/global/cscratch1/sd/hongbo/lens_rot_bias/Maps/CMBLensed_fullsky_alm_000.fits'"
   ]
  },
  {
   "cell_type": "code",
   "execution_count": 7,
   "id": "7e405499-57c2-4294-a170-eb9b62c28f4d",
   "metadata": {},
   "outputs": [],
   "source": [
    "import re"
   ]
  },
  {
   "cell_type": "code",
   "execution_count": 8,
   "id": "80eddf1b-cf79-4e71-a381-60b3906f8b97",
   "metadata": {},
   "outputs": [],
   "source": [
    "# b = re.split('Maps|/|.fits',a)\n",
    "# b"
   ]
  },
  {
   "cell_type": "code",
   "execution_count": 12,
   "id": "6a7fa86e-ff07-4482-af3d-1a92c7fcd143",
   "metadata": {},
   "outputs": [
    {
     "data": {
      "text/plain": [
       "['',\n",
       " 'global',\n",
       " 'cscratch1',\n",
       " 'sd',\n",
       " 'hongbo',\n",
       " 'lens_rot_bias',\n",
       " 'Maps',\n",
       " 'CMBLensed_fullsky_',\n",
       " '000',\n",
       " '']"
      ]
     },
     "execution_count": 12,
     "metadata": {},
     "output_type": "execute_result"
    }
   ],
   "source": [
    "b = re.split('alm_|/|.fits',a)\n",
    "b"
   ]
  },
  {
   "cell_type": "code",
   "execution_count": 13,
   "id": "106bd0b3-6bc2-47c4-b06f-d269d0692af8",
   "metadata": {},
   "outputs": [
    {
     "data": {
      "text/plain": [
       "'000'"
      ]
     },
     "execution_count": 13,
     "metadata": {},
     "output_type": "execute_result"
    }
   ],
   "source": [
    "b[-2]"
   ]
  },
  {
   "cell_type": "code",
   "execution_count": null,
   "id": "7056d8dc-f745-4ec0-aceb-543bc9ae7389",
   "metadata": {},
   "outputs": [],
   "source": []
  }
 ],
 "metadata": {
  "kernelspec": {
   "display_name": "myenv-jupyter",
   "language": "python",
   "name": "myenv-jupyter"
  },
  "language_info": {
   "codemirror_mode": {
    "name": "ipython",
    "version": 3
   },
   "file_extension": ".py",
   "mimetype": "text/x-python",
   "name": "python",
   "nbconvert_exporter": "python",
   "pygments_lexer": "ipython3",
   "version": "3.7.9"
  }
 },
 "nbformat": 4,
 "nbformat_minor": 5
}
