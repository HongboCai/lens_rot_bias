{
 "cells": [
  {
   "cell_type": "code",
   "execution_count": 2,
   "id": "ccd2a838-02e4-481a-8b4a-bbdccec36b45",
   "metadata": {},
   "outputs": [],
   "source": [
    "import os\n",
    "import numpy as np\n",
    "import healpy as hp\n",
    "import matplotlib.pyplot as plt\n",
    "\n",
    "import plancklens\n",
    "from plancklens import utils\n",
    "from plancklens import nhl\n",
    "from plancklens.n1 import n1\n",
    "from plancklens import qest, qecl, qresp\n",
    "import orphics\n",
    "from orphics import maps, cosmology\n",
    "import pandas as pd\n",
    "\n",
    "import symlens as s\n",
    "import pixell\n",
    "from pixell import enmap, curvedsky"
   ]
  },
  {
   "cell_type": "code",
   "execution_count": 27,
   "id": "e8e8ed39-8e6a-4dda-aaa7-714de5c91c11",
   "metadata": {},
   "outputs": [],
   "source": [
    "theory = cosmology.default_theory()\n",
    "ells = np.arange(0, 6001, 1)\n",
    "clee = theory.lCl('EE', ells)\n",
    "clbb = theory.lCl('BB', ells)\n",
    "clpp_fid =  utils.camb_clfile(os.path.join(cls_path, 'FFP10_wdipole_lenspotentialCls.dat'))['pp']"
   ]
  },
  {
   "cell_type": "code",
   "execution_count": 26,
   "id": "9046a9fa-0ebf-46d1-a495-79ccbb75ecde",
   "metadata": {},
   "outputs": [],
   "source": [
    "class bin1D(object):\n",
    "    def __init__(self, ls, bin_edges):\n",
    "        self.centers = (bin_edges[1:]+bin_edges[:-1])/2.\n",
    "        self.digitized = np.digitize(ls, bin_edges,right=True)\n",
    "        self.bin_edges = bin_edges\n",
    "    def bin(self,data1d,weights=None):\n",
    "        if weights is None:\n",
    "            res = np.bincount(self.digitized,(data1d).reshape(-1))[1:-1]/np.bincount(self.digitized)[1:-1]\n",
    "        else:\n",
    "            res = np.bincount(self.digitized,(data1d*weights).reshape(-1))[1:-1]/np.bincount(self.digitized,weights.reshape(-1))[1:-1]\n",
    "        return self.centers,res"
   ]
  },
  {
   "cell_type": "code",
   "execution_count": 5,
   "id": "7aa5e811-9c32-41a3-aedf-f3eae5e911ec",
   "metadata": {},
   "outputs": [],
   "source": [
    "def binave(map, modlmap, ellmin, ellmax, delta_l):\n",
    "    bin_edges = np.arange(ellmin, ellmax+delta_l+1, delta_l)\n",
    "    binner = s.utils.bin2D(modlmap, bin_edges)\n",
    "\n",
    "    centers, p1d = binner.bin(map)\n",
    "    return centers, p1d"
   ]
  },
  {
   "cell_type": "code",
   "execution_count": 65,
   "id": "99b8e8f8-f2d9-48ea-803d-d3c692f10b31",
   "metadata": {},
   "outputs": [],
   "source": [
    "exps_config = {\n",
    "    'CMB_S3': {\n",
    "        'nlev_t': 7,\n",
    "        'nlev_p': 7*2**0.5,\n",
    "        'beam_arcmin': 1.4\n",
    "    },\n",
    "    'CMB_S4': {\n",
    "        'nlev_t': 1,\n",
    "        'nlev_p':2**0.5,\n",
    "        'beam_arcmin': 3\n",
    "    }\n",
    "}\n",
    "\n",
    "exps_config = {\n",
    "    'CMB_S4': {\n",
    "        'nlev_t': 1,\n",
    "        'nlev_p':2**0.5,\n",
    "        'beam_arcmin': 1.4\n",
    "    }\n",
    "}\n",
    "\n",
    "moments = {'moments1':{'ellmin':30, 'ellmax':3000, 'delta_L':150},\\\n",
    "           'moments2':{'ellmin':30, 'ellmax':4000, 'delta_L':200}}\n",
    "ellmin = 30\n",
    "ls = np.arange(0, 6001)"
   ]
  },
  {
   "cell_type": "code",
   "execution_count": 7,
   "id": "edc7a20f-b619-465a-b572-fbe0bed3d2a2",
   "metadata": {},
   "outputs": [],
   "source": [
    "cls_path = os.path.join(os.path.dirname(os.path.abspath(plancklens.__file__)), 'data', 'cls')"
   ]
  },
  {
   "cell_type": "code",
   "execution_count": 8,
   "id": "cbcfd476-f7a1-4641-ab5c-d0faafd25aae",
   "metadata": {},
   "outputs": [
    {
     "name": "stdout",
     "output_type": "stream",
     "text": [
      "[  21   41   61   81  101  121  141  161  181  201  221  241  261  281\n",
      "  301  321  341  361  381  401  421  441  461  481  501  521  541  561\n",
      "  581  601  621  641  661  681  701  721  741  761  781  801  821  841\n",
      "  861  881  901  921  941  961  981 1001 1021 1041 1061 1081 1101 1121\n",
      " 1141 1161 1181 1201 1221 1241 1261 1281 1301 1321 1341 1361 1381 1401\n",
      " 1421 1441 1461 1481 1501 1521 1541 1561 1581 1601 1621 1641 1661 1681\n",
      " 1701 1721 1741 1761 1781 1801 1821 1841 1861 1881 1901 1921 1941 1961\n",
      " 1981 2001 2021 2041 2061 2081 2101 2121 2141 2161 2181 2201 2221 2241\n",
      " 2261 2281 2301 2321 2341 2361 2381 2401 2421 2441 2461 2481 2501 2521\n",
      " 2541 2561 2581 2601 2621 2641 2661 2681 2701 2721 2741 2761 2781 2801\n",
      " 2821 2841 2861 2881 2901 2921 2941 2961 2981]\n"
     ]
    }
   ],
   "source": [
    "ellmaxs = [3000]\n",
    "ellmin_plot = 21\n",
    "ellmax_plot = 3000\n",
    "ells_plot = np.arange(0, ellmax_plot+1)\n",
    "\n",
    "bin_edge = np.arange(ellmin_plot, ellmax_plot, 20)\n",
    "print(bin_edge)"
   ]
  },
  {
   "cell_type": "code",
   "execution_count": 9,
   "id": "54f62538-3865-4e64-8783-c1e43f5ce78b",
   "metadata": {},
   "outputs": [],
   "source": [
    "shape, wcs = enmap.fullsky_geometry(res=4*pixell.utils.arcmin)"
   ]
  },
  {
   "cell_type": "code",
   "execution_count": 10,
   "id": "f7e6ab9b-e22f-4978-abb8-ea27b0e513fd",
   "metadata": {},
   "outputs": [],
   "source": [
    "for exp, param in exps_config.items():\n",
    "    for ellmax in ellmaxs:\n",
    "        feed_dict = {}\n",
    "        map_modlmap = enmap.modlmap(shape, wcs)\n",
    "        kbeam = s.utils.gauss_beam(map_modlmap, param['beam_arcmin'])\n",
    "        n2d = (param['nlev_p']*np.pi/180./60.)**2./kbeam**2.\n",
    "        \n",
    "        feed_dict['uC_E_E'] = s.utils.interp(ells, clee)(map_modlmap)\n",
    "        feed_dict['tC_E_E'] = feed_dict['uC_E_E'] + n2d\n",
    "        feed_dict['tC_B_B'] = n2d\n",
    "        \n",
    "        cmask = s.utils.mask_kspace(shape, wcs, lmin=ellmin, lmax=ellmax)\n",
    "        kmask = s.utils.mask_kspace(shape, wcs, lmin=ellmin, lmax=ellmax)\n",
    "        \n",
    "        norm_k_eb = s.A_l(shape,\n",
    "                       wcs,\n",
    "                       feed_dict,\n",
    "                       \"hu_ok\",\n",
    "                       'EB',\n",
    "                       xmask=cmask,\n",
    "                       ymask=cmask,\n",
    "                       kmask=kmask)\n"
   ]
  },
  {
   "cell_type": "code",
   "execution_count": 11,
   "id": "a4810eea-c6aa-4161-9892-1d5429118d5b",
   "metadata": {},
   "outputs": [],
   "source": [
    "for exp, param in exps_config.items():\n",
    "    for ellmax in ellmaxs:\n",
    "        feed_dict = {}\n",
    "        map_modlmap = enmap.modlmap(shape, wcs)\n",
    "        kbeam = s.utils.gauss_beam(map_modlmap, param['beam_arcmin'])\n",
    "        n2d = (param['nlev_t']*np.pi/180./60.)**2./kbeam**2.\n",
    "        \n",
    "        feed_dict['uC_T_T'] = s.utils.interp(ells, clee)(map_modlmap)\n",
    "        feed_dict['tC_T_T'] = feed_dict['uC_T_T'] + n2d\n",
    "        \n",
    "        cmask = s.utils.mask_kspace(shape, wcs, lmin=ellmin, lmax=ellmax)\n",
    "        kmask = s.utils.mask_kspace(shape, wcs, lmin=ellmin, lmax=ellmax)\n",
    "        \n",
    "        norm_k_tt = s.A_l(shape,\n",
    "                       wcs,\n",
    "                       feed_dict,\n",
    "                       \"hu_ok\",\n",
    "                       'TT',\n",
    "                       xmask=cmask,\n",
    "                       ymask=cmask,\n",
    "                       kmask=kmask)        "
   ]
  },
  {
   "cell_type": "code",
   "execution_count": 103,
   "id": "f4c75f58-9e09-43ec-a943-f492faab2a4e",
   "metadata": {},
   "outputs": [],
   "source": [
    "Ls, norm_tt = binave(norm_k_tt, map_modlmap, ellmin+0.5, ellmax-1, 1)\n",
    "Ls, norm_eb = binave(norm_k_eb, map_modlmap, ellmin+0.5, ellmax-1, 1)"
   ]
  },
  {
   "cell_type": "code",
   "execution_count": 175,
   "id": "b5e09101-b0e5-4bd1-ad4c-c5d73abf09ee",
   "metadata": {},
   "outputs": [
    {
     "data": {
      "text/plain": [
       "<matplotlib.legend.Legend at 0x7f4e5f41f700>"
      ]
     },
     "execution_count": 175,
     "metadata": {},
     "output_type": "execute_result"
    },
    {
     "data": {
      "image/png": "[encoded data removed]",
      "text/plain": [
       "<Figure size 432x288 with 1 Axes>"
      ]
     },
     "metadata": {
      "needs_background": "light"
     },
     "output_type": "display_data"
    }
   ],
   "source": [
    "factor_L = Ls**2*(Ls+1)**2/(2*np.pi)\n",
    "factor = ls**2*(ls+1)**2/(2*np.pi)\n",
    "\n",
    "plt.plot(ls[ellmin_plot:ellmax_plot], (factor*clpp_fid[ls])[ellmin_plot:ellmax_plot], label='Clpp')\n",
    "plt.plot(Ls, factor_L*norm_tt/Ls**2, label='N0 TT')\n",
    "plt.plot(Ls, factor_L*norm_eb/Ls**2, label='N0 EB')\n",
    "plt.yscale('log')\n",
    "plt.xscale('log')\n",
    "plt.legend()"
   ]
  },
  {
   "cell_type": "code",
   "execution_count": 176,
   "id": "556936a5-922c-48b7-8e96-1137139dac49",
   "metadata": {},
   "outputs": [],
   "source": [
    "cl_unl = utils.camb_clfile(os.path.join(cls_path, 'FFP10_wdipole_lenspotentialCls.dat'))\n",
    "cl_len = utils.camb_clfile(os.path.join(cls_path, 'FFP10_wdipole_lensedCls.dat'))"
   ]
  },
  {
   "cell_type": "code",
   "execution_count": 177,
   "id": "368aebfa-026d-4451-8e66-4a8f3e2e8fa6",
   "metadata": {},
   "outputs": [],
   "source": [
    "# transf = hp.gauss_beam(5. / 60. / 180. * np.pi, lmax=lmax_ivf) * hp.pixwin(nside)[:lmax_ivf + 1]\n",
    "# transf = hp.gauss_beam(5. / 60. / 180. * np.pi, lmax=lmax_qlm) * maps.gauss_beam(ls, beam_arcmin)\n",
    "ells = np.arange(0, ellmax+1)\n",
    "transf = hp.gauss_beam(5. / 60. / 180. * np.pi, lmax=ellmax) * maps.gauss_beam(ells, param['beam_arcmin'])"
   ]
  },
  {
   "cell_type": "code",
   "execution_count": 178,
   "id": "61b28b24-3afc-4205-b583-61f94447c985",
   "metadata": {},
   "outputs": [],
   "source": [
    "ftl = utils.cli(cl_len['tt'][:ellmax + 1] + (param['nlev_t'] / 60. / 180. * np.pi / transf) ** 2)\n",
    "fel = utils.cli(cl_len['ee'][:ellmax + 1] + (param['nlev_p'] / 60. / 180. * np.pi / transf) ** 2)\n",
    "fbl = utils.cli(cl_len['bb'][:ellmax + 1] + (param['nlev_p'] / 60. / 180. * np.pi / transf) ** 2)\n",
    "ftl[:ellmin] *= 0.\n",
    "fel[:ellmin] *= 0.\n",
    "fbl[:ellmin] *= 0."
   ]
  },
  {
   "cell_type": "code",
   "execution_count": 179,
   "id": "0a3ee046-6595-4b7a-b14b-0a20c49874ec",
   "metadata": {},
   "outputs": [],
   "source": [
    "libdir_n1_dd = '.'\n",
    "# normalize n1\n",
    "cl_weight = utils.camb_clfile(os.path.join(cls_path, 'FFP10_wdipole_lensedCls.dat'))\n",
    "cl_weight['bb'] *= 0.\n",
    "\n",
    "cl_weight = utils.camb_clfile(os.path.join(cls_path, 'FFP10_wdipole_lensedCls.dat'))\n",
    "cl_weight['bb'] *= 0.\n",
    "\n",
    "qresp_dd = qresp.resp_lib_simple(libdir_n1_dd, ellmax, cl_weight, cl_len,\\\n",
    "                     {'t': ftl, 'e': fel, 'b': fbl}, ellmax)\n",
    "qc_resp_tt = qresp_dd.get_response('ptt', 'p')**2\n",
    "qc_resp_eb = qresp_dd.get_response('p_eb', 'p')**2"
   ]
  },
  {
   "cell_type": "code",
   "execution_count": 210,
   "id": "2e85f4cc-5f09-4632-bce5-644ca7855cb6",
   "metadata": {},
   "outputs": [
    {
     "data": {
      "text/plain": [
       "<matplotlib.legend.Legend at 0x7f4e118b0b50>"
      ]
     },
     "execution_count": 210,
     "metadata": {},
     "output_type": "execute_result"
    },
    {
     "data": {
      "image/png": "[encoded data removed]",
      "text/plain": [
       "<Figure size 432x288 with 1 Axes>"
      ]
     },
     "metadata": {
      "needs_background": "light"
     },
     "output_type": "display_data"
    }
   ],
   "source": [
    "plt.plot(ls[ellmin_plot:ellmax_plot], (factor*clpp_fid[ls])[ellmin_plot:ellmax_plot], label='Clpp')\n",
    "plt.plot(Ls, factor_L*norm_tt/Ls**2, label='N0 TT')\n",
    "plt.plot(Ls, factor_L*norm_eb/Ls**2, label='N0 EB')\n",
    "\n",
    "factor_ells = ells**2*(ells+1)**2/(2*np.pi)**2\n",
    "plt.plot(ells, factor_ells*utils.cli(qresp_dd.get_response('ptt', 'p')[ells]), label='N0 TT plk')\n",
    "plt.plot(ells, factor_ells*utils.cli(qresp_dd.get_response('p_eb', 'p')[ells]), label='N0 EB plk')\n",
    "plt.yscale('log')\n",
    "plt.xscale('log')\n",
    "plt.legend()"
   ]
  },
  {
   "cell_type": "code",
   "execution_count": 199,
   "id": "5dbc0212-1ba0-4aa7-aabd-7efeff365aa6",
   "metadata": {},
   "outputs": [],
   "source": [
    "#---- N1 lensing bias library:\n",
    "n1_dd = n1.library_n1(libdir_n1_dd,cl_len['tt'],cl_len['te'],cl_len['ee'])"
   ]
  },
  {
   "cell_type": "code",
   "execution_count": 200,
   "id": "3f88e5e1-c773-4b39-a33c-72db48c59b6d",
   "metadata": {},
   "outputs": [],
   "source": [
    "claa_07 = np.loadtxt('../inputPs/claa_A1e-07.txt')[:,1]\n",
    "claa_05 = np.loadtxt('../inputPs/claa_A1e-05.txt')[:,1]\n",
    "claa_06 = np.loadtxt('../inputPs/claa_A1e-06.txt')[:,1]\n",
    "# claa_08 = np.loadtxt('../inputPs/claa_A1e-08.txt')[:,1]"
   ]
  },
  {
   "cell_type": "code",
   "execution_count": 201,
   "id": "f8df0dbb-d38b-479e-9db7-d92b427bc41a",
   "metadata": {},
   "outputs": [],
   "source": [
    "# n1aa_05 = n1_dd.get_n1('reb', 'p', claa_05, ftl, fel, fbl, lmax_ivf-1)\n",
    "# n1aa_06 = n1_dd.get_n1('reb', 'p', claa_06, ftl, fel, fbl, lmax_ivf-1)\n",
    "# n1pp_tt = n1_dd.get_n1('ptt', 'p', clpp_fid, ftl, fel, fbl, lmax_ivf-1)\n",
    "# n1pp_eb = n1_dd.get_n1('peb', 'p', clpp_fid, ftl, fel, fbl, lmax_ivf-1)"
   ]
  },
  {
   "cell_type": "code",
   "execution_count": 202,
   "id": "02422faa-3dba-4758-8df1-451c36eb0aa1",
   "metadata": {},
   "outputs": [],
   "source": [
    "# n1aa_06 = n1_dd.get_n1('peb', 'r', claa_06, ftl, fel, fbl, lmax_ivf-1)\n",
    "n1aa_07 = n1_dd.get_n1('peb', 'r', claa_07, ftl, fel, fbl, ellmax)"
   ]
  },
  {
   "cell_type": "code",
   "execution_count": 203,
   "id": "44a5c607-5ef9-4a82-871d-f9b416be282f",
   "metadata": {},
   "outputs": [],
   "source": [
    "# n1pp_tt_n = utils.cli(qc_resp_tt)[:lmax_ivf]*n1pp_tt\n",
    "# n1pp_eb_n = utils.cli(qc_resp_eb)[:lmax_ivf]*n1pp_eb\n",
    "# n1aa_06_n = utils.cli(qc_resp_eb)[:lmax_ivf]*n1aa_06\n",
    "# n1aa_07_n = utils.cli(qc_resp_eb)[:ellmax+1]*n1aa_07\n",
    "n1aa_07_n = ((norm_eb*2*np.pi)/Ls**2)**2*n1aa_07[31:]"
   ]
  },
  {
   "cell_type": "code",
   "execution_count": 204,
   "id": "b8e0c7cb-a4db-4baa-9bf3-84b60f3a8956",
   "metadata": {},
   "outputs": [],
   "source": [
    "# plt.plot(Ls[Lmin:lmax_ivf], (factor*clpp_fid[:lmax_ivf])[Lmin:lmax_ivf])\n",
    "# plt.plot(Ls[Lmin:lmax_ivf], (factor*n1pp_tt_n)[Lmin:lmax_ivf], label='n1tt')\n",
    "# plt.plot(Ls[Lmin:lmax_ivf], (factor*n1pp_eb_n)[Lmin:lmax_ivf], label='n1eb')\n",
    "# plt.plot(Ls[Lmin:lmax_ivf], abs((factor*n1aa_07_n)[Lmin:lmax_ivf]), label='n1eb aa')\n",
    "\n",
    "# plt.xscale('log')\n",
    "# plt.yscale('log')\n",
    "# plt.legend()"
   ]
  },
  {
   "cell_type": "code",
   "execution_count": 205,
   "id": "41b1866a-98b4-4e9a-afd7-08f2258c9a0b",
   "metadata": {},
   "outputs": [],
   "source": [
    "data = pd.read_csv('./CMB_S4_30_3000_n.csv')\n",
    "bias = ((data['EB_rot_reckap_x_reckap']-data['EB_reckap_x_reckap'])-(data['EB_rot_rdn0']-data['EB_rdn0']))/\\\n",
    "                 data['EB_inkap_x_inkap']"
   ]
  },
  {
   "cell_type": "code",
   "execution_count": 206,
   "id": "f1bef799-c59c-4ed4-b163-df4d16c711c7",
   "metadata": {},
   "outputs": [
    {
     "data": {
      "text/plain": [
       "[<matplotlib.lines.Line2D at 0x7f4e119beac0>]"
      ]
     },
     "execution_count": 206,
     "metadata": {},
     "output_type": "execute_result"
    },
    {
     "data": {
      "image/png": "[encoded data removed]",
      "text/plain": [
       "<Figure size 432x288 with 1 Axes>"
      ]
     },
     "metadata": {
      "needs_background": "light"
     },
     "output_type": "display_data"
    }
   ],
   "source": [
    "plt.plot(bias)"
   ]
  },
  {
   "cell_type": "code",
   "execution_count": 222,
   "id": "4cbc8830-aabb-4ce7-8145-5e228835acbc",
   "metadata": {},
   "outputs": [
    {
     "data": {
      "text/plain": [
       "<matplotlib.legend.Legend at 0x7f4e112e74f0>"
      ]
     },
     "execution_count": 222,
     "metadata": {},
     "output_type": "execute_result"
    },
    {
     "data": {
      "image/png": "[encoded data removed]",
      "text/plain": [
       "<Figure size 432x288 with 1 Axes>"
      ]
     },
     "metadata": {
      "needs_background": "light"
     },
     "output_type": "display_data"
    }
   ],
   "source": [
    "plt.plot(Ls[:-1], 100*n1aa_07_n[:-1]/clpp_fid[31:3000], label='-07')\n",
    "# plt.plot(-norm_eb/Ls**2/clpp_fid[31:3001], label='N0/clpp')\n",
    "plt.plot(bias, label='sim')\n",
    "# plt.plot(Ls[Lmin:lmax_ivf], (n1aa_06_n[:lmax_ivf]/clpp_fid[:lmax_ivf])[Lmin:lmax_ivf], label='-06')\n",
    "plt.legend()"
   ]
  },
  {
   "cell_type": "code",
   "execution_count": null,
   "id": "8af1126a-0c63-4035-9f5a-b3f5d1dc8136",
   "metadata": {},
   "outputs": [],
   "source": []
  }
 ],
 "metadata": {
  "kernelspec": {
   "display_name": "Python 3",
   "language": "python",
   "name": "python3"
  },
  "language_info": {
   "codemirror_mode": {
    "name": "ipython",
    "version": 3
   },
   "file_extension": ".py",
   "mimetype": "text/x-python",
   "name": "python",
   "nbconvert_exporter": "python",
   "pygments_lexer": "ipython3",
   "version": "3.8.8"
  }
 },
 "nbformat": 4,
 "nbformat_minor": 5
}
