{
 "cells": [
  {
   "cell_type": "code",
   "execution_count": 2,
   "id": "ccd2a838-02e4-481a-8b4a-bbdccec36b45",
   "metadata": {},
   "outputs": [],
   "source": [
    "import os\n",
    "import numpy as np\n",
    "import healpy as hp\n",
    "import matplotlib.pyplot as plt\n",
    "\n",
    "import plancklens\n",
    "from plancklens import utils\n",
    "from plancklens import nhl\n",
    "from plancklens.n1 import n1\n",
    "from plancklens import qest, qecl, qresp\n",
    "import orphics\n",
    "from orphics import maps, cosmology\n",
    "import pandas as pd\n",
    "\n",
    "import symlens as s\n",
    "import pixell\n",
    "from pixell import enmap\n",
    "# from pixell import enmap, curvedsky\n",
    "# import curvedsky\n",
    "from math import pi"
   ]
  },
  {
   "cell_type": "code",
   "execution_count": 3,
   "id": "99b8e8f8-f2d9-48ea-803d-d3c692f10b31",
   "metadata": {},
   "outputs": [],
   "source": [
    "exps_config = {\n",
    "    'CMB_S3': {\n",
    "        'nlev_t': 7,\n",
    "        'nlev_p': 7*2**0.5,\n",
    "        'beam_arcmin': 1.4\n",
    "    },\n",
    "    'CMB_S4': {\n",
    "        'nlev_t': 1,\n",
    "        'nlev_p':2**0.5,\n",
    "        'beam_arcmin': 3\n",
    "    }\n",
    "}\n",
    "\n",
    "exps_config = {\n",
    "    'CMB_S4': {\n",
    "        'nlev_t': 1,\n",
    "        'nlev_p':2**0.5,\n",
    "        'beam_arcmin': 1.4\n",
    "    }\n",
    "}\n",
    "\n",
    "moments = {'moments1':{'ellmin':30, 'ellmax':3000, 'delta_L':150},\\\n",
    "           'moments2':{'ellmin':30, 'ellmax':4000, 'delta_L':200}}\n",
    "\n",
    "ellmin = 30\n",
    "lmax = 6000\n",
    "ls = np.arange(0, lmax+1)\n",
    "fac = (ls*(ls+1))**2/(2*pi)\n",
    "fac[0] = 1"
   ]
  },
  {
   "cell_type": "code",
   "execution_count": 4,
   "id": "d9a95af4-fa45-4aac-a7aa-35f876fc95c1",
   "metadata": {},
   "outputs": [],
   "source": [
    "clpp = np.loadtxt('../inputPs/cosmo2017_10K_acc3_lenspotentialCls.dat', \\\n",
    "                  usecols=(5), unpack=True)\n",
    "clpp = np.concatenate(([1,1], clpp))[ls]/fac\n",
    "theory = cosmology.default_theory()\n",
    "cltt = theory.lCl('TT', ls)\n",
    "clte = theory.lCl('TE', ls)\n",
    "clee = theory.lCl('EE', ls)\n",
    "clbb = theory.lCl('BB', ls)"
   ]
  },
  {
   "cell_type": "code",
   "execution_count": 5,
   "id": "9046a9fa-0ebf-46d1-a495-79ccbb75ecde",
   "metadata": {},
   "outputs": [],
   "source": [
    "class bin1D(object):\n",
    "    def __init__(self, ls, bin_edges):\n",
    "        self.centers = (bin_edges[1:]+bin_edges[:-1])/2.\n",
    "        self.digitized = np.digitize(ls, bin_edges,right=True)\n",
    "        self.bin_edges = bin_edges\n",
    "    def bin(self,data1d,weights=None):\n",
    "        if weights is None:\n",
    "            res = np.bincount(self.digitized,(data1d).reshape(-1))[1:-1]/np.bincount(self.digitized)[1:-1]\n",
    "        else:\n",
    "            res = np.bincount(self.digitized,(data1d*weights).reshape(-1))[1:-1]/np.bincount(self.digitized,weights.reshape(-1))[1:-1]\n",
    "        return self.centers,res\n",
    "\n",
    "def binave(map, modlmap, ellmin, ellmax, delta_l):\n",
    "    bin_edges = np.arange(ellmin, ellmax+delta_l+1, delta_l)\n",
    "    binner = s.utils.bin2D(modlmap, bin_edges)\n",
    "\n",
    "    centers, p1d = binner.bin(map)\n",
    "    return centers, p1d"
   ]
  },
  {
   "cell_type": "code",
   "execution_count": 6,
   "id": "54f62538-3865-4e64-8783-c1e43f5ce78b",
   "metadata": {},
   "outputs": [],
   "source": [
    "shape, wcs = enmap.fullsky_geometry(res=2*pixell.utils.arcmin)"
   ]
  },
  {
   "cell_type": "code",
   "execution_count": 7,
   "id": "f7e6ab9b-e22f-4978-abb8-ea27b0e513fd",
   "metadata": {},
   "outputs": [],
   "source": [
    "# ellmaxs = [3000]\n",
    "# for exp, param in exps_config.items():\n",
    "#     for ellmax in ellmaxs:\n",
    "#         feed_dict = {}\n",
    "        \n",
    "#         map_modlmap = enmap.modlmap(shape, wcs)\n",
    "#         kbeam = s.utils.gauss_beam(map_modlmap, param['beam_arcmin'])\n",
    "#         n2d = (param['nlev_p']*np.pi/180./60.)**2./kbeam**2.\n",
    "        \n",
    "#         ells = np.arange(0, ellmax+1)\n",
    "#         feed_dict['uC_E_E'] = s.utils.interp(ells, clee[ells])(map_modlmap)\n",
    "#         feed_dict['tC_E_E'] = feed_dict['uC_E_E'] + n2d\n",
    "#         feed_dict['tC_B_B'] = n2d\n",
    "        \n",
    "#         cmask = s.utils.mask_kspace(shape, wcs, lmin=ellmin, lmax=ellmax)\n",
    "#         kmask = s.utils.mask_kspace(shape, wcs, lmin=ellmin, lmax=ellmax)\n",
    "        \n",
    "#         norm_k_eb = s.A_l(shape,\n",
    "#                        wcs,\n",
    "#                        feed_dict,\n",
    "#                        \"hu_ok\",\n",
    "#                        'EB',\n",
    "#                        xmask=cmask,\n",
    "#                        ymask=cmask,\n",
    "#                        kmask=kmask)\n",
    "# Ls, norm_tt = binave(norm_k_tt, map_modlmap, ellmin+0.5, ellmax-1, 1)"
   ]
  },
  {
   "cell_type": "code",
   "execution_count": 8,
   "id": "b939a9af-c962-4c10-8c6f-144ec4621a6c",
   "metadata": {},
   "outputs": [],
   "source": [
    "# Ls, norm_eb = binave(norm_k_eb, map_modlmap, ellmin+0.5, ellmax-1, 1)\n",
    "# np.savetxt(\"norm_eb_symlens.txt\", norm_eb)"
   ]
  },
  {
   "cell_type": "code",
   "execution_count": 9,
   "id": "f4c75f58-9e09-43ec-a943-f492faab2a4e",
   "metadata": {
    "tags": []
   },
   "outputs": [],
   "source": [
    "norm_eb_sml = np.loadtxt('norm_eb_symlens.txt')\n",
    "Al_eb_clp = np.loadtxt('Al_eb_clp.txt')\n",
    "Ls = np.loadtxt('Ls.txt')"
   ]
  },
  {
   "cell_type": "code",
   "execution_count": 10,
   "id": "7aa5e811-9c32-41a3-aedf-f3eae5e911ec",
   "metadata": {},
   "outputs": [],
   "source": [
    "# # use cmblensplus to calculate norm and noise\n",
    "# ellmaxs = [3000]\n",
    "# for exp, param in exps_config.items():\n",
    "#     for ellmax in ellmaxs:\n",
    "#         clee, clbb = theory.lCl('EE', ls), theory.lCl('BB', ls)\n",
    "#         nlee = (param['nlev_p']*np.pi/180/60)**2/maps.gauss_beam(ls, param['beam_arcmin'])**2\n",
    "#         nlbb = nlee\n",
    "#         oclee = clee + nlee\n",
    "#         oclbb = clbb + nlbb\n",
    "#         oclee[0], oclee[1], oclbb[0], oclbb[1] = 1, 1, 1, 1\n",
    "\n",
    "#         oclee[0], oclee[1], oclbb[0], oclbb[1] = 1, 1, 1, 1\n",
    "#         Al_eb = curvedsky.norm_quad.qeb('lens', ellmax, ellmin, ellmax, clee[:ellmax+1],\\\n",
    "#                                         oclee[:ellmax+1], oclbb[:ellmax+1], lfac='')                             "
   ]
  },
  {
   "cell_type": "code",
   "execution_count": 11,
   "id": "59a4f628-a354-4d53-951c-880630a0ec97",
   "metadata": {},
   "outputs": [],
   "source": [
    "# use cmblensplus to calculate norm and noise\n",
    "ellmaxs = [3000]\n",
    "for exp, param in exps_config.items():\n",
    "    for ellmax in ellmaxs:\n",
    "        cltt = theory.lCl('TT', ls)\n",
    "        clee, clbb = theory.lCl('EE', ls), theory.lCl('BB', ls)\n",
    "        \n",
    "        nltt = (param['nlev_t']*np.pi/180/60)**2/maps.gauss_beam(ls, param['beam_arcmin'])**2\n",
    "        nlee = (param['nlev_p']*np.pi/180/60)**2/maps.gauss_beam(ls, param['beam_arcmin'])**2\n",
    "        nlbb = nlee\n",
    "        \n",
    "        ocltt = cltt + nltt\n",
    "        oclee = clee + nlee\n",
    "        oclbb = clbb + nlbb\n",
    "        oclee[0], oclee[1], oclbb[0], oclbb[1] = 1, 1, 1, 1"
   ]
  },
  {
   "cell_type": "code",
   "execution_count": 12,
   "id": "514b3311-39d1-4f74-a845-3d78fabff0c1",
   "metadata": {
    "tags": []
   },
   "outputs": [
    {
     "data": {
      "text/plain": [
       "<matplotlib.legend.Legend at 0x7f297dbd4970>"
      ]
     },
     "execution_count": 12,
     "metadata": {},
     "output_type": "execute_result"
    },
    {
     "data": {
      "image/png": "[encoded data removed]",
      "text/plain": [
       "<Figure size 432x288 with 1 Axes>"
      ]
     },
     "metadata": {
      "needs_background": "light"
     },
     "output_type": "display_data"
    }
   ],
   "source": [
    "plt.plot(Ls, norm_eb_sml/Ls**2, label='N0 EB sml')\n",
    "plt.plot(Ls, Al_eb_clp[0][31:], label='N0 EB clp')\n",
    "plt.yscale('log')\n",
    "plt.xscale('log')\n",
    "plt.legend()"
   ]
  },
  {
   "cell_type": "code",
   "execution_count": 14,
   "id": "1966a2b4-2cee-4508-87de-6646ec9e4688",
   "metadata": {},
   "outputs": [],
   "source": [
    "ellmaxs = [3000]\n",
    "for exp, param in exps_config.items():\n",
    "    for ellmax in ellmaxs:\n",
    "        0"
   ]
  },
  {
   "cell_type": "code",
   "execution_count": 15,
   "id": "c813e9d3-09b0-4723-8a47-f43b97689e81",
   "metadata": {},
   "outputs": [],
   "source": [
    "A_cb_index = '05'"
   ]
  },
  {
   "cell_type": "code",
   "execution_count": 17,
   "id": "5dbc0212-1ba0-4aa7-aabd-7efeff365aa6",
   "metadata": {
    "tags": []
   },
   "outputs": [
    {
     "name": "stdout",
     "output_type": "stream",
     "text": [
      "n1: doing L 1 kA peb kB peb kind r\n",
      "n1: doing L 2 kA peb kB peb kind r\n",
      "n1: doing L 3 kA peb kB peb kind r\n",
      "n1: doing L 4 kA peb kB peb kind r\n",
      "n1: doing L 5 kA peb kB peb kind r\n",
      "n1: doing L 6 kA peb kB peb kind r\n",
      "n1: doing L 7 kA peb kB peb kind r\n",
      "n1: doing L 8 kA peb kB peb kind r\n",
      "n1: doing L 9 kA peb kB peb kind r\n",
      "n1: doing L 10 kA peb kB peb kind r\n",
      "n1: doing L 21 kA peb kB peb kind r\n",
      "n1: doing L 41 kA peb kB peb kind r\n",
      "n1: doing L 61 kA peb kB peb kind r\n",
      "n1: doing L 81 kA peb kB peb kind r\n",
      "n1: doing L 101 kA peb kB peb kind r\n",
      "n1: doing L 121 kA peb kB peb kind r\n",
      "n1: doing L 141 kA peb kB peb kind r\n",
      "n1: doing L 161 kA peb kB peb kind r\n",
      "n1: doing L 181 kA peb kB peb kind r\n",
      "n1: doing L 201 kA peb kB peb kind r\n",
      "n1: doing L 221 kA peb kB peb kind r\n",
      "n1: doing L 241 kA peb kB peb kind r\n",
      "n1: doing L 261 kA peb kB peb kind r\n",
      "n1: doing L 281 kA peb kB peb kind r\n",
      "n1: doing L 301 kA peb kB peb kind r\n",
      "n1: doing L 321 kA peb kB peb kind r\n",
      "n1: doing L 341 kA peb kB peb kind r\n",
      "n1: doing L 361 kA peb kB peb kind r\n",
      "n1: doing L 381 kA peb kB peb kind r\n",
      "n1: doing L 401 kA peb kB peb kind r\n",
      "n1: doing L 421 kA peb kB peb kind r\n",
      "n1: doing L 441 kA peb kB peb kind r\n",
      "n1: doing L 461 kA peb kB peb kind r\n",
      "n1: doing L 481 kA peb kB peb kind r\n",
      "n1: doing L 501 kA peb kB peb kind r\n",
      "n1: doing L 521 kA peb kB peb kind r\n",
      "n1: doing L 541 kA peb kB peb kind r\n",
      "n1: doing L 561 kA peb kB peb kind r\n",
      "n1: doing L 581 kA peb kB peb kind r\n",
      "n1: doing L 601 kA peb kB peb kind r\n",
      "n1: doing L 621 kA peb kB peb kind r\n",
      "n1: doing L 641 kA peb kB peb kind r\n",
      "n1: doing L 661 kA peb kB peb kind r\n",
      "n1: doing L 681 kA peb kB peb kind r\n",
      "n1: doing L 701 kA peb kB peb kind r\n",
      "n1: doing L 721 kA peb kB peb kind r\n",
      "n1: doing L 741 kA peb kB peb kind r\n",
      "n1: doing L 761 kA peb kB peb kind r\n",
      "n1: doing L 781 kA peb kB peb kind r\n",
      "n1: doing L 801 kA peb kB peb kind r\n",
      "n1: doing L 821 kA peb kB peb kind r\n",
      "n1: doing L 841 kA peb kB peb kind r\n",
      "n1: doing L 861 kA peb kB peb kind r\n",
      "n1: doing L 881 kA peb kB peb kind r\n",
      "n1: doing L 901 kA peb kB peb kind r\n",
      "n1: doing L 921 kA peb kB peb kind r\n",
      "n1: doing L 941 kA peb kB peb kind r\n",
      "n1: doing L 961 kA peb kB peb kind r\n",
      "n1: doing L 981 kA peb kB peb kind r\n",
      "n1: doing L 1001 kA peb kB peb kind r\n",
      "n1: doing L 1021 kA peb kB peb kind r\n",
      "n1: doing L 1041 kA peb kB peb kind r\n",
      "n1: doing L 1061 kA peb kB peb kind r\n",
      "n1: doing L 1081 kA peb kB peb kind r\n",
      "n1: doing L 1101 kA peb kB peb kind r\n",
      "n1: doing L 1121 kA peb kB peb kind r\n",
      "n1: doing L 1141 kA peb kB peb kind r\n",
      "n1: doing L 1161 kA peb kB peb kind r\n",
      "n1: doing L 1181 kA peb kB peb kind r\n",
      "n1: doing L 1201 kA peb kB peb kind r\n",
      "n1: doing L 1221 kA peb kB peb kind r\n",
      "n1: doing L 1241 kA peb kB peb kind r\n",
      "n1: doing L 1261 kA peb kB peb kind r\n",
      "n1: doing L 1281 kA peb kB peb kind r\n",
      "n1: doing L 1301 kA peb kB peb kind r\n",
      "n1: doing L 1321 kA peb kB peb kind r\n",
      "n1: doing L 1341 kA peb kB peb kind r\n",
      "n1: doing L 1361 kA peb kB peb kind r\n",
      "n1: doing L 1381 kA peb kB peb kind r\n",
      "n1: doing L 1401 kA peb kB peb kind r\n",
      "n1: doing L 1421 kA peb kB peb kind r\n",
      "n1: doing L 1441 kA peb kB peb kind r\n",
      "n1: doing L 1461 kA peb kB peb kind r\n",
      "n1: doing L 1481 kA peb kB peb kind r\n",
      "n1: doing L 1501 kA peb kB peb kind r\n",
      "n1: doing L 1521 kA peb kB peb kind r\n",
      "n1: doing L 1541 kA peb kB peb kind r\n",
      "n1: doing L 1561 kA peb kB peb kind r\n",
      "n1: doing L 1581 kA peb kB peb kind r\n",
      "n1: doing L 1601 kA peb kB peb kind r\n",
      "n1: doing L 1621 kA peb kB peb kind r\n",
      "n1: doing L 1641 kA peb kB peb kind r\n",
      "n1: doing L 1661 kA peb kB peb kind r\n",
      "n1: doing L 1681 kA peb kB peb kind r\n",
      "n1: doing L 1701 kA peb kB peb kind r\n",
      "n1: doing L 1721 kA peb kB peb kind r\n",
      "n1: doing L 1741 kA peb kB peb kind r\n",
      "n1: doing L 1761 kA peb kB peb kind r\n",
      "n1: doing L 1781 kA peb kB peb kind r\n",
      "n1: doing L 1801 kA peb kB peb kind r\n",
      "n1: doing L 1821 kA peb kB peb kind r\n",
      "n1: doing L 1841 kA peb kB peb kind r\n",
      "n1: doing L 1861 kA peb kB peb kind r\n",
      "n1: doing L 1881 kA peb kB peb kind r\n",
      "n1: doing L 1901 kA peb kB peb kind r\n",
      "n1: doing L 1921 kA peb kB peb kind r\n",
      "n1: doing L 1941 kA peb kB peb kind r\n",
      "n1: doing L 1961 kA peb kB peb kind r\n",
      "n1: doing L 1981 kA peb kB peb kind r\n",
      "n1: doing L 2001 kA peb kB peb kind r\n",
      "n1: doing L 2021 kA peb kB peb kind r\n",
      "n1: doing L 2041 kA peb kB peb kind r\n",
      "n1: doing L 2061 kA peb kB peb kind r\n",
      "n1: doing L 2081 kA peb kB peb kind r\n",
      "n1: doing L 2101 kA peb kB peb kind r\n",
      "n1: doing L 2121 kA peb kB peb kind r\n",
      "n1: doing L 2141 kA peb kB peb kind r\n",
      "n1: doing L 2161 kA peb kB peb kind r\n",
      "n1: doing L 2181 kA peb kB peb kind r\n",
      "n1: doing L 2201 kA peb kB peb kind r\n",
      "n1: doing L 2221 kA peb kB peb kind r\n",
      "n1: doing L 2241 kA peb kB peb kind r\n",
      "n1: doing L 2261 kA peb kB peb kind r\n",
      "n1: doing L 2281 kA peb kB peb kind r\n",
      "n1: doing L 2301 kA peb kB peb kind r\n",
      "n1: doing L 2321 kA peb kB peb kind r\n",
      "n1: doing L 2341 kA peb kB peb kind r\n",
      "n1: doing L 2361 kA peb kB peb kind r\n",
      "n1: doing L 2381 kA peb kB peb kind r\n",
      "n1: doing L 2401 kA peb kB peb kind r\n",
      "n1: doing L 2421 kA peb kB peb kind r\n",
      "n1: doing L 2441 kA peb kB peb kind r\n",
      "n1: doing L 2461 kA peb kB peb kind r\n",
      "n1: doing L 2481 kA peb kB peb kind r\n",
      "n1: doing L 2501 kA peb kB peb kind r\n",
      "n1: doing L 2521 kA peb kB peb kind r\n",
      "n1: doing L 2541 kA peb kB peb kind r\n",
      "n1: doing L 2561 kA peb kB peb kind r\n",
      "n1: doing L 2581 kA peb kB peb kind r\n",
      "n1: doing L 2601 kA peb kB peb kind r\n",
      "n1: doing L 2621 kA peb kB peb kind r\n",
      "n1: doing L 2641 kA peb kB peb kind r\n",
      "n1: doing L 2661 kA peb kB peb kind r\n",
      "n1: doing L 2681 kA peb kB peb kind r\n",
      "n1: doing L 2701 kA peb kB peb kind r\n",
      "n1: doing L 2721 kA peb kB peb kind r\n",
      "n1: doing L 2741 kA peb kB peb kind r\n",
      "n1: doing L 2761 kA peb kB peb kind r\n",
      "n1: doing L 2781 kA peb kB peb kind r\n",
      "n1: doing L 2801 kA peb kB peb kind r\n",
      "n1: doing L 2821 kA peb kB peb kind r\n",
      "n1: doing L 2841 kA peb kB peb kind r\n",
      "n1: doing L 2861 kA peb kB peb kind r\n",
      "n1: doing L 2881 kA peb kB peb kind r\n",
      "n1: doing L 2901 kA peb kB peb kind r\n",
      "n1: doing L 2921 kA peb kB peb kind r\n",
      "n1: doing L 2941 kA peb kB peb kind r\n",
      "n1: doing L 2961 kA peb kB peb kind r\n",
      "n1: doing L 2981 kA peb kB peb kind r\n",
      "n1: doing L 3000 kA peb kB peb kind r\n"
     ]
    }
   ],
   "source": [
    "ellmax =3000\n",
    "claa = np.loadtxt('../inputPs/claa_A1e-%s.txt' %A_cb_index)[:,1]\n",
    "\n",
    "ftl = utils.cli(ocltt[:ellmax+1])\n",
    "fel = utils.cli(oclee[:ellmax+1])\n",
    "fbl = utils.cli(oclbb[:ellmax+1])\n",
    "ftl[:ellmin] *= 0.\n",
    "fel[:ellmin] *= 0.\n",
    "fbl[:ellmin] *= 0.\n",
    "\n",
    "#---- N1 lensing bias library:\n",
    "n1_dd = n1.library_n1('.',cltt,clte,clee)\n",
    "n1aa = n1_dd.get_n1('peb', 'r', claa, ftl, fel, fbl, ellmax)"
   ]
  },
  {
   "cell_type": "code",
   "execution_count": 18,
   "id": "73ee0980-0a24-47ab-986d-03898a2ce5f7",
   "metadata": {},
   "outputs": [],
   "source": [
    "data = pd.read_csv('./CMB_S4_30_3000_n.csv')\n",
    "bias = ((data['EB_rot_reckap_x_reckap']-data['EB_reckap_x_reckap'])-(data['EB_rot_rdn0']-data['EB_rdn0']))/\\\n",
    "                 data['EB_inkap_x_inkap']"
   ]
  },
  {
   "cell_type": "code",
   "execution_count": 19,
   "id": "34ede289-793d-4f0b-9958-07288f70d4e5",
   "metadata": {},
   "outputs": [],
   "source": [
    "n1aa_n_clp = (Al_eb_clp[0][31:])**2*n1aa[31:]\n",
    "n1aa_n_sml = (norm_eb_sml/Ls**2)**2*n1aa[31:]"
   ]
  },
  {
   "cell_type": "code",
   "execution_count": 20,
   "id": "28c96164-4d22-4b93-a626-29895664706b",
   "metadata": {},
   "outputs": [
    {
     "data": {
      "text/plain": [
       "<matplotlib.legend.Legend at 0x7f297d7407c0>"
      ]
     },
     "execution_count": 20,
     "metadata": {},
     "output_type": "execute_result"
    },
    {
     "data": {
      "image/png": "[encoded data removed]",
      "text/plain": [
       "<Figure size 432x288 with 1 Axes>"
      ]
     },
     "metadata": {
      "needs_background": "light"
     },
     "output_type": "display_data"
    }
   ],
   "source": [
    "plt.plot(Ls[:-1], n1aa_n_clp[:-1]/clpp[31:3000], label='-%s, clp' %A_cb_index)\n",
    "plt.plot(Ls[:-2], n1aa_n_sml[:-2]/clpp[31:2999], label='-%s, sml' %A_cb_index)\n",
    "plt.plot(data['L'], bias, label='sim')\n",
    "# plt.plot(Ls[Lmin:lmax_ivf], (n1aa_06_n[:lmax_ivf]/clpp_fid[:lmax_ivf])[Lmin:lmax_ivf], label='-06')\n",
    "plt.legend()"
   ]
  },
  {
   "cell_type": "code",
   "execution_count": 11,
   "id": "a4810eea-c6aa-4161-9892-1d5429118d5b",
   "metadata": {},
   "outputs": [],
   "source": [
    "# for exp, param in exps_config.items():\n",
    "#     for ellmax in ellmaxs:\n",
    "#         feed_dict = {}\n",
    "#         map_modlmap = enmap.modlmap(shape, wcs)\n",
    "#         kbeam = s.utils.gauss_beam(map_modlmap, param['beam_arcmin'])\n",
    "#         n2d = (param['nlev_t']*np.pi/180./60.)**2./kbeam**2.\n",
    "        \n",
    "#         feed_dict['uC_T_T'] = s.utils.interp(ells, clee)(map_modlmap)\n",
    "#         feed_dict['tC_T_T'] = feed_dict['uC_T_T'] + n2d\n",
    "        \n",
    "#         cmask = s.utils.mask_kspace(shape, wcs, lmin=ellmin, lmax=ellmax)\n",
    "#         kmask = s.utils.mask_kspace(shape, wcs, lmin=ellmin, lmax=ellmax)\n",
    "        \n",
    "#         norm_k_tt = s.A_l(shape,\n",
    "#                        wcs,\n",
    "#                        feed_dict,\n",
    "#                        \"hu_ok\",\n",
    "#                        'TT',\n",
    "#                        xmask=cmask,\n",
    "#                        ymask=cmask,\n",
    "#                        kmask=kmask)        "
   ]
  },
  {
   "cell_type": "code",
   "execution_count": 50,
   "id": "b5e09101-b0e5-4bd1-ad4c-c5d73abf09ee",
   "metadata": {},
   "outputs": [],
   "source": [
    "# factor = ls**2*(ls+1)**2/(2*np.pi)\n",
    "\n",
    "# plt.plot(ls[ellmin_plot:ellmax_plot], (factor*clpp_fid[ls])[ellmin_plot:ellmax_plot], label='Clpp')\n",
    "# plt.plot(Ls, factor_L*norm_tt/Ls**2, label='N0 TT')\n",
    "# plt.plot(Ls, factor_L*norm_eb/Ls**2, label='N0 EB')\n",
    "# plt.yscale('log')\n",
    "# plt.xscale('log')\n",
    "# plt.legend()"
   ]
  },
  {
   "cell_type": "code",
   "execution_count": 53,
   "id": "368aebfa-026d-4451-8e66-4a8f3e2e8fa6",
   "metadata": {},
   "outputs": [],
   "source": [
    "# transf = hp.gauss_beam(5. / 60. / 180. * np.pi, lmax=lmax_ivf) * hp.pixwin(nside)[:lmax_ivf + 1]\n",
    "# transf = hp.gauss_beam(5. / 60. / 180. * np.pi, lmax=lmax_qlm) * maps.gauss_beam(ls, beam_arcmin)\n",
    "# ells = np.arange(0, ellmax+1)\n",
    "transf = hp.gauss_beam(5. / 60. / 180. * np.pi, lmax=ellmax) * maps.gauss_beam(ells, param['beam_arcmin'])"
   ]
  },
  {
   "cell_type": "code",
   "execution_count": 13,
   "id": "0a3ee046-6595-4b7a-b14b-0a20c49874ec",
   "metadata": {
    "tags": []
   },
   "outputs": [
    {
     "ename": "NameError",
     "evalue": "name 'cls_path' is not defined",
     "output_type": "error",
     "traceback": [
      "\u001b[0;31m---------------------------------------------------------------------------\u001b[0m",
      "\u001b[0;31mNameError\u001b[0m                                 Traceback (most recent call last)",
      "\u001b[0;32m<ipython-input-13-05a51d4c08ea>\u001b[0m in \u001b[0;36m<module>\u001b[0;34m\u001b[0m\n\u001b[1;32m      1\u001b[0m \u001b[0mlibdir_n1_dd\u001b[0m \u001b[0;34m=\u001b[0m \u001b[0;34m'.'\u001b[0m\u001b[0;34m\u001b[0m\u001b[0;34m\u001b[0m\u001b[0m\n\u001b[1;32m      2\u001b[0m \u001b[0;31m# normalize n1\u001b[0m\u001b[0;34m\u001b[0m\u001b[0;34m\u001b[0m\u001b[0;34m\u001b[0m\u001b[0m\n\u001b[0;32m----> 3\u001b[0;31m \u001b[0mcl_weight\u001b[0m \u001b[0;34m=\u001b[0m \u001b[0mutils\u001b[0m\u001b[0;34m.\u001b[0m\u001b[0mcamb_clfile\u001b[0m\u001b[0;34m(\u001b[0m\u001b[0mos\u001b[0m\u001b[0;34m.\u001b[0m\u001b[0mpath\u001b[0m\u001b[0;34m.\u001b[0m\u001b[0mjoin\u001b[0m\u001b[0;34m(\u001b[0m\u001b[0mcls_path\u001b[0m\u001b[0;34m,\u001b[0m \u001b[0;34m'FFP10_wdipole_lensedCls.dat'\u001b[0m\u001b[0;34m)\u001b[0m\u001b[0;34m)\u001b[0m\u001b[0;34m\u001b[0m\u001b[0;34m\u001b[0m\u001b[0m\n\u001b[0m\u001b[1;32m      4\u001b[0m \u001b[0mcl_weight\u001b[0m\u001b[0;34m[\u001b[0m\u001b[0;34m'bb'\u001b[0m\u001b[0;34m]\u001b[0m \u001b[0;34m*=\u001b[0m \u001b[0;36m0.\u001b[0m\u001b[0;34m\u001b[0m\u001b[0;34m\u001b[0m\u001b[0m\n\u001b[1;32m      5\u001b[0m \u001b[0;34m\u001b[0m\u001b[0m\n",
      "\u001b[0;31mNameError\u001b[0m: name 'cls_path' is not defined"
     ]
    }
   ],
   "source": [
    "libdir_n1_dd = '.'\n",
    "# normalize n1\n",
    "cl_weight = utils.camb_clfile(os.path.join(cls_path, 'FFP10_wdipole_lensedCls.dat'))\n",
    "cl_weight['bb'] *= 0.\n",
    "\n",
    "cl_weight = utils.camb_clfile(os.path.join(cls_path, 'FFP10_wdipole_lensedCls.dat'))\n",
    "cl_weight['bb'] *= 0.\n",
    "\n",
    "qresp_dd = qresp.resp_lib_simple(libdir_n1_dd, ellmax, cl_weight, cl_len,\\\n",
    "                     {'t': ftl, 'e': fel, 'b': fbl}, ellmax)\n",
    "qc_resp_tt = qresp_dd.get_response('ptt', 'p')**2\n",
    "qc_resp_eb = qresp_dd.get_response('p_eb', 'p')**2"
   ]
  },
  {
   "cell_type": "code",
   "execution_count": 210,
   "id": "2e85f4cc-5f09-4632-bce5-644ca7855cb6",
   "metadata": {},
   "outputs": [
    {
     "data": {
      "text/plain": [
       "<matplotlib.legend.Legend at 0x7f4e118b0b50>"
      ]
     },
     "execution_count": 210,
     "metadata": {},
     "output_type": "execute_result"
    },
    {
     "data": {
      "image/png": "[encoded data removed]",
      "text/plain": [
       "<Figure size 432x288 with 1 Axes>"
      ]
     },
     "metadata": {
      "needs_background": "light"
     },
     "output_type": "display_data"
    }
   ],
   "source": [
    "plt.plot(ls[ellmin_plot:ellmax_plot], (factor*clpp_fid[ls])[ellmin_plot:ellmax_plot], label='Clpp')\n",
    "plt.plot(Ls, factor_L*norm_tt/Ls**2, label='N0 TT')\n",
    "plt.plot(Ls, factor_L*norm_eb/Ls**2, label='N0 EB')\n",
    "\n",
    "factor_ells = ells**2*(ells+1)**2/(2*np.pi)**2\n",
    "plt.plot(ells, factor_ells*utils.cli(qresp_dd.get_response('ptt', 'p')[ells]), label='N0 TT plk')\n",
    "plt.plot(ells, factor_ells*utils.cli(qresp_dd.get_response('p_eb', 'p')[ells]), label='N0 EB plk')\n",
    "plt.yscale('log')\n",
    "plt.xscale('log')\n",
    "plt.legend()"
   ]
  },
  {
   "cell_type": "code",
   "execution_count": 201,
   "id": "f8df0dbb-d38b-479e-9db7-d92b427bc41a",
   "metadata": {},
   "outputs": [],
   "source": [
    "# n1aa_05 = n1_dd.get_n1('reb', 'p', claa_05, ftl, fel, fbl, lmax_ivf-1)\n",
    "# n1aa_06 = n1_dd.get_n1('reb', 'p', claa_06, ftl, fel, fbl, lmax_ivf-1)\n",
    "# n1pp_tt = n1_dd.get_n1('ptt', 'p', clpp_fid, ftl, fel, fbl, lmax_ivf-1)\n",
    "# n1pp_eb = n1_dd.get_n1('peb', 'p', clpp_fid, ftl, fel, fbl, lmax_ivf-1)"
   ]
  },
  {
   "cell_type": "code",
   "execution_count": 202,
   "id": "02422faa-3dba-4758-8df1-451c36eb0aa1",
   "metadata": {},
   "outputs": [],
   "source": [
    "# n1aa_06 = n1_dd.get_n1('peb', 'r', claa_06, ftl, fel, fbl, lmax_ivf-1)\n",
    "n1aa_07 = n1_dd.get_n1('peb', 'r', claa_07, ftl, fel, fbl, ellmax)"
   ]
  },
  {
   "cell_type": "code",
   "execution_count": 203,
   "id": "44a5c607-5ef9-4a82-871d-f9b416be282f",
   "metadata": {},
   "outputs": [],
   "source": [
    "# n1pp_tt_n = utils.cli(qc_resp_tt)[:lmax_ivf]*n1pp_tt\n",
    "# n1pp_eb_n = utils.cli(qc_resp_eb)[:lmax_ivf]*n1pp_eb\n",
    "# n1aa_06_n = utils.cli(qc_resp_eb)[:lmax_ivf]*n1aa_06\n",
    "# n1aa_07_n = utils.cli(qc_resp_eb)[:ellmax+1]*n1aa_07\n",
    "n1aa_07_n = ((norm_eb*2*np.pi)/Ls**2)**2*n1aa_07[31:]"
   ]
  },
  {
   "cell_type": "code",
   "execution_count": 204,
   "id": "b8e0c7cb-a4db-4baa-9bf3-84b60f3a8956",
   "metadata": {},
   "outputs": [],
   "source": [
    "# plt.plot(Ls[Lmin:lmax_ivf], (factor*clpp_fid[:lmax_ivf])[Lmin:lmax_ivf])\n",
    "# plt.plot(Ls[Lmin:lmax_ivf], (factor*n1pp_tt_n)[Lmin:lmax_ivf], label='n1tt')\n",
    "# plt.plot(Ls[Lmin:lmax_ivf], (factor*n1pp_eb_n)[Lmin:lmax_ivf], label='n1eb')\n",
    "# plt.plot(Ls[Lmin:lmax_ivf], abs((factor*n1aa_07_n)[Lmin:lmax_ivf]), label='n1eb aa')\n",
    "\n",
    "# plt.xscale('log')\n",
    "# plt.yscale('log')\n",
    "# plt.legend()"
   ]
  },
  {
   "cell_type": "code",
   "execution_count": 206,
   "id": "f1bef799-c59c-4ed4-b163-df4d16c711c7",
   "metadata": {},
   "outputs": [
    {
     "data": {
      "text/plain": [
       "[<matplotlib.lines.Line2D at 0x7f4e119beac0>]"
      ]
     },
     "execution_count": 206,
     "metadata": {},
     "output_type": "execute_result"
    },
    {
     "data": {
      "image/png": "[encoded data removed]",
      "text/plain": [
       "<Figure size 432x288 with 1 Axes>"
      ]
     },
     "metadata": {
      "needs_background": "light"
     },
     "output_type": "display_data"
    }
   ],
   "source": [
    "plt.plot(bias)"
   ]
  },
  {
   "cell_type": "code",
   "execution_count": null,
   "id": "8af1126a-0c63-4035-9f5a-b3f5d1dc8136",
   "metadata": {},
   "outputs": [],
   "source": []
  }
 ],
 "metadata": {
  "kernelspec": {
   "display_name": "Python 3",
   "language": "python",
   "name": "python3"
  },
  "language_info": {
   "codemirror_mode": {
    "name": "ipython",
    "version": 3
   },
   "file_extension": ".py",
   "mimetype": "text/x-python",
   "name": "python",
   "nbconvert_exporter": "python",
   "pygments_lexer": "ipython3",
   "version": "3.8.8"
  }
 },
 "nbformat": 4,
 "nbformat_minor": 5
}
