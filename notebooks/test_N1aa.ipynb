{
 "cells": [
  {
   "cell_type": "code",
   "execution_count": 10,
   "id": "ccd2a838-02e4-481a-8b4a-bbdccec36b45",
   "metadata": {},
   "outputs": [],
   "source": [
    "import os\n",
    "import numpy as np\n",
    "import healpy as hp\n",
    "import matplotlib.pyplot as plt\n",
    "\n",
    "import plancklens\n",
    "from plancklens import utils\n",
    "from plancklens import nhl\n",
    "from plancklens.n1 import n1\n",
    "from plancklens import qest, qecl, qresp\n",
    "import orphics\n",
    "from orphics import maps, cosmology\n",
    "import pandas as pd\n",
    "\n",
    "import symlens as s\n",
    "import pixell\n",
    "from pixell import enmap\n",
    "# from pixell import enmap, curvedsky\n",
    "import curvedsky\n",
    "from math import pi"
   ]
  },
  {
   "cell_type": "code",
   "execution_count": 11,
   "id": "99b8e8f8-f2d9-48ea-803d-d3c692f10b31",
   "metadata": {},
   "outputs": [],
   "source": [
    "exps_config = {\n",
    "    'CMB_S3': {\n",
    "        'nlev_t': 7,\n",
    "        'nlev_p': 7*2**0.5,\n",
    "        'beam_arcmin': 1.4\n",
    "    },\n",
    "    'CMB_S4': {\n",
    "        'nlev_t': 1,\n",
    "        'nlev_p':2**0.5,\n",
    "        'beam_arcmin': 3\n",
    "    }\n",
    "}\n",
    "\n",
    "exps_config = {\n",
    "    'CMB_S4': {\n",
    "        'nlev_t': 1,\n",
    "        'nlev_p':2**0.5,\n",
    "        'beam_arcmin': 1.4\n",
    "    }\n",
    "}\n",
    "\n",
    "moments = {'moments1':{'ellmin':30, 'ellmax':3000, 'delta_L':150},\\\n",
    "           'moments2':{'ellmin':30, 'ellmax':4000, 'delta_L':200}}\n",
    "\n",
    "ellmin = 30\n",
    "lmax = 6000\n",
    "ls = np.arange(0, lmax+1)\n",
    "fac = (ls*(ls+1))**2/(2*pi)\n",
    "fac[0] = 1"
   ]
  },
  {
   "cell_type": "code",
   "execution_count": 12,
   "id": "d9a95af4-fa45-4aac-a7aa-35f876fc95c1",
   "metadata": {},
   "outputs": [],
   "source": [
    "clpp = np.loadtxt('/global/cscratch1/sd/hongbo/lens_rot_bias/inputPs/cosmo2017_10K_acc3_lenspotentialCls.dat', \\\n",
    "                  usecols=(5), unpack=True)\n",
    "clpp = np.concatenate(([1,1], clpp))[ls]/fac\n",
    "theory = cosmology.default_theory()\n",
    "cltt = theory.lCl('TT', ls)\n",
    "clte = theory.lCl('TE', ls)\n",
    "clee = theory.lCl('EE', ls)\n",
    "clbb = theory.lCl('BB', ls)"
   ]
  },
  {
   "cell_type": "code",
   "execution_count": 13,
   "id": "9046a9fa-0ebf-46d1-a495-79ccbb75ecde",
   "metadata": {},
   "outputs": [],
   "source": [
    "class bin1D(object):\n",
    "    def __init__(self, ls, bin_edges):\n",
    "        self.centers = (bin_edges[1:]+bin_edges[:-1])/2.\n",
    "        self.digitized = np.digitize(ls, bin_edges,right=True)\n",
    "        self.bin_edges = bin_edges\n",
    "    def bin(self,data1d,weights=None):\n",
    "        if weights is None:\n",
    "            res = np.bincount(self.digitized,(data1d).reshape(-1))[1:-1]/np.bincount(self.digitized)[1:-1]\n",
    "        else:\n",
    "            res = np.bincount(self.digitized,(data1d*weights).reshape(-1))[1:-1]/np.bincount(self.digitized,weights.reshape(-1))[1:-1]\n",
    "        return self.centers,res\n",
    "\n",
    "def binave(map, modlmap, ellmin, ellmax, delta_l):\n",
    "    bin_edges = np.arange(ellmin, ellmax+delta_l+1, delta_l)\n",
    "    binner = s.utils.bin2D(modlmap, bin_edges)\n",
    "\n",
    "    centers, p1d = binner.bin(map)\n",
    "    return centers, p1d"
   ]
  },
  {
   "cell_type": "code",
   "execution_count": 14,
   "id": "54f62538-3865-4e64-8783-c1e43f5ce78b",
   "metadata": {},
   "outputs": [],
   "source": [
    "shape, wcs = enmap.fullsky_geometry(res=2*pixell.utils.arcmin)"
   ]
  },
  {
   "cell_type": "code",
   "execution_count": 17,
   "id": "f7e6ab9b-e22f-4978-abb8-ea27b0e513fd",
   "metadata": {},
   "outputs": [
    {
     "ename": "NameError",
     "evalue": "name 'norm_k_tt' is not defined",
     "output_type": "error",
     "traceback": [
      "\u001b[0;31m---------------------------------------------------------------------------\u001b[0m",
      "\u001b[0;31mNameError\u001b[0m                                 Traceback (most recent call last)",
      "\u001b[0;32m<ipython-input-17-531b955d9812>\u001b[0m in \u001b[0;36m<module>\u001b[0;34m\u001b[0m\n\u001b[1;32m     24\u001b[0m                        \u001b[0mymask\u001b[0m\u001b[0;34m=\u001b[0m\u001b[0mcmask\u001b[0m\u001b[0;34m,\u001b[0m\u001b[0;34m\u001b[0m\u001b[0;34m\u001b[0m\u001b[0m\n\u001b[1;32m     25\u001b[0m                        kmask=kmask)\n\u001b[0;32m---> 26\u001b[0;31m \u001b[0mLs\u001b[0m\u001b[0;34m,\u001b[0m \u001b[0mnorm_tt\u001b[0m \u001b[0;34m=\u001b[0m \u001b[0mbinave\u001b[0m\u001b[0;34m(\u001b[0m\u001b[0mnorm_k_tt\u001b[0m\u001b[0;34m,\u001b[0m \u001b[0mmap_modlmap\u001b[0m\u001b[0;34m,\u001b[0m \u001b[0mellmin\u001b[0m\u001b[0;34m+\u001b[0m\u001b[0;36m0.5\u001b[0m\u001b[0;34m,\u001b[0m \u001b[0mellmax\u001b[0m\u001b[0;34m-\u001b[0m\u001b[0;36m1\u001b[0m\u001b[0;34m,\u001b[0m \u001b[0;36m1\u001b[0m\u001b[0;34m)\u001b[0m\u001b[0;34m\u001b[0m\u001b[0;34m\u001b[0m\u001b[0m\n\u001b[0m\u001b[1;32m     27\u001b[0m \u001b[0mLs\u001b[0m\u001b[0;34m,\u001b[0m \u001b[0mnorm_eb\u001b[0m \u001b[0;34m=\u001b[0m \u001b[0mbinave\u001b[0m\u001b[0;34m(\u001b[0m\u001b[0mnorm_k_eb\u001b[0m\u001b[0;34m,\u001b[0m \u001b[0mmap_modlmap\u001b[0m\u001b[0;34m,\u001b[0m \u001b[0mellmin\u001b[0m\u001b[0;34m+\u001b[0m\u001b[0;36m0.5\u001b[0m\u001b[0;34m,\u001b[0m \u001b[0mellmax\u001b[0m\u001b[0;34m-\u001b[0m\u001b[0;36m1\u001b[0m\u001b[0;34m,\u001b[0m \u001b[0;36m1\u001b[0m\u001b[0;34m)\u001b[0m\u001b[0;34m\u001b[0m\u001b[0;34m\u001b[0m\u001b[0m\n\u001b[1;32m     28\u001b[0m \u001b[0mnp\u001b[0m\u001b[0;34m.\u001b[0m\u001b[0msavetxt\u001b[0m\u001b[0;34m(\u001b[0m\u001b[0;34m\"norm_eb_symlens.txt\"\u001b[0m\u001b[0;34m,\u001b[0m \u001b[0mnorm_eb\u001b[0m\u001b[0;34m)\u001b[0m\u001b[0;34m\u001b[0m\u001b[0;34m\u001b[0m\u001b[0m\n",
      "\u001b[0;31mNameError\u001b[0m: name 'norm_k_tt' is not defined"
     ]
    }
   ],
   "source": [
    "ellmaxs = [3000]\n",
    "for exp, param in exps_config.items():\n",
    "    for ellmax in ellmaxs:\n",
    "        feed_dict = {}\n",
    "        \n",
    "        map_modlmap = enmap.modlmap(shape, wcs)\n",
    "        kbeam = s.utils.gauss_beam(map_modlmap, param['beam_arcmin'])\n",
    "        n2d = (param['nlev_p']*np.pi/180./60.)**2./kbeam**2.\n",
    "        \n",
    "        ells = np.arange(0, ellmax+1)\n",
    "        feed_dict['uC_E_E'] = s.utils.interp(ells, clee[ells])(map_modlmap)\n",
    "        feed_dict['tC_E_E'] = feed_dict['uC_E_E'] + n2d\n",
    "        feed_dict['tC_B_B'] = n2d\n",
    "        \n",
    "        cmask = s.utils.mask_kspace(shape, wcs, lmin=ellmin, lmax=ellmax)\n",
    "        kmask = s.utils.mask_kspace(shape, wcs, lmin=ellmin, lmax=ellmax)\n",
    "        \n",
    "        norm_k_eb = s.A_l(shape,\n",
    "                       wcs,\n",
    "                       feed_dict,\n",
    "                       \"hu_ok\",\n",
    "                       'EB',\n",
    "                       xmask=cmask,\n",
    "                       ymask=cmask,\n",
    "                       kmask=kmask)\n",
    "# Ls, norm_tt = binave(norm_k_tt, map_modlmap, ellmin+0.5, ellmax-1, 1)"
   ]
  },
  {
   "cell_type": "code",
   "execution_count": 18,
   "id": "b939a9af-c962-4c10-8c6f-144ec4621a6c",
   "metadata": {},
   "outputs": [],
   "source": [
    "Ls, norm_eb = binave(norm_k_eb, map_modlmap, ellmin+0.5, ellmax-1, 1)\n",
    "np.savetxt(\"norm_eb_symlens.txt\", norm_eb)"
   ]
  },
  {
   "cell_type": "code",
   "execution_count": 32,
   "id": "eda1fe9b-dbf8-4661-93ea-6978ce053bcc",
   "metadata": {},
   "outputs": [],
   "source": [
    "np.savetxt(\"Ls.txt\", Ls)"
   ]
  },
  {
   "cell_type": "code",
   "execution_count": 19,
   "id": "f4c75f58-9e09-43ec-a943-f492faab2a4e",
   "metadata": {},
   "outputs": [],
   "source": [
    "norm_eb_sml = np.loadtxt('norm_eb_symlens.txt')"
   ]
  },
  {
   "cell_type": "code",
   "execution_count": 20,
   "id": "7aa5e811-9c32-41a3-aedf-f3eae5e911ec",
   "metadata": {},
   "outputs": [],
   "source": [
    "# use cmblensplus to calculate norm and noise\n",
    "ellmaxs = [3000]\n",
    "for exp, param in exps_config.items():\n",
    "    for ellmax in ellmaxs:\n",
    "        clee, clbb = theory.lCl('EE', ls), theory.lCl('BB', ls)\n",
    "        nlee = (param['nlev_p']*np.pi/180/60)**2/maps.gauss_beam(ls, param['beam_arcmin'])**2\n",
    "        nlbb = nlee\n",
    "        oclee = clee + nlee\n",
    "        oclbb = clbb + nlbb\n",
    "        oclee[0], oclee[1], oclbb[0], oclbb[1] = 1, 1, 1, 1\n",
    "\n",
    "        oclee[0], oclee[1], oclbb[0], oclbb[1] = 1, 1, 1, 1\n",
    "        Al_eb = curvedsky.norm_quad.qeb('lens', ellmax, ellmin, ellmax, clee[:ellmax+1],\\\n",
    "                                        oclee[:ellmax+1], oclbb[:ellmax+1], lfac='')                             "
   ]
  },
  {
   "cell_type": "code",
   "execution_count": 31,
   "id": "ec876788-3d0a-4e10-a60d-63a2b7d68121",
   "metadata": {},
   "outputs": [],
   "source": [
    "np.savetxt('Al_eb_clp.txt', Al_eb)"
   ]
  },
  {
   "cell_type": "code",
   "execution_count": 24,
   "id": "514b3311-39d1-4f74-a845-3d78fabff0c1",
   "metadata": {},
   "outputs": [
    {
     "data": {
      "text/plain": [
       "<matplotlib.legend.Legend at 0x15550f491850>"
      ]
     },
     "execution_count": 24,
     "metadata": {},
     "output_type": "execute_result"
    },
    {
     "data": {
      "image/png": "[encoded data removed]",
      "text/plain": [
       "<Figure size 432x288 with 1 Axes>"
      ]
     },
     "metadata": {
      "needs_background": "light"
     },
     "output_type": "display_data"
    }
   ],
   "source": [
    "plt.plot(Ls, norm_eb/Ls**2, label='N0 EB sml')\n",
    "plt.plot(Ls, Al_eb[0][31:], label='N0 EB clp')\n",
    "plt.yscale('log')\n",
    "plt.xscale('log')\n",
    "plt.legend()"
   ]
  },
  {
   "cell_type": "code",
   "execution_count": 29,
   "id": "fabaee6e-16ef-46d5-9e3e-1f858ce801b9",
   "metadata": {},
   "outputs": [
    {
     "data": {
      "text/plain": [
       "[<matplotlib.lines.Line2D at 0x15550f058450>]"
      ]
     },
     "execution_count": 29,
     "metadata": {},
     "output_type": "execute_result"
    },
    {
     "data": {
      "image/png": "[encoded data removed]",
      "text/plain": [
       "<Figure size 432x288 with 1 Axes>"
      ]
     },
     "metadata": {
      "needs_background": "light"
     },
     "output_type": "display_data"
    }
   ],
   "source": [
    "plt.plot(Ls, norm_eb/(Ls**2)/Al_eb[0][31:])"
   ]
  },
  {
   "cell_type": "code",
   "execution_count": null,
   "id": "5dbc0212-1ba0-4aa7-aabd-7efeff365aa6",
   "metadata": {},
   "outputs": [],
   "source": [
    "# claa_07 = np.loadtxt('/global/cscratch1/sd/hongbo/lens_rot_bias/inputPs/claa_A1e-07.txt')[:,1]\n",
    "\n",
    "# ftl = utils.cli(cltt[:ellmax + 1] + (param['nlev_t'] / 60. / 180. * np.pi / transf) ** 2)\n",
    "# fel = utils.cli(clee[:ellmax + 1] + (param['nlev_p'] / 60. / 180. * np.pi / transf) ** 2)\n",
    "# fbl = utils.cli(clbb[:ellmax + 1] + (param['nlev_p'] / 60. / 180. * np.pi / transf) ** 2)\n",
    "# ftl[:ellmin] *= 0.\n",
    "# fel[:ellmin] *= 0.\n",
    "# fbl[:ellmin] *= 0.\n",
    "\n",
    "# #---- N1 lensing bias library:\n",
    "# n1_dd = n1.library_n1('.',cltt,clte,clee)\n",
    "# n1aa_07 = n1_dd.get_n1('peb', 'r', claa_07, ftl, fel, fbl, ellmax)"
   ]
  },
  {
   "cell_type": "code",
   "execution_count": null,
   "id": "7fd979c0-00ba-45cb-a562-f2aa3c24c590",
   "metadata": {},
   "outputs": [],
   "source": [
    "n1aa_07_n = ((norm_eb*2*np.pi)/Ls**2)**2*n1aa_07[31:]"
   ]
  },
  {
   "cell_type": "code",
   "execution_count": 11,
   "id": "a4810eea-c6aa-4161-9892-1d5429118d5b",
   "metadata": {},
   "outputs": [],
   "source": [
    "# for exp, param in exps_config.items():\n",
    "#     for ellmax in ellmaxs:\n",
    "#         feed_dict = {}\n",
    "#         map_modlmap = enmap.modlmap(shape, wcs)\n",
    "#         kbeam = s.utils.gauss_beam(map_modlmap, param['beam_arcmin'])\n",
    "#         n2d = (param['nlev_t']*np.pi/180./60.)**2./kbeam**2.\n",
    "        \n",
    "#         feed_dict['uC_T_T'] = s.utils.interp(ells, clee)(map_modlmap)\n",
    "#         feed_dict['tC_T_T'] = feed_dict['uC_T_T'] + n2d\n",
    "        \n",
    "#         cmask = s.utils.mask_kspace(shape, wcs, lmin=ellmin, lmax=ellmax)\n",
    "#         kmask = s.utils.mask_kspace(shape, wcs, lmin=ellmin, lmax=ellmax)\n",
    "        \n",
    "#         norm_k_tt = s.A_l(shape,\n",
    "#                        wcs,\n",
    "#                        feed_dict,\n",
    "#                        \"hu_ok\",\n",
    "#                        'TT',\n",
    "#                        xmask=cmask,\n",
    "#                        ymask=cmask,\n",
    "#                        kmask=kmask)        "
   ]
  },
  {
   "cell_type": "code",
   "execution_count": 50,
   "id": "b5e09101-b0e5-4bd1-ad4c-c5d73abf09ee",
   "metadata": {},
   "outputs": [],
   "source": [
    "# factor = ls**2*(ls+1)**2/(2*np.pi)\n",
    "\n",
    "# plt.plot(ls[ellmin_plot:ellmax_plot], (factor*clpp_fid[ls])[ellmin_plot:ellmax_plot], label='Clpp')\n",
    "# plt.plot(Ls, factor_L*norm_tt/Ls**2, label='N0 TT')\n",
    "# plt.plot(Ls, factor_L*norm_eb/Ls**2, label='N0 EB')\n",
    "# plt.yscale('log')\n",
    "# plt.xscale('log')\n",
    "# plt.legend()"
   ]
  },
  {
   "cell_type": "code",
   "execution_count": 53,
   "id": "368aebfa-026d-4451-8e66-4a8f3e2e8fa6",
   "metadata": {},
   "outputs": [],
   "source": [
    "# transf = hp.gauss_beam(5. / 60. / 180. * np.pi, lmax=lmax_ivf) * hp.pixwin(nside)[:lmax_ivf + 1]\n",
    "# transf = hp.gauss_beam(5. / 60. / 180. * np.pi, lmax=lmax_qlm) * maps.gauss_beam(ls, beam_arcmin)\n",
    "# ells = np.arange(0, ellmax+1)\n",
    "transf = hp.gauss_beam(5. / 60. / 180. * np.pi, lmax=ellmax) * maps.gauss_beam(ells, param['beam_arcmin'])"
   ]
  },
  {
   "cell_type": "code",
   "execution_count": 179,
   "id": "0a3ee046-6595-4b7a-b14b-0a20c49874ec",
   "metadata": {
    "tags": []
   },
   "outputs": [],
   "source": [
    "libdir_n1_dd = '.'\n",
    "# normalize n1\n",
    "cl_weight = utils.camb_clfile(os.path.join(cls_path, 'FFP10_wdipole_lensedCls.dat'))\n",
    "cl_weight['bb'] *= 0.\n",
    "\n",
    "cl_weight = utils.camb_clfile(os.path.join(cls_path, 'FFP10_wdipole_lensedCls.dat'))\n",
    "cl_weight['bb'] *= 0.\n",
    "\n",
    "qresp_dd = qresp.resp_lib_simple(libdir_n1_dd, ellmax, cl_weight, cl_len,\\\n",
    "                     {'t': ftl, 'e': fel, 'b': fbl}, ellmax)\n",
    "qc_resp_tt = qresp_dd.get_response('ptt', 'p')**2\n",
    "qc_resp_eb = qresp_dd.get_response('p_eb', 'p')**2"
   ]
  },
  {
   "cell_type": "code",
   "execution_count": 210,
   "id": "2e85f4cc-5f09-4632-bce5-644ca7855cb6",
   "metadata": {},
   "outputs": [
    {
     "data": {
      "text/plain": [
       "<matplotlib.legend.Legend at 0x7f4e118b0b50>"
      ]
     },
     "execution_count": 210,
     "metadata": {},
     "output_type": "execute_result"
    },
    {
     "data": {
      "image/png": "[encoded data removed]",
      "text/plain": [
       "<Figure size 432x288 with 1 Axes>"
      ]
     },
     "metadata": {
      "needs_background": "light"
     },
     "output_type": "display_data"
    }
   ],
   "source": [
    "plt.plot(ls[ellmin_plot:ellmax_plot], (factor*clpp_fid[ls])[ellmin_plot:ellmax_plot], label='Clpp')\n",
    "plt.plot(Ls, factor_L*norm_tt/Ls**2, label='N0 TT')\n",
    "plt.plot(Ls, factor_L*norm_eb/Ls**2, label='N0 EB')\n",
    "\n",
    "factor_ells = ells**2*(ells+1)**2/(2*np.pi)**2\n",
    "plt.plot(ells, factor_ells*utils.cli(qresp_dd.get_response('ptt', 'p')[ells]), label='N0 TT plk')\n",
    "plt.plot(ells, factor_ells*utils.cli(qresp_dd.get_response('p_eb', 'p')[ells]), label='N0 EB plk')\n",
    "plt.yscale('log')\n",
    "plt.xscale('log')\n",
    "plt.legend()"
   ]
  },
  {
   "cell_type": "code",
   "execution_count": 201,
   "id": "f8df0dbb-d38b-479e-9db7-d92b427bc41a",
   "metadata": {},
   "outputs": [],
   "source": [
    "# n1aa_05 = n1_dd.get_n1('reb', 'p', claa_05, ftl, fel, fbl, lmax_ivf-1)\n",
    "# n1aa_06 = n1_dd.get_n1('reb', 'p', claa_06, ftl, fel, fbl, lmax_ivf-1)\n",
    "# n1pp_tt = n1_dd.get_n1('ptt', 'p', clpp_fid, ftl, fel, fbl, lmax_ivf-1)\n",
    "# n1pp_eb = n1_dd.get_n1('peb', 'p', clpp_fid, ftl, fel, fbl, lmax_ivf-1)"
   ]
  },
  {
   "cell_type": "code",
   "execution_count": 202,
   "id": "02422faa-3dba-4758-8df1-451c36eb0aa1",
   "metadata": {},
   "outputs": [],
   "source": [
    "# n1aa_06 = n1_dd.get_n1('peb', 'r', claa_06, ftl, fel, fbl, lmax_ivf-1)\n",
    "n1aa_07 = n1_dd.get_n1('peb', 'r', claa_07, ftl, fel, fbl, ellmax)"
   ]
  },
  {
   "cell_type": "code",
   "execution_count": 203,
   "id": "44a5c607-5ef9-4a82-871d-f9b416be282f",
   "metadata": {},
   "outputs": [],
   "source": [
    "# n1pp_tt_n = utils.cli(qc_resp_tt)[:lmax_ivf]*n1pp_tt\n",
    "# n1pp_eb_n = utils.cli(qc_resp_eb)[:lmax_ivf]*n1pp_eb\n",
    "# n1aa_06_n = utils.cli(qc_resp_eb)[:lmax_ivf]*n1aa_06\n",
    "# n1aa_07_n = utils.cli(qc_resp_eb)[:ellmax+1]*n1aa_07\n",
    "n1aa_07_n = ((norm_eb*2*np.pi)/Ls**2)**2*n1aa_07[31:]"
   ]
  },
  {
   "cell_type": "code",
   "execution_count": 204,
   "id": "b8e0c7cb-a4db-4baa-9bf3-84b60f3a8956",
   "metadata": {},
   "outputs": [],
   "source": [
    "# plt.plot(Ls[Lmin:lmax_ivf], (factor*clpp_fid[:lmax_ivf])[Lmin:lmax_ivf])\n",
    "# plt.plot(Ls[Lmin:lmax_ivf], (factor*n1pp_tt_n)[Lmin:lmax_ivf], label='n1tt')\n",
    "# plt.plot(Ls[Lmin:lmax_ivf], (factor*n1pp_eb_n)[Lmin:lmax_ivf], label='n1eb')\n",
    "# plt.plot(Ls[Lmin:lmax_ivf], abs((factor*n1aa_07_n)[Lmin:lmax_ivf]), label='n1eb aa')\n",
    "\n",
    "# plt.xscale('log')\n",
    "# plt.yscale('log')\n",
    "# plt.legend()"
   ]
  },
  {
   "cell_type": "code",
   "execution_count": 205,
   "id": "41b1866a-98b4-4e9a-afd7-08f2258c9a0b",
   "metadata": {},
   "outputs": [],
   "source": [
    "data = pd.read_csv('./CMB_S4_30_3000_n.csv')\n",
    "bias = ((data['EB_rot_reckap_x_reckap']-data['EB_reckap_x_reckap'])-(data['EB_rot_rdn0']-data['EB_rdn0']))/\\\n",
    "                 data['EB_inkap_x_inkap']"
   ]
  },
  {
   "cell_type": "code",
   "execution_count": 206,
   "id": "f1bef799-c59c-4ed4-b163-df4d16c711c7",
   "metadata": {},
   "outputs": [
    {
     "data": {
      "text/plain": [
       "[<matplotlib.lines.Line2D at 0x7f4e119beac0>]"
      ]
     },
     "execution_count": 206,
     "metadata": {},
     "output_type": "execute_result"
    },
    {
     "data": {
      "image/png": "[encoded data removed]",
      "text/plain": [
       "<Figure size 432x288 with 1 Axes>"
      ]
     },
     "metadata": {
      "needs_background": "light"
     },
     "output_type": "display_data"
    }
   ],
   "source": [
    "plt.plot(bias)"
   ]
  },
  {
   "cell_type": "code",
   "execution_count": 222,
   "id": "4cbc8830-aabb-4ce7-8145-5e228835acbc",
   "metadata": {},
   "outputs": [
    {
     "data": {
      "text/plain": [
       "<matplotlib.legend.Legend at 0x7f4e112e74f0>"
      ]
     },
     "execution_count": 222,
     "metadata": {},
     "output_type": "execute_result"
    },
    {
     "data": {
      "image/png": "[encoded data removed]",
      "text/plain": [
       "<Figure size 432x288 with 1 Axes>"
      ]
     },
     "metadata": {
      "needs_background": "light"
     },
     "output_type": "display_data"
    }
   ],
   "source": [
    "plt.plot(Ls[:-1], 100*n1aa_07_n[:-1]/clpp_fid[31:3000], label='-07')\n",
    "# plt.plot(-norm_eb/Ls**2/clpp_fid[31:3001], label='N0/clpp')\n",
    "plt.plot(bias, label='sim')\n",
    "# plt.plot(Ls[Lmin:lmax_ivf], (n1aa_06_n[:lmax_ivf]/clpp_fid[:lmax_ivf])[Lmin:lmax_ivf], label='-06')\n",
    "plt.legend()"
   ]
  },
  {
   "cell_type": "code",
   "execution_count": null,
   "id": "8af1126a-0c63-4035-9f5a-b3f5d1dc8136",
   "metadata": {},
   "outputs": [],
   "source": []
  }
 ],
 "metadata": {
  "kernelspec": {
   "display_name": "myenv-jupyter",
   "language": "python",
   "name": "myenv-jupyter"
  },
  "language_info": {
   "codemirror_mode": {
    "name": "ipython",
    "version": 3
   },
   "file_extension": ".py",
   "mimetype": "text/x-python",
   "name": "python",
   "nbconvert_exporter": "python",
   "pygments_lexer": "ipython3",
   "version": "3.7.9"
  }
 },
 "nbformat": 4,
 "nbformat_minor": 5
}
