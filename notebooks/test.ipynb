{
 "cells": [
  {
   "cell_type": "code",
   "execution_count": 37,
   "id": "79439c44-4a86-40e3-b153-4f08d2d548d7",
   "metadata": {},
   "outputs": [],
   "source": [
    "from pixell import powspec\n",
    "import math\n",
    "import numpy as np\n",
    "import sys, os\n",
    "# add the parent dir in the python path                                                                                                                                                  \n",
    "sys.path.append(os.path.dirname(os.getcwd()))                                                                                                                                            \n",
    "import param as p  "
   ]
  },
  {
   "cell_type": "code",
   "execution_count": 1,
   "id": "3cbf1926-018f-46f4-8635-c32a12924318",
   "metadata": {},
   "outputs": [
    {
     "name": "stdout",
     "output_type": "stream",
     "text": [
      "<class 'list'>\n"
     ]
    }
   ],
   "source": [
    "cmb_sets = [0]\n",
    "print(type(cmb_sets))"
   ]
  },
  {
   "cell_type": "code",
   "execution_count": 24,
   "id": "af2ea181-cc00-4134-8c22-42aca2f5aa16",
   "metadata": {},
   "outputs": [
    {
     "name": "stdout",
     "output_type": "stream",
     "text": [
      "0\n"
     ]
    }
   ],
   "source": [
    "for cmb_set in cmb_sets:\n",
    "    print(cmb_set)"
   ]
  },
  {
   "cell_type": "code",
   "execution_count": 25,
   "id": "6a1c2d72-04d9-4501-bf05-4105cf0b07e2",
   "metadata": {},
   "outputs": [],
   "source": [
    "lens_ps = '../inputPs/cosmo2017_10K_acc3_lenspotentialCls.dat'"
   ]
  },
  {
   "cell_type": "code",
   "execution_count": 26,
   "id": "ee630a88-7556-40a2-bcea-98057309431e",
   "metadata": {},
   "outputs": [],
   "source": [
    "ps = powspec.read_camb_full_lens(lens_ps)"
   ]
  },
  {
   "cell_type": "code",
   "execution_count": 19,
   "id": "2dc5c80e-65aa-44f4-80fe-1a3492d7cd09",
   "metadata": {},
   "outputs": [],
   "source": [
    "sim_nums = [2, 3, 4]\n",
    "sim_jobs = [1, 2]\n",
    "\n",
    "nsim_per_job = np.ceil(len(sim_nums)/len(sim_jobs))"
   ]
  },
  {
   "cell_type": "code",
   "execution_count": 41,
   "id": "102fe5e0-fd62-420e-a038-b12ccfa57475",
   "metadata": {},
   "outputs": [],
   "source": [
    "sim_num_chuncks = np.array_split(sim_nums, nsim_per_job)\n",
    "qos = 'regular'\n",
    "time = '00:30:00'\n",
    "OMP_NUM_THREADS = 4\n",
    "n_tasks_per_node = nsim_per_job * OMP_NUM_THREADS\n",
    "job_path = p.repodir + 'jobs/'\n",
    "sim_path = p.repodir + 'src'"
   ]
  },
  {
   "cell_type": "code",
   "execution_count": 45,
   "id": "9a27dabd-58e9-4738-a36f-33eef107c2db",
   "metadata": {},
   "outputs": [
    {
     "name": "stdout",
     "output_type": "stream",
     "text": [
      "1: 2\n",
      "1: 3\n",
      "2: 4\n"
     ]
    }
   ],
   "source": [
    "for i, sim_job in enumerate(sim_jobs):\n",
    "    f = open('../jobs/sim_job_%s' %sim_job, 'w')\n",
    "    f.write('#!/bin/bash\\n')\n",
    "    f.write('#SBATCH --qos %s\\n' %qos)\n",
    "    f.write('#SBATCH --constraint=haswell\\n')\n",
    "    f.write('#SBATCH -N 1\\n')\n",
    "    f.write('#SBATCH -t %s\\n' %time)\n",
    "    f.write('#SBATCH --ntasks-per-node=%s\\n' %n_tasks_per_node)\n",
    "    f.write('#SBATCH --license=SCRATCH\\n')\n",
    "    f.write('#SBATCH --output=%sslurmjob.log.%d\\n' %(job_path, sim_job))\n",
    "    f.write('\\n')\n",
    "    f.write('cd %s\\n\\n' %sim_path)\n",
    "    for sim_num in sim_num_chuncks[i]:\n",
    "        print('%s: %s'%(sim_job,sim_num))    \n",
    "        f.write('OMP_NUM_THREADS=%s python CMBLensed_sim.py --sim_num=%s\\n' %(OMP_NUM_THREADS, sim_num))\n",
    "    f.write('wait\\n')\n",
    "    f.close()"
   ]
  },
  {
   "cell_type": "code",
   "execution_count": null,
   "id": "e6e525c0-5775-46c4-b69e-4de80bf101bd",
   "metadata": {},
   "outputs": [],
   "source": []
  }
 ],
 "metadata": {
  "kernelspec": {
   "display_name": "myenv-jupyter",
   "language": "python",
   "name": "myenv-jupyter"
  },
  "language_info": {
   "codemirror_mode": {
    "name": "ipython",
    "version": 3
   },
   "file_extension": ".py",
   "mimetype": "text/x-python",
   "name": "python",
   "nbconvert_exporter": "python",
   "pygments_lexer": "ipython3",
   "version": "3.7.9"
  }
 },
 "nbformat": 4,
 "nbformat_minor": 5
}
