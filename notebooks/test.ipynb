{
 "cells": [
  {
   "cell_type": "code",
   "execution_count": 8,
   "id": "0218aad0-2d90-4a1f-b282-b5c651beb674",
   "metadata": {},
   "outputs": [],
   "source": [
    "from pixell import powspec\n",
    "import math\n",
    "import numpy as np\n",
    "import sys, os\n",
    "# add the parent dir in the python path                                                                                                                                                  \n",
    "sys.path.append(os.path.dirname(os.getcwd()))                                                                                                                                            \n",
    "import param as p  \n"
   ]
  },
  {
   "cell_type": "code",
   "execution_count": 9,
   "id": "6a1c2d72-04d9-4501-bf05-4105cf0b07e2",
   "metadata": {},
   "outputs": [],
   "source": [
    "lens_ps = '../inputPs/cosmo2017_10K_acc3_lenspotentialCls.dat'"
   ]
  },
  {
   "cell_type": "code",
   "execution_count": 10,
   "id": "ee630a88-7556-40a2-bcea-98057309431e",
   "metadata": {},
   "outputs": [],
   "source": [
    "ps = powspec.read_camb_full_lens(lens_ps)"
   ]
  },
  {
   "cell_type": "code",
   "execution_count": 11,
   "id": "2dc5c80e-65aa-44f4-80fe-1a3492d7cd09",
   "metadata": {},
   "outputs": [],
   "source": [
    "sim_nums = [2, 3, 4, 5, 6, 7, 8, 9]\n",
    "sim_jobs = [1, 2]\n",
    "\n",
    "nsim_per_job = np.ceil(len(sim_nums)/len(sim_jobs))"
   ]
  },
  {
   "cell_type": "code",
   "execution_count": 12,
   "id": "102fe5e0-fd62-420e-a038-b12ccfa57475",
   "metadata": {},
   "outputs": [],
   "source": [
    "sim_num_chuncks = np.array_split(sim_nums, len(sim_jobs))\n",
    "qos = 'regular'\n",
    "time = '00:30:00'\n",
    "OMP_NUM_THREADS = 4\n",
    "n_tasks_per_node = nsim_per_job * OMP_NUM_THREADS\n",
    "job_path = p.repodir + 'jobs/'\n",
    "sim_path = p.repodir + 'src'"
   ]
  },
  {
   "cell_type": "code",
   "execution_count": 13,
   "id": "b3c35db1-e319-4cb7-873c-adea6e57b9df",
   "metadata": {},
   "outputs": [
    {
     "data": {
      "text/plain": [
       "[array([2, 3, 4, 5]), array([6, 7, 8, 9])]"
      ]
     },
     "execution_count": 13,
     "metadata": {},
     "output_type": "execute_result"
    }
   ],
   "source": [
    "sim_num_chuncks"
   ]
  },
  {
   "cell_type": "code",
   "execution_count": 14,
   "id": "9a27dabd-58e9-4738-a36f-33eef107c2db",
   "metadata": {},
   "outputs": [
    {
     "name": "stdout",
     "output_type": "stream",
     "text": [
      "1: 2\n",
      "1: 3\n",
      "1: 4\n",
      "1: 5\n",
      "2: 6\n",
      "2: 7\n",
      "2: 8\n",
      "2: 9\n"
     ]
    }
   ],
   "source": [
    "for i, sim_job in enumerate(sim_jobs):\n",
    "    # f = open('../jobs/sim_job_%s' %sim_job, 'w')\n",
    "    # f.write('#!/bin/bash\\n')\n",
    "    # f.write('#SBATCH --qos %s\\n' %qos)\n",
    "    # f.write('#SBATCH --constraint=haswell\\n')\n",
    "    # f.write('#SBATCH -N 1\\n')\n",
    "    # f.write('#SBATCH -t %s\\n' %time)\n",
    "    # f.write('#SBATCH --ntasks-per-node=%s\\n' %n_tasks_per_node)\n",
    "    # f.write('#SBATCH --license=SCRATCH\\n')\n",
    "    # f.write('#SBATCH --output=%sslurmjob.log.%d\\n' %(job_path, sim_job))\n",
    "    # f.write('\\n')\n",
    "    # f.write('cd %s\\n\\n' %sim_path)\n",
    "    # print('%s: %s' %(i, sim_job))\n",
    "    for sim_num in sim_num_chuncks[i]:\n",
    "        print('%s: %s'%(sim_job,sim_num))    \n",
    "        # f.write('OMP_NUM_THREADS=%s python CMBLensed_sim.py --sim_num=%s\\n' %(OMP_NUM_THREADS, sim_num))\n",
    "    # f.write('wait\\n')\n",
    "    # f.close()"
   ]
  },
  {
   "cell_type": "code",
   "execution_count": 15,
   "id": "e6e525c0-5775-46c4-b69e-4de80bf101bd",
   "metadata": {},
   "outputs": [
    {
     "data": {
      "text/plain": [
       "1"
      ]
     },
     "execution_count": 15,
     "metadata": {},
     "output_type": "execute_result"
    }
   ],
   "source": [
    "len(p.exps_config)"
   ]
  },
  {
   "cell_type": "code",
   "execution_count": 16,
   "id": "b4e233e9-163e-4268-a889-fe7ddab29795",
   "metadata": {},
   "outputs": [],
   "source": [
    "import numpy as np\n",
    "sim_nums = [0, 1, 2, 3, 4, 5, 6, 7, 8, 9]                                                                                                                                                     \n",
    "recon_jobs = [1, 2, 3, 4, 5, 6, 7, 8, 9]                                                                                                                                                                     \n",
    "                                                                                                                                                                                              \n",
    "nrecon_per_job = int(np.ceil(len(sim_nums)*len(p.exps_config)*len(p.moments)/len(recon_jobs)))                                                                                                   \n",
    "                                                                                                                                                                                              \n",
    "qos = 'regular'                                                                                                                                                                               \n",
    "time = '00:30:00'                                                                                                                                                                             \n",
    "OMP_NUM_THREADS = 4                                                                                                                                                                           \n",
    "n_tasks_per_node = int(nrecon_per_job * OMP_NUM_THREADS)                                                                                                                                      \n",
    "job_path = p.repodir + 'reconJobs/'                                                                                                                                                           \n",
    "sim_path = p.repodir + 'src'                                                                                                                                                                  \n",
    "                                                                                                                                                                                              \n",
    "# arguments list for all processes                                                                                                                                                            \n",
    "args_list = []                                                                                                                                                                                \n",
    "                                                                                                                                                                                              \n",
    "for experiment, values  in p.exps_config.items():                                                                                                                                             \n",
    "    for sim_num in sim_nums:                                                                                                                                                                  \n",
    "        for groups, moment in p.moments.items():                                                                                                                                              \n",
    "            args_dict = {}                                                                                                                                                                    \n",
    "            args_dict['sim_num'] = sim_num                                                                                                                                                   \n",
    "            args_dict['experiment'] = experiment                                                                                                                                              \n",
    "            args_dict['nlev_t'] = values['nlev_t']                                                                                                                                            \n",
    "            args_dict['nlev_p'] = values['nlev_p']                                                                                                                                            \n",
    "            args_dict['beam_arcmin'] = values['beam_arcmin']                                                                                                                                  \n",
    "            args_dict['ellmin' ]= moment['ellmin']                                                                                                                                            \n",
    "            args_dict['ellmax' ]= moment['ellmax']                                                                                                                                            \n",
    "            args_dict['delta_L'] = moment['delta_L']                                                                                                                                          \n",
    "            args_dict['pure'] = p.pure                                                                                                                                                        \n",
    "            args_list.append(args_dict)                                                                                                                                                       \n",
    "\n",
    "            \n",
    "recon_job_chuncks = np.array_split(args_list, len(recon_jobs))"
   ]
  },
  {
   "cell_type": "code",
   "execution_count": 17,
   "id": "5821e2d9-aa0b-4019-a6f3-8d24a215491b",
   "metadata": {},
   "outputs": [
    {
     "data": {
      "text/plain": [
       "[array([{'sim_num': 0, 'experiment': 'CMB_S4', 'nlev_t': 1, 'nlev_p': 1.4142135623730951, 'beam_arcmin': 3, 'ellmin': 30, 'ellmax': 3000, 'delta_L': 150, 'pure': 'no'},\n",
       "        {'sim_num': 0, 'experiment': 'CMB_S4', 'nlev_t': 1, 'nlev_p': 1.4142135623730951, 'beam_arcmin': 3, 'ellmin': 30, 'ellmax': 4000, 'delta_L': 200, 'pure': 'no'},\n",
       "        {'sim_num': 1, 'experiment': 'CMB_S4', 'nlev_t': 1, 'nlev_p': 1.4142135623730951, 'beam_arcmin': 3, 'ellmin': 30, 'ellmax': 3000, 'delta_L': 150, 'pure': 'no'}],\n",
       "       dtype=object),\n",
       " array([{'sim_num': 1, 'experiment': 'CMB_S4', 'nlev_t': 1, 'nlev_p': 1.4142135623730951, 'beam_arcmin': 3, 'ellmin': 30, 'ellmax': 4000, 'delta_L': 200, 'pure': 'no'},\n",
       "        {'sim_num': 2, 'experiment': 'CMB_S4', 'nlev_t': 1, 'nlev_p': 1.4142135623730951, 'beam_arcmin': 3, 'ellmin': 30, 'ellmax': 3000, 'delta_L': 150, 'pure': 'no'},\n",
       "        {'sim_num': 2, 'experiment': 'CMB_S4', 'nlev_t': 1, 'nlev_p': 1.4142135623730951, 'beam_arcmin': 3, 'ellmin': 30, 'ellmax': 4000, 'delta_L': 200, 'pure': 'no'}],\n",
       "       dtype=object),\n",
       " array([{'sim_num': 3, 'experiment': 'CMB_S4', 'nlev_t': 1, 'nlev_p': 1.4142135623730951, 'beam_arcmin': 3, 'ellmin': 30, 'ellmax': 3000, 'delta_L': 150, 'pure': 'no'},\n",
       "        {'sim_num': 3, 'experiment': 'CMB_S4', 'nlev_t': 1, 'nlev_p': 1.4142135623730951, 'beam_arcmin': 3, 'ellmin': 30, 'ellmax': 4000, 'delta_L': 200, 'pure': 'no'}],\n",
       "       dtype=object),\n",
       " array([{'sim_num': 4, 'experiment': 'CMB_S4', 'nlev_t': 1, 'nlev_p': 1.4142135623730951, 'beam_arcmin': 3, 'ellmin': 30, 'ellmax': 3000, 'delta_L': 150, 'pure': 'no'},\n",
       "        {'sim_num': 4, 'experiment': 'CMB_S4', 'nlev_t': 1, 'nlev_p': 1.4142135623730951, 'beam_arcmin': 3, 'ellmin': 30, 'ellmax': 4000, 'delta_L': 200, 'pure': 'no'}],\n",
       "       dtype=object),\n",
       " array([{'sim_num': 5, 'experiment': 'CMB_S4', 'nlev_t': 1, 'nlev_p': 1.4142135623730951, 'beam_arcmin': 3, 'ellmin': 30, 'ellmax': 3000, 'delta_L': 150, 'pure': 'no'},\n",
       "        {'sim_num': 5, 'experiment': 'CMB_S4', 'nlev_t': 1, 'nlev_p': 1.4142135623730951, 'beam_arcmin': 3, 'ellmin': 30, 'ellmax': 4000, 'delta_L': 200, 'pure': 'no'}],\n",
       "       dtype=object),\n",
       " array([{'sim_num': 6, 'experiment': 'CMB_S4', 'nlev_t': 1, 'nlev_p': 1.4142135623730951, 'beam_arcmin': 3, 'ellmin': 30, 'ellmax': 3000, 'delta_L': 150, 'pure': 'no'},\n",
       "        {'sim_num': 6, 'experiment': 'CMB_S4', 'nlev_t': 1, 'nlev_p': 1.4142135623730951, 'beam_arcmin': 3, 'ellmin': 30, 'ellmax': 4000, 'delta_L': 200, 'pure': 'no'}],\n",
       "       dtype=object),\n",
       " array([{'sim_num': 7, 'experiment': 'CMB_S4', 'nlev_t': 1, 'nlev_p': 1.4142135623730951, 'beam_arcmin': 3, 'ellmin': 30, 'ellmax': 3000, 'delta_L': 150, 'pure': 'no'},\n",
       "        {'sim_num': 7, 'experiment': 'CMB_S4', 'nlev_t': 1, 'nlev_p': 1.4142135623730951, 'beam_arcmin': 3, 'ellmin': 30, 'ellmax': 4000, 'delta_L': 200, 'pure': 'no'}],\n",
       "       dtype=object),\n",
       " array([{'sim_num': 8, 'experiment': 'CMB_S4', 'nlev_t': 1, 'nlev_p': 1.4142135623730951, 'beam_arcmin': 3, 'ellmin': 30, 'ellmax': 3000, 'delta_L': 150, 'pure': 'no'},\n",
       "        {'sim_num': 8, 'experiment': 'CMB_S4', 'nlev_t': 1, 'nlev_p': 1.4142135623730951, 'beam_arcmin': 3, 'ellmin': 30, 'ellmax': 4000, 'delta_L': 200, 'pure': 'no'}],\n",
       "       dtype=object),\n",
       " array([{'sim_num': 9, 'experiment': 'CMB_S4', 'nlev_t': 1, 'nlev_p': 1.4142135623730951, 'beam_arcmin': 3, 'ellmin': 30, 'ellmax': 3000, 'delta_L': 150, 'pure': 'no'},\n",
       "        {'sim_num': 9, 'experiment': 'CMB_S4', 'nlev_t': 1, 'nlev_p': 1.4142135623730951, 'beam_arcmin': 3, 'ellmin': 30, 'ellmax': 4000, 'delta_L': 200, 'pure': 'no'}],\n",
       "       dtype=object)]"
      ]
     },
     "execution_count": 17,
     "metadata": {},
     "output_type": "execute_result"
    }
   ],
   "source": [
    "recon_job_chuncks"
   ]
  },
  {
   "cell_type": "code",
   "execution_count": 142,
   "id": "0f8e270d-f925-4bee-9666-0d5a6daef729",
   "metadata": {},
   "outputs": [
    {
     "name": "stdout",
     "output_type": "stream",
     "text": [
      "0\n",
      "Planck_SMICA\n",
      "Planck_SMICA\n",
      "Planck_SMICA\n",
      "Planck_SMICA\n",
      "Planck_SMICA\n",
      "Planck_SMICA\n",
      "Planck_SMICA\n",
      "1\n",
      "Planck_SMICA\n",
      "Planck_SMICA\n",
      "Planck_SMICA\n",
      "Planck_SMICA\n",
      "Planck_SMICA\n",
      "Planck_SMICA\n",
      "Planck_SMICA\n",
      "2\n",
      "Planck_SMICA\n",
      "Planck_SMICA\n",
      "Planck_SMICA\n",
      "Planck_SMICA\n",
      "Planck_SMICA\n",
      "Planck_SMICA\n",
      "CMB_S3\n",
      "3\n",
      "CMB_S3\n",
      "CMB_S3\n",
      "CMB_S3\n",
      "CMB_S3\n",
      "CMB_S3\n",
      "CMB_S3\n",
      "CMB_S3\n",
      "4\n",
      "CMB_S3\n",
      "CMB_S3\n",
      "CMB_S3\n",
      "CMB_S3\n",
      "CMB_S3\n",
      "CMB_S3\n",
      "CMB_S3\n",
      "5\n",
      "CMB_S3\n",
      "CMB_S3\n",
      "CMB_S3\n",
      "CMB_S3\n",
      "CMB_S3\n",
      "CMB_S4\n",
      "CMB_S4\n",
      "6\n",
      "CMB_S4\n",
      "CMB_S4\n",
      "CMB_S4\n",
      "CMB_S4\n",
      "CMB_S4\n",
      "CMB_S4\n",
      "7\n",
      "CMB_S4\n",
      "CMB_S4\n",
      "CMB_S4\n",
      "CMB_S4\n",
      "CMB_S4\n",
      "CMB_S4\n",
      "8\n",
      "CMB_S4\n",
      "CMB_S4\n",
      "CMB_S4\n",
      "CMB_S4\n",
      "CMB_S4\n",
      "CMB_S4\n"
     ]
    }
   ],
   "source": [
    "for i, recon_job in enumerate(recon_jobs):                                                                                                                                                    \n",
    "    print(i)                                                                                                                                                         \n",
    "                                                                                                                                                                                              \n",
    "    # write processes in one job                                                                                                                                                              \n",
    "    for recon_param in recon_job_chuncks[i]:                                                                                                                                                   \n",
    "        print(recon_param['experiment'])                                                                                                                                                                        "
   ]
  },
  {
   "cell_type": "code",
   "execution_count": 6,
   "id": "9044c27c-272e-4481-a7ab-33bd31bd389d",
   "metadata": {},
   "outputs": [
    {
     "data": {
      "text/plain": [
       "bool"
      ]
     },
     "execution_count": 6,
     "metadata": {},
     "output_type": "execute_result"
    }
   ],
   "source": [
    "add_noise = True\n",
    "type(add_noise)"
   ]
  },
  {
   "cell_type": "code",
   "execution_count": null,
   "id": "4b85ae70-aa39-48da-973d-f23b83b817e5",
   "metadata": {},
   "outputs": [],
   "source": []
  }
 ],
 "metadata": {
  "kernelspec": {
   "display_name": "myenv-jupyter",
   "language": "python",
   "name": "myenv-jupyter"
  },
  "language_info": {
   "codemirror_mode": {
    "name": "ipython",
    "version": 3
   },
   "file_extension": ".py",
   "mimetype": "text/x-python",
   "name": "python",
   "nbconvert_exporter": "python",
   "pygments_lexer": "ipython3",
   "version": "3.7.9"
  }
 },
 "nbformat": 4,
 "nbformat_minor": 5
}
