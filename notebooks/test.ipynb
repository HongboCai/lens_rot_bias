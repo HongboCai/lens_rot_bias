{
 "cells": [
  {
   "cell_type": "code",
   "execution_count": 22,
   "id": "79439c44-4a86-40e3-b153-4f08d2d548d7",
   "metadata": {},
   "outputs": [],
   "source": [
    "from pixell import powspec"
   ]
  },
  {
   "cell_type": "code",
   "execution_count": 1,
   "id": "3cbf1926-018f-46f4-8635-c32a12924318",
   "metadata": {},
   "outputs": [
    {
     "name": "stdout",
     "output_type": "stream",
     "text": [
      "<class 'list'>\n"
     ]
    }
   ],
   "source": [
    "cmb_sets = [0]\n",
    "print(type(cmb_sets))"
   ]
  },
  {
   "cell_type": "code",
   "execution_count": 24,
   "id": "af2ea181-cc00-4134-8c22-42aca2f5aa16",
   "metadata": {},
   "outputs": [
    {
     "name": "stdout",
     "output_type": "stream",
     "text": [
      "0\n"
     ]
    }
   ],
   "source": [
    "for cmb_set in cmb_sets:\n",
    "    print(cmb_set)"
   ]
  },
  {
   "cell_type": "code",
   "execution_count": 25,
   "id": "6a1c2d72-04d9-4501-bf05-4105cf0b07e2",
   "metadata": {},
   "outputs": [],
   "source": [
    "lens_ps = '../inputPs/cosmo2017_10K_acc3_lenspotentialCls.dat'"
   ]
  },
  {
   "cell_type": "code",
   "execution_count": 26,
   "id": "ee630a88-7556-40a2-bcea-98057309431e",
   "metadata": {},
   "outputs": [],
   "source": [
    "ps = powspec.read_camb_full_lens(lens_ps)"
   ]
  },
  {
   "cell_type": "code",
   "execution_count": 29,
   "id": "a37ca8d4-8da2-4038-a2a6-bb827fd77acd",
   "metadata": {},
   "outputs": [
    {
     "data": {
      "text/plain": [
       "(4, 4, 10001)"
      ]
     },
     "execution_count": 29,
     "metadata": {},
     "output_type": "execute_result"
    }
   ],
   "source": [
    "ps.shape"
   ]
  },
  {
   "cell_type": "code",
   "execution_count": 31,
   "id": "03b691c4-1d11-4d9f-b7e6-43e45e370a1f",
   "metadata": {},
   "outputs": [
    {
     "data": {
      "text/plain": [
       "(4, 10001)"
      ]
     },
     "execution_count": 31,
     "metadata": {},
     "output_type": "execute_result"
    }
   ],
   "source": [
    "ps[0].shape"
   ]
  },
  {
   "cell_type": "code",
   "execution_count": 18,
   "id": "459d74c4-6842-448d-a69c-15c440b9066a",
   "metadata": {},
   "outputs": [],
   "source": [
    "ps[0, 1:, :] = 0."
   ]
  },
  {
   "cell_type": "code",
   "execution_count": 19,
   "id": "f225fb5f-fbe1-4961-b25b-e7662be4de7c",
   "metadata": {},
   "outputs": [
    {
     "data": {
      "text/plain": [
       "(4, 4, 10001)"
      ]
     },
     "execution_count": 19,
     "metadata": {},
     "output_type": "execute_result"
    }
   ],
   "source": [
    "ps.shape"
   ]
  },
  {
   "cell_type": "code",
   "execution_count": 20,
   "id": "68b3b4a4-288f-4cdc-acb9-5d826bd7c43c",
   "metadata": {},
   "outputs": [
    {
     "data": {
      "text/plain": [
       "array([[[ 0.00000000e+00,  0.00000000e+00,  9.09159461e-09, ...,\n",
       "          1.79102821e-26,  1.78911783e-26,  1.78720876e-26],\n",
       "        [ 0.00000000e+00,  0.00000000e+00,  0.00000000e+00, ...,\n",
       "          0.00000000e+00,  0.00000000e+00,  0.00000000e+00],\n",
       "        [ 0.00000000e+00,  0.00000000e+00,  0.00000000e+00, ...,\n",
       "          0.00000000e+00,  0.00000000e+00,  0.00000000e+00],\n",
       "        [ 0.00000000e+00,  0.00000000e+00,  0.00000000e+00, ...,\n",
       "          0.00000000e+00,  0.00000000e+00,  0.00000000e+00]],\n",
       "\n",
       "       [[ 0.00000000e+00,  0.00000000e+00,  1.31487009e-03, ...,\n",
       "          1.49801990e-20,  1.49681643e-20,  1.49561358e-20],\n",
       "        [ 0.00000000e+00,  0.00000000e+00,  1.10783029e+03, ...,\n",
       "          9.53193823e-11,  9.52060612e-11,  9.50990661e-11],\n",
       "        [ 0.00000000e+00,  0.00000000e+00,  3.13049236e+00, ...,\n",
       "          1.16852035e-12,  1.16237986e-12,  1.15630463e-12],\n",
       "        [ 0.00000000e+00,  0.00000000e+00,  0.00000000e+00, ...,\n",
       "          0.00000000e+00,  0.00000000e+00,  0.00000000e+00]],\n",
       "\n",
       "       [[ 0.00000000e+00,  0.00000000e+00, -5.97326208e-06, ...,\n",
       "          1.18353064e-23,  1.18474663e-23,  1.18596182e-23],\n",
       "        [ 0.00000000e+00,  0.00000000e+00,  3.13049236e+00, ...,\n",
       "          1.16852035e-12,  1.16237986e-12,  1.15630463e-12],\n",
       "        [ 0.00000000e+00,  0.00000000e+00,  4.03998343e-02, ...,\n",
       "          2.39241216e-14,  2.57762038e-14,  2.76275446e-14],\n",
       "        [ 0.00000000e+00,  0.00000000e+00,  0.00000000e+00, ...,\n",
       "          0.00000000e+00,  0.00000000e+00,  0.00000000e+00]],\n",
       "\n",
       "       [[ 0.00000000e+00,  0.00000000e+00,  0.00000000e+00, ...,\n",
       "          0.00000000e+00,  0.00000000e+00,  0.00000000e+00],\n",
       "        [ 0.00000000e+00,  0.00000000e+00,  0.00000000e+00, ...,\n",
       "          0.00000000e+00,  0.00000000e+00,  0.00000000e+00],\n",
       "        [ 0.00000000e+00,  0.00000000e+00,  0.00000000e+00, ...,\n",
       "          0.00000000e+00,  0.00000000e+00,  0.00000000e+00],\n",
       "        [ 0.00000000e+00,  0.00000000e+00,  0.00000000e+00, ...,\n",
       "          0.00000000e+00,  0.00000000e+00,  0.00000000e+00]]])"
      ]
     },
     "execution_count": 20,
     "metadata": {},
     "output_type": "execute_result"
    }
   ],
   "source": [
    "ps"
   ]
  },
  {
   "cell_type": "code",
   "execution_count": null,
   "id": "2dc5c80e-65aa-44f4-80fe-1a3492d7cd09",
   "metadata": {},
   "outputs": [],
   "source": []
  }
 ],
 "metadata": {
  "kernelspec": {
   "display_name": "myenv-jupyter",
   "language": "python",
   "name": "myenv-jupyter"
  },
  "language_info": {
   "codemirror_mode": {
    "name": "ipython",
    "version": 3
   },
   "file_extension": ".py",
   "mimetype": "text/x-python",
   "name": "python",
   "nbconvert_exporter": "python",
   "pygments_lexer": "ipython3",
   "version": "3.7.9"
  }
 },
 "nbformat": 4,
 "nbformat_minor": 5
}
