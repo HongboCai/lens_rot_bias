{
 "cells": [
  {
   "cell_type": "code",
   "execution_count": 23,
   "id": "73e377f3-5005-4715-a865-cbb728f2ed65",
   "metadata": {},
   "outputs": [],
   "source": [
    "import sys, os                                                                                                                                                                                \n",
    "import healpy as hp, numpy as np                                                                                                                                                              \n",
    "import os, os.path as op                                                                                                                                                                      \n",
    "import argparse                                                                                                                                                                               \n",
    "import pandas as pd                                                                                                                                                                           \n",
    "from datetime import datetime                                                                                                                                                                 \n",
    "                                                                                                                                                                                              \n",
    "from orphics import maps, stats, cosmology                                                                                                                                                    \n",
    "from pixell import enmap, utils as u                                                                                                                                                          \n",
    "from enlib import bench                                                                                                                                                                       \n",
    "                                                                                                                                                                                              \n",
    "import curvedsky                                                                                                                                                                              \n",
    "# add the parent dir in the python path                                                                                                                                                       \n",
    "sys.path.append(os.path.dirname(os.getcwd()))                                                                                                                                                 \n",
    "import param as p                                                                                                                                                                             \n",
    "import re   "
   ]
  },
  {
   "cell_type": "code",
   "execution_count": 24,
   "id": "2022e101-3666-4fd0-84da-914bf94a496a",
   "metadata": {},
   "outputs": [],
   "source": [
    "obs = '../Maps/CMBLensed_fullsky_alm_000.fits'\n",
    "sims1 = [f'../Maps/CMBLensed_fullsky_alm_{i:03d}.fits' for i in range(2,6)]\n",
    "sims2 = [f'../Maps/CMBLensed_fullsky_alm_{i:03d}.fits' for i in range(6,10)]"
   ]
  },
  {
   "cell_type": "code",
   "execution_count": 26,
   "id": "a510149a-920d-44fa-b8fe-c27396544a82",
   "metadata": {},
   "outputs": [],
   "source": [
    "# lmax = 6000\n",
    "# ls = np.arange(0, lmax+1)                                                                                                                                                                     \n",
    "                                                                                                                                                                                              \n",
    "# theory = cosmology.default_theory()                                                                                                                                                           \n",
    "# clee, clbb = theory.lCl('EE', ls), theory.lCl('BB', ls)                                                                                                                                       \n",
    "# nlee = (params['nlev_p']*np.pi/180/60)**2/maps.gauss_beam(ls, params['beam_arcmin'])**2                                                                                                       \n",
    "# nlbb = nlee                                                                                                                                                                                   \n",
    "# oclee = clee + nlee                                                                                                                                                                           \n",
    "# oclbb = clbb + nlbb"
   ]
  },
  {
   "cell_type": "code",
   "execution_count": null,
   "id": "1f83165d-eca2-4ba9-abfe-61fd7d34b79b",
   "metadata": {},
   "outputs": [],
   "source": [
    "for sim1 in sims1:\n",
    "    Elm = "
   ]
  },
  {
   "cell_type": "code",
   "execution_count": null,
   "id": "6b285133-954d-44c3-bba1-6953cfe658ce",
   "metadata": {},
   "outputs": [],
   "source": []
  }
 ],
 "metadata": {
  "kernelspec": {
   "display_name": "Python 3",
   "language": "python",
   "name": "python3"
  },
  "language_info": {
   "codemirror_mode": {
    "name": "ipython",
    "version": 3
   },
   "file_extension": ".py",
   "mimetype": "text/x-python",
   "name": "python",
   "nbconvert_exporter": "python",
   "pygments_lexer": "ipython3",
   "version": "3.8.8"
  }
 },
 "nbformat": 4,
 "nbformat_minor": 5
}
