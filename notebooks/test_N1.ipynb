{
 "cells": [
  {
   "cell_type": "code",
   "execution_count": 85,
   "id": "3dda071b-1d6f-441c-8218-d47dbf983bcb",
   "metadata": {},
   "outputs": [],
   "source": [
    "import os\n",
    "import numpy as np\n",
    "import healpy as hp\n",
    "import matplotlib.pyplot as plt\n",
    "\n",
    "import plancklens\n",
    "from plancklens import utils\n",
    "from plancklens import nhl\n",
    "from plancklens.n1 import n1\n",
    "from plancklens import qest, qecl, qresp"
   ]
  },
  {
   "cell_type": "code",
   "execution_count": 86,
   "id": "36132117-927b-4415-ae6b-e448649273d8",
   "metadata": {},
   "outputs": [],
   "source": [
    "cls_path = os.path.join(os.path.dirname(os.path.abspath(plancklens.__file__)), 'data', 'cls')"
   ]
  },
  {
   "cell_type": "code",
   "execution_count": 172,
   "id": "3ad2ff76-8196-42f2-943b-b2b9a87d365a",
   "metadata": {},
   "outputs": [],
   "source": [
    "lmax_ivf = 2048\n",
    "lmin_ivf = 100  # We will use in the QE only CMB modes between lmin_ivf and lmax_ivf\n",
    "lmax_qlm = 4096 # We will calculate lensing estimates until multipole lmax_qlm.\n",
    "nside = 2048 # Healpix resolution of the data and sims.\n",
    "nlev_t = 30. # Filtering noise level in temperature (here also used for the noise simulations generation).\n",
    "nlev_p = 55. # "
   ]
  },
  {
   "cell_type": "code",
   "execution_count": 173,
   "id": "3302d53b-0ea1-47cd-bea8-bf1086227607",
   "metadata": {},
   "outputs": [],
   "source": [
    "cl_unl = utils.camb_clfile(os.path.join(cls_path, 'FFP10_wdipole_lenspotentialCls.dat'))\n",
    "cl_len = utils.camb_clfile(os.path.join(cls_path, 'FFP10_wdipole_lensedCls.dat'))"
   ]
  },
  {
   "cell_type": "code",
   "execution_count": 174,
   "id": "2a779157-b881-449b-8d2a-ec316cfb6107",
   "metadata": {},
   "outputs": [],
   "source": [
    "transf = hp.gauss_beam(5. / 60. / 180. * np.pi, lmax=lmax_ivf) * hp.pixwin(nside)[:lmax_ivf + 1]"
   ]
  },
  {
   "cell_type": "code",
   "execution_count": 175,
   "id": "9131dee1-16b9-4c9c-86d6-83b0f94e5e81",
   "metadata": {},
   "outputs": [],
   "source": [
    "ftl = utils.cli(cl_len['tt'][:lmax_ivf + 1] + (nlev_t / 60. / 180. * np.pi / transf) ** 2)\n",
    "fel = utils.cli(cl_len['ee'][:lmax_ivf + 1] + (nlev_p / 60. / 180. * np.pi / transf) ** 2)\n",
    "fbl = utils.cli(cl_len['bb'][:lmax_ivf + 1] + (nlev_p / 60. / 180. * np.pi / transf) ** 2)\n",
    "ftl[:lmin_ivf] *= 0.\n",
    "fel[:lmin_ivf] *= 0.\n",
    "fbl[:lmin_ivf] *= 0."
   ]
  },
  {
   "cell_type": "code",
   "execution_count": 176,
   "id": "e98ff1c1-7ab3-42ba-839a-8e9da9feec1a",
   "metadata": {},
   "outputs": [],
   "source": [
    "#---- N1 lensing bias library:\n",
    "libdir_n1_dd = '.'\n",
    "n1_dd = n1.library_n1(libdir_n1_dd,cl_len['tt'],cl_len['te'],cl_len['ee'])"
   ]
  },
  {
   "cell_type": "code",
   "execution_count": 177,
   "id": "bf91e160-3b0a-477c-ae60-8124ef060caa",
   "metadata": {},
   "outputs": [],
   "source": [
    "clpp_fid =  utils.camb_clfile(os.path.join(cls_path, 'FFP10_wdipole_lenspotentialCls.dat'))['pp']"
   ]
  },
  {
   "cell_type": "code",
   "execution_count": 204,
   "id": "75050eba-cf56-4fba-b56e-6dd513af6ec5",
   "metadata": {},
   "outputs": [],
   "source": [
    "n1pp_tt = n1_dd.get_n1('ptt', 'p', clpp_fid, ftl, fel, fbl, lmax_ivf-1)\n",
    "n1pp_eb = n1_dd.get_n1('peb', 'p', clpp_fid, ftl, fel, fbl, lmax_ivf-1)\n",
    "# n1pp_2 = n1_dd.get_n1('peb', 'p', 2*clpp_fid, ftl, fel, fbl, lmax_ivf-1)"
   ]
  },
  {
   "cell_type": "code",
   "execution_count": 189,
   "id": "f042b309-6945-4649-b8e5-404d9c3b6a99",
   "metadata": {},
   "outputs": [],
   "source": [
    "# normalize n1\n",
    "cl_weight = utils.camb_clfile(os.path.join(cls_path, 'FFP10_wdipole_lensedCls.dat'))\n",
    "cl_weight['bb'] *= 0."
   ]
  },
  {
   "cell_type": "code",
   "execution_count": 213,
   "id": "6252003c-d334-439b-8178-19c9f7d96c04",
   "metadata": {},
   "outputs": [],
   "source": [
    "qresp_dd = qresp.resp_lib_simple(libdir_n1_dd, lmax_ivf, cl_weight, cl_len,\\\n",
    "                     {'t': ftl, 'e': fel, 'b': fbl}, lmax_qlm)\n",
    "qc_resp_tt = qresp_dd.get_response('ptt', 'p')**2\n",
    "qc_resp_eb = qresp_dd.get_response('p_eb', 'p')**2"
   ]
  },
  {
   "cell_type": "code",
   "execution_count": 214,
   "id": "310820b4-4003-4512-baba-785deafe5907",
   "metadata": {},
   "outputs": [],
   "source": [
    "n1pp_tt_n = utils.cli(qc_resp_tt)[:lmax_ivf]*n1pp_tt\n",
    "n1pp_eb_n = utils.cli(qc_resp_eb)[:lmax_ivf]*n1pp_eb"
   ]
  },
  {
   "cell_type": "code",
   "execution_count": 215,
   "id": "ac3c75fb-b2a8-4a57-b8ac-21425eb2358f",
   "metadata": {},
   "outputs": [],
   "source": [
    "Ls = np.arange(0, lmax_ivf)\n",
    "factor = 1E7*Ls**2*(Ls+1)**2/(2*np.pi)\n",
    "Lmin = 10"
   ]
  },
  {
   "cell_type": "code",
   "execution_count": 216,
   "id": "5f296682-9ab8-48da-b624-a2365717e5e6",
   "metadata": {},
   "outputs": [
    {
     "data": {
      "text/plain": [
       "<matplotlib.legend.Legend at 0x7f9f6c0902e0>"
      ]
     },
     "execution_count": 216,
     "metadata": {},
     "output_type": "execute_result"
    },
    {
     "data": {
      "image/png": "[encoded data removed]",
      "text/plain": [
       "<Figure size 432x288 with 1 Axes>"
      ]
     },
     "metadata": {
      "needs_background": "light"
     },
     "output_type": "display_data"
    }
   ],
   "source": [
    "plt.plot(Ls[Lmin:lmax_ivf], (factor*clpp_fid[:lmax_ivf])[Lmin:lmax_ivf])\n",
    "plt.plot(Ls[Lmin:lmax_ivf], (factor*n1pp_tt_n)[Lmin:lmax_ivf], label='n1tt')\n",
    "plt.plot(Ls[Lmin:lmax_ivf], (factor*n1pp_eb_n)[Lmin:lmax_ivf], label='n1eb')\n",
    "plt.xscale('log')\n",
    "plt.yscale('log')\n",
    "plt.legend()"
   ]
  }
 ],
 "metadata": {
  "kernelspec": {
   "display_name": "Python 3",
   "language": "python",
   "name": "python3"
  },
  "language_info": {
   "codemirror_mode": {
    "name": "ipython",
    "version": 3
   },
   "file_extension": ".py",
   "mimetype": "text/x-python",
   "name": "python",
   "nbconvert_exporter": "python",
   "pygments_lexer": "ipython3",
   "version": "3.8.8"
  }
 },
 "nbformat": 4,
 "nbformat_minor": 5
}
