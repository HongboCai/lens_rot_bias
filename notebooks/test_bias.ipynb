{
 "cells": [
  {
   "cell_type": "code",
   "execution_count": 142,
   "id": "edf5f18d-0a73-40b7-9ece-a2235ae937a4",
   "metadata": {},
   "outputs": [],
   "source": [
    "import curvedsky\n",
    "import matplotlib.pyplot as plt\n",
    "import numpy as np\n",
    "from math import pi\n",
    "import matplotlib as mpl\n",
    "mpl.rcParams['font.size']=12\n",
    "import pandas as pd"
   ]
  },
  {
   "cell_type": "code",
   "execution_count": 143,
   "id": "d2268f0d-744a-4362-b35a-95517f9ee712",
   "metadata": {},
   "outputs": [],
   "source": [
    "from orphics import cosmology, maps"
   ]
  },
  {
   "cell_type": "code",
   "execution_count": 144,
   "id": "7c652f05-3d8e-41ab-9b42-f6b53ac5f243",
   "metadata": {},
   "outputs": [],
   "source": [
    "import sys, os\n",
    "sys.path.append(os.path.dirname(os.getcwd())) \n",
    "import param as p\n",
    "import importlib"
   ]
  },
  {
   "cell_type": "code",
   "execution_count": 145,
   "id": "242d2f7c-83b8-4489-b50f-7528f596132e",
   "metadata": {},
   "outputs": [
    {
     "data": {
      "text/plain": [
       "<module 'param' from '/global/cscratch1/sd/hongbo/lens_rot_bias/param.py'>"
      ]
     },
     "execution_count": 145,
     "metadata": {},
     "output_type": "execute_result"
    }
   ],
   "source": [
    "importlib.reload(p)"
   ]
  },
  {
   "cell_type": "code",
   "execution_count": 166,
   "id": "f3820bda-fb1c-47c9-b3c1-5b31a8f4a086",
   "metadata": {},
   "outputs": [],
   "source": [
    "experiment = 'CMB_S3'"
   ]
  },
  {
   "cell_type": "code",
   "execution_count": 167,
   "id": "bfc7c3f4-055e-49e7-bd19-507629a184ac",
   "metadata": {},
   "outputs": [],
   "source": [
    "params = p.exps_config[experiment]"
   ]
  },
  {
   "cell_type": "code",
   "execution_count": 168,
   "id": "dcdbcaf3-4b14-4026-a215-54aeb838e98b",
   "metadata": {},
   "outputs": [],
   "source": [
    "ellmin = 30\n",
    "ellmax = 3000"
   ]
  },
  {
   "cell_type": "code",
   "execution_count": 169,
   "id": "cbcc5759-af29-49d7-ad1c-d9f270cd5497",
   "metadata": {},
   "outputs": [],
   "source": [
    "theory = cosmology.default_theory()\n",
    "ells = np.arange(ellmax+1)\n",
    "clee, clbb = theory.lCl('EE', ells), theory.lCl('BB', ells)"
   ]
  },
  {
   "cell_type": "code",
   "execution_count": 170,
   "id": "242c1fcc-5fee-439c-85f6-133d251711ff",
   "metadata": {},
   "outputs": [],
   "source": [
    "nlee = (params['nlev_p']*np.pi/180/60)**2/maps.gauss_beam(ells, params['beam_arcmin'])**2"
   ]
  },
  {
   "cell_type": "code",
   "execution_count": 171,
   "id": "c148aaee-f071-4be7-8bb2-6747ce30e5db",
   "metadata": {},
   "outputs": [],
   "source": [
    "oclee = clee + nlee\n",
    "n0_ee_kk = curvedsky.norm_quad.qee('lens', ellmax,\n",
    "                             ellmin, ellmax, clee[:ellmax+1], oclee[:ellmax+1],\n",
    "                             lfac='k')[0]"
   ]
  },
  {
   "cell_type": "code",
   "execution_count": 172,
   "id": "3fa7f643-cbbe-4498-b632-d05a222fdd70",
   "metadata": {},
   "outputs": [
    {
     "data": {
      "image/png": "[encoded data removed]",
      "text/plain": [
       "<Figure size 432x288 with 1 Axes>"
      ]
     },
     "metadata": {
      "needs_background": "light"
     },
     "output_type": "display_data"
    }
   ],
   "source": [
    "plt.plot(ells, n0_ee_kk)\n",
    "plt.yscale('log')\n",
    "plt.xscale('log')\n",
    "plt.xlabel('L')\n",
    "plt.ylabel('$N_L^{\\kappa \\kappa}$')\n",
    "pd.DataFrame({'ells':ells, 'n0_ee_kk':n0_ee_kk}).to_csv('n0_ee_kk_%s.csv'%experiment, index=False)"
   ]
  },
  {
   "cell_type": "code",
   "execution_count": null,
   "id": "90a21333-4215-425a-8f80-665138553ce3",
   "metadata": {},
   "outputs": [],
   "source": []
  }
 ],
 "metadata": {
  "kernelspec": {
   "display_name": "myenv-jupyter",
   "language": "python",
   "name": "myenv-jupyter"
  },
  "language_info": {
   "codemirror_mode": {
    "name": "ipython",
    "version": 3
   },
   "file_extension": ".py",
   "mimetype": "text/x-python",
   "name": "python",
   "nbconvert_exporter": "python",
   "pygments_lexer": "ipython3",
   "version": "3.7.9"
  }
 },
 "nbformat": 4,
 "nbformat_minor": 5
}
