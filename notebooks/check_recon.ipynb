{
 "cells": [
  {
   "cell_type": "code",
   "execution_count": 1,
   "id": "fa42fbc7-b690-4b70-9083-920d9ec0be42",
   "metadata": {},
   "outputs": [],
   "source": [
    "import pandas as pd\n",
    "import numpy as np\n",
    "import matplotlib.pyplot as plt\n",
    "import healpy as hp\n",
    "from orphics import maps, stats, cosmology\n",
    "\n",
    "import sys, os\n",
    "sys.path.append(\"/global/homes/h/hongbo/tools/cmblensplus/wrap\")\n",
    "import curvedsky\n",
    "from math import pi\n",
    "import matplotlib as mpl\n",
    "mpl.rcParams['font.size']=13"
   ]
  },
  {
   "cell_type": "code",
   "execution_count": 2,
   "id": "4be8bbc9-e35f-4a3b-8c85-b219f0760f7b",
   "metadata": {},
   "outputs": [],
   "source": [
    "import matplotlib as mpl\n",
    "mpl.rcParams['font.size']=12"
   ]
  },
  {
   "cell_type": "code",
   "execution_count": 9,
   "id": "127db682-29dd-4e9e-a0d4-63be661c2095",
   "metadata": {},
   "outputs": [],
   "source": [
    "rec_ps = pd.read_csv('../output/recon_ps/CMB_S3_0_30_3000.csv')"
   ]
  },
  {
   "cell_type": "code",
   "execution_count": 10,
   "id": "854e9716-5d7d-474c-a940-d285384e7e76",
   "metadata": {},
   "outputs": [
    {
     "data": {
      "text/html": [
       "<div>\n",
       "<style scoped>\n",
       "    .dataframe tbody tr th:only-of-type {\n",
       "        vertical-align: middle;\n",
       "    }\n",
       "\n",
       "    .dataframe tbody tr th {\n",
       "        vertical-align: top;\n",
       "    }\n",
       "\n",
       "    .dataframe thead th {\n",
       "        text-align: right;\n",
       "    }\n",
       "</style>\n",
       "<table border=\"1\" class=\"dataframe\">\n",
       "  <thead>\n",
       "    <tr style=\"text-align: right;\">\n",
       "      <th></th>\n",
       "      <th>EB_inkap_x_inkap</th>\n",
       "      <th>EB_inkap_x_reckap</th>\n",
       "      <th>EB_rot_inkap_x_reckap</th>\n",
       "      <th>EB_reckap_x_reckap</th>\n",
       "      <th>EB_rot_reckap_x_reckap</th>\n",
       "    </tr>\n",
       "  </thead>\n",
       "  <tbody>\n",
       "    <tr>\n",
       "      <th>0</th>\n",
       "      <td>0.000000e+00</td>\n",
       "      <td>0.000000e+00</td>\n",
       "      <td>0.000000e+00</td>\n",
       "      <td>0.000000e+00</td>\n",
       "      <td>0.000000e+00</td>\n",
       "    </tr>\n",
       "    <tr>\n",
       "      <th>1</th>\n",
       "      <td>0.000000e+00</td>\n",
       "      <td>0.000000e+00</td>\n",
       "      <td>0.000000e+00</td>\n",
       "      <td>0.000000e+00</td>\n",
       "      <td>0.000000e+00</td>\n",
       "    </tr>\n",
       "    <tr>\n",
       "      <th>2</th>\n",
       "      <td>7.308591e-08</td>\n",
       "      <td>6.581235e-08</td>\n",
       "      <td>6.095827e-08</td>\n",
       "      <td>6.581235e-08</td>\n",
       "      <td>6.095827e-08</td>\n",
       "    </tr>\n",
       "    <tr>\n",
       "      <th>3</th>\n",
       "      <td>4.136120e-07</td>\n",
       "      <td>1.552369e-07</td>\n",
       "      <td>1.572097e-07</td>\n",
       "      <td>1.552369e-07</td>\n",
       "      <td>1.572097e-07</td>\n",
       "    </tr>\n",
       "    <tr>\n",
       "      <th>4</th>\n",
       "      <td>3.166401e-06</td>\n",
       "      <td>4.692422e-07</td>\n",
       "      <td>4.469365e-07</td>\n",
       "      <td>4.692422e-07</td>\n",
       "      <td>4.469365e-07</td>\n",
       "    </tr>\n",
       "    <tr>\n",
       "      <th>...</th>\n",
       "      <td>...</td>\n",
       "      <td>...</td>\n",
       "      <td>...</td>\n",
       "      <td>...</td>\n",
       "      <td>...</td>\n",
       "    </tr>\n",
       "    <tr>\n",
       "      <th>2996</th>\n",
       "      <td>2.194505e+04</td>\n",
       "      <td>6.064005e-03</td>\n",
       "      <td>6.019124e-03</td>\n",
       "      <td>6.064005e-03</td>\n",
       "      <td>6.019124e-03</td>\n",
       "    </tr>\n",
       "    <tr>\n",
       "      <th>2997</th>\n",
       "      <td>2.139904e+04</td>\n",
       "      <td>6.839585e-03</td>\n",
       "      <td>6.852208e-03</td>\n",
       "      <td>6.839585e-03</td>\n",
       "      <td>6.852208e-03</td>\n",
       "    </tr>\n",
       "    <tr>\n",
       "      <th>2998</th>\n",
       "      <td>2.271577e+04</td>\n",
       "      <td>6.149277e-03</td>\n",
       "      <td>6.222468e-03</td>\n",
       "      <td>6.149277e-03</td>\n",
       "      <td>6.222468e-03</td>\n",
       "    </tr>\n",
       "    <tr>\n",
       "      <th>2999</th>\n",
       "      <td>2.181529e+04</td>\n",
       "      <td>6.038109e-03</td>\n",
       "      <td>6.076875e-03</td>\n",
       "      <td>6.038109e-03</td>\n",
       "      <td>6.076875e-03</td>\n",
       "    </tr>\n",
       "    <tr>\n",
       "      <th>3000</th>\n",
       "      <td>2.162468e+04</td>\n",
       "      <td>6.031534e-03</td>\n",
       "      <td>6.011075e-03</td>\n",
       "      <td>6.031534e-03</td>\n",
       "      <td>6.011075e-03</td>\n",
       "    </tr>\n",
       "  </tbody>\n",
       "</table>\n",
       "<p>3001 rows × 5 columns</p>\n",
       "</div>"
      ],
      "text/plain": [
       "      EB_inkap_x_inkap  EB_inkap_x_reckap  EB_rot_inkap_x_reckap  \\\n",
       "0         0.000000e+00       0.000000e+00           0.000000e+00   \n",
       "1         0.000000e+00       0.000000e+00           0.000000e+00   \n",
       "2         7.308591e-08       6.581235e-08           6.095827e-08   \n",
       "3         4.136120e-07       1.552369e-07           1.572097e-07   \n",
       "4         3.166401e-06       4.692422e-07           4.469365e-07   \n",
       "...                ...                ...                    ...   \n",
       "2996      2.194505e+04       6.064005e-03           6.019124e-03   \n",
       "2997      2.139904e+04       6.839585e-03           6.852208e-03   \n",
       "2998      2.271577e+04       6.149277e-03           6.222468e-03   \n",
       "2999      2.181529e+04       6.038109e-03           6.076875e-03   \n",
       "3000      2.162468e+04       6.031534e-03           6.011075e-03   \n",
       "\n",
       "      EB_reckap_x_reckap  EB_rot_reckap_x_reckap  \n",
       "0           0.000000e+00            0.000000e+00  \n",
       "1           0.000000e+00            0.000000e+00  \n",
       "2           6.581235e-08            6.095827e-08  \n",
       "3           1.552369e-07            1.572097e-07  \n",
       "4           4.692422e-07            4.469365e-07  \n",
       "...                  ...                     ...  \n",
       "2996        6.064005e-03            6.019124e-03  \n",
       "2997        6.839585e-03            6.852208e-03  \n",
       "2998        6.149277e-03            6.222468e-03  \n",
       "2999        6.038109e-03            6.076875e-03  \n",
       "3000        6.031534e-03            6.011075e-03  \n",
       "\n",
       "[3001 rows x 5 columns]"
      ]
     },
     "execution_count": 10,
     "metadata": {},
     "output_type": "execute_result"
    }
   ],
   "source": [
    "rec_ps"
   ]
  },
  {
   "cell_type": "code",
   "execution_count": 11,
   "id": "0931a372-43df-47e8-b3e0-dedcd5f26a28",
   "metadata": {},
   "outputs": [],
   "source": [
    "lmax = 6000\n",
    "ellmax = 3000\n",
    "ells = np.arange(0, ellmax+1)\n",
    "factor = ells*(ells+1)/(2*pi)\n",
    "Tcmb  = 2.726e6 "
   ]
  },
  {
   "cell_type": "code",
   "execution_count": 12,
   "id": "68a74284-79a9-4d9c-9f40-adc3858fe496",
   "metadata": {},
   "outputs": [],
   "source": [
    "clpp = np.loadtxt('../inputPs/cosmo2017_10K_acc3_lenspotentialCls.dat', usecols=5, unpack=True)\n",
    "clpp = np.concatenate(([0,0],clpp))\n",
    "clkk = clpp[ells]*ells**4/4"
   ]
  },
  {
   "cell_type": "code",
   "execution_count": 17,
   "id": "ab95f0a5-7c5f-4cea-bdff-e66d5ac76dd7",
   "metadata": {},
   "outputs": [
    {
     "data": {
      "image/png": "[encoded data removed]",
      "text/plain": [
       "<Figure size 432x288 with 1 Axes>"
      ]
     },
     "metadata": {
      "needs_background": "light"
     },
     "output_type": "display_data"
    }
   ],
   "source": []
  },
  {
   "cell_type": "code",
   "execution_count": 21,
   "id": "b8054f7f-a2cd-478f-85a0-4532dff456e9",
   "metadata": {},
   "outputs": [
    {
     "data": {
      "image/png": "[encoded data removed]",
      "text/plain": [
       "<Figure size 432x288 with 1 Axes>"
      ]
     },
     "metadata": {
      "needs_background": "light"
     },
     "output_type": "display_data"
    }
   ],
   "source": [
    "plt.plot(ells, clkk, label='theory')\n",
    "plt.plot(ells, rec_ps['EB_inkap_x_inkap'], label='inkap_x_inkap')\n",
    "plt.plot(ells, rec_ps['EB_inkap_x_reckap'], label='EB_inkap_x_reckap')\n",
    "plt.plot(ells, rec_ps['EB_rot_inkap_x_reckap'], label='EB_rot_inkap_x_reckap')\n",
    "plt.plot(ells, rec_ps['EB_reckap_x_reckap'], label='EB_rekap_x_reckap')\n",
    "plt.plot(ells, rec_ps['EB_rot_reckap_x_reckap'], label='EB_rot_reckap_x_reckap')\n",
    "# plt.plot(ls[:3001], abs(EB_reckap_x_reckap), label='EB_reckap_x_reckap')\n",
    "plt.xlabel('L')\n",
    "plt.ylabel('$C_L^{\\kappa\\kappa}$')\n",
    "plt.legend()\n",
    "plt.xscale('log')\n",
    "plt.yscale('log')"
   ]
  },
  {
   "cell_type": "code",
   "execution_count": null,
   "id": "45e4bb0c-dfb3-4aec-9150-8d933b6d4876",
   "metadata": {},
   "outputs": [],
   "source": []
  }
 ],
 "metadata": {
  "kernelspec": {
   "display_name": "myenv-jupyter",
   "language": "python",
   "name": "myenv-jupyter"
  },
  "language_info": {
   "codemirror_mode": {
    "name": "ipython",
    "version": 3
   },
   "file_extension": ".py",
   "mimetype": "text/x-python",
   "name": "python",
   "nbconvert_exporter": "python",
   "pygments_lexer": "ipython3",
   "version": "3.7.9"
  }
 },
 "nbformat": 4,
 "nbformat_minor": 5
}
