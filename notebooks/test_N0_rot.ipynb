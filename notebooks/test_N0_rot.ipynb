{
 "cells": [
  {
   "cell_type": "code",
   "execution_count": 9,
   "id": "1061ae97-9f5c-47b9-97b8-f043d4b524ed",
   "metadata": {},
   "outputs": [],
   "source": [
    "import symlens as s\n",
    "import pandas as pd\n",
    "import numpy as np\n",
    "import matplotlib.pyplot as plt\n",
    "import healpy as hp\n",
    "from orphics import maps, stats, cosmology\n",
    "import pandas as pd"
   ]
  },
  {
   "cell_type": "code",
   "execution_count": 5,
   "id": "07bf7592-753c-40bc-9126-b0cd216d4742",
   "metadata": {},
   "outputs": [],
   "source": [
    "exps_config = {\n",
    "    'CMB_S3': {\n",
    "        'nlev_t': 7,\n",
    "        'nlev_p': 7*2**0.5,\n",
    "        'beam_arcmin': 1.4\n",
    "    },\n",
    "    'CMB_S4': {\n",
    "        'nlev_t': 1,\n",
    "        'nlev_p':2**0.5,\n",
    "        'beam_arcmin': 3\n",
    "    }\n",
    "}\n",
    "\n",
    "exps_config = {\n",
    "    'CMB_S4': {\n",
    "        'nlev_t': 1,\n",
    "        'nlev_p':2**0.5,\n",
    "        'beam_arcmin': 3\n",
    "    }\n",
    "}\n",
    "\n",
    "moments = {'moments1':{'ellmin':30, 'ellmax':3000, 'delta_L':150},\\\n",
    "           'moments2':{'ellmin':30, 'ellmax':4000, 'delta_L':200}}\n",
    "ellmin = 30\n",
    "ls = np.arange(0, 6001)"
   ]
  },
  {
   "cell_type": "code",
   "execution_count": 8,
   "id": "5c4ee0fe-fa09-4440-9a7f-48f1a9001fdd",
   "metadata": {},
   "outputs": [
    {
     "name": "stdout",
     "output_type": "stream",
     "text": [
      "3000\n",
      "4000\n"
     ]
    }
   ],
   "source": [
    "ellmaxs = [3000, 4000]\n",
    "ellmax_plot = 3000\n",
    "\n",
    "for exp, param in exps_config.items():\n",
    "    for ellmax in ellmaxs:\n",
    "        "
   ]
  },
  {
   "cell_type": "code",
   "execution_count": null,
   "id": "c29a0bd2-f23a-42c5-b8c1-fc392e59e222",
   "metadata": {},
   "outputs": [],
   "source": []
  }
 ],
 "metadata": {
  "kernelspec": {
   "display_name": "Python 3",
   "language": "python",
   "name": "python3"
  },
  "language_info": {
   "codemirror_mode": {
    "name": "ipython",
    "version": 3
   },
   "file_extension": ".py",
   "mimetype": "text/x-python",
   "name": "python",
   "nbconvert_exporter": "python",
   "pygments_lexer": "ipython3",
   "version": "3.8.8"
  }
 },
 "nbformat": 4,
 "nbformat_minor": 5
}
