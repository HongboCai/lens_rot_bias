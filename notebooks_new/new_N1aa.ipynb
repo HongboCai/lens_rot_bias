{
 "cells": [
  {
   "cell_type": "code",
   "execution_count": 12,
   "id": "cc6e0c1d-0f91-4fbd-bf53-cfc7ef95da6a",
   "metadata": {},
   "outputs": [],
   "source": [
    "import os\n",
    "import numpy as np\n",
    "import healpy as hp\n",
    "import matplotlib.pyplot as plt\n",
    "\n",
    "import curvedsky\n",
    "import orphics\n",
    "from orphics import maps, cosmology\n",
    "from math import pi\n",
    "\n",
    "import plancklens\n",
    "from plancklens import utils\n",
    "from plancklens import nhl\n",
    "from plancklens.n1 import n1\n",
    "from plancklens import qest, qecl, qresp\n",
    "\n",
    "import pandas as pd\n",
    "%matplotlib inline"
   ]
  },
  {
   "cell_type": "code",
   "execution_count": 100,
   "id": "bdd8bb22-b70b-427c-8f7a-2e5abb64347b",
   "metadata": {
    "tags": []
   },
   "outputs": [],
   "source": [
    "exps_config = {\n",
    "    'CMB_S4': {\n",
    "        'nlev_t': 1,\n",
    "        'nlev_p':2**0.5,\n",
    "        'beam_arcmin': 1.4\n",
    "    }\n",
    "}\n",
    "\n",
    "\n",
    "nlev_t = 1\n",
    "nlev_p = 2**0.5\n",
    "beam_arcmin = 1.4\n",
    "lmax = 3000\n",
    "ellmin = 30\n",
    "ellmax = 3000\n",
    "\n",
    "# nlev_t = 0\n",
    "# nlev_p = 0\n",
    "# beam_arcmin = 1.4\n",
    "# lmax = 3000\n",
    "# ellmin = 30\n",
    "# ellmax = 3000\n",
    "\n",
    "\n",
    "\n",
    "ls = np.arange(lmax+1)\n",
    "ells = np.arange(ellmax+1)"
   ]
  },
  {
   "cell_type": "code",
   "execution_count": 101,
   "id": "0c0c08c8-611f-440a-b9c0-65056e826779",
   "metadata": {},
   "outputs": [],
   "source": [
    "theory = cosmology.default_theory()\n",
    "cltt, clee, clbb = theory.lCl('TT', ls), theory.lCl('EE', ls), theory.lCl('BB', ls)\n",
    "clte = theory.lCl('TE', ls)\n",
    "\n",
    "A_cb_index = '07'\n",
    "main_path = '/global/cscratch1/sd/hongbo/lens_rot_bias/'\n",
    "cls_path = '/global/cscratch1/sd/hongbo/lens_rot_bias/inputPs'"
   ]
  },
  {
   "cell_type": "code",
   "execution_count": 102,
   "id": "a39da8b7-b8e1-4109-b8da-b30db986d471",
   "metadata": {},
   "outputs": [],
   "source": [
    "claa = np.loadtxt(cls_path + '/claa_A1e-%s.txt' %A_cb_index)[:,1]"
   ]
  },
  {
   "cell_type": "code",
   "execution_count": 103,
   "id": "39c36c33-b08d-4898-b439-c55edbd22373",
   "metadata": {},
   "outputs": [],
   "source": [
    "clpp = np.loadtxt(cls_path + '/cosmo2017_10K_acc3_lenspotentialCls.dat', \\\n",
    "                  usecols=(5), unpack=True)\n",
    "fac = (ls*(ls+1))**2/(2*pi)\n",
    "fac[0] = 1\n",
    "clpp = np.concatenate(([1,1], clpp))[ls]/fac"
   ]
  },
  {
   "cell_type": "code",
   "execution_count": 104,
   "id": "4dc8df32-6a4d-4a03-aa9f-805d16d3b150",
   "metadata": {},
   "outputs": [],
   "source": [
    "nltt = (nlev_t*pi/180/60)**2/maps.gauss_beam(ls, beam_arcmin)**2\n",
    "nlee = (nlev_p*pi/180/60)**2/maps.gauss_beam(ls, beam_arcmin)**2\n",
    "nlbb = nlee\n",
    "\n",
    "ocltt = cltt + nltt\n",
    "oclee = clee + nlee\n",
    "oclbb = clbb + nlbb\n",
    "oclee[0], oclee[1], oclbb[0], oclbb[1] = 1, 1, 1, 1"
   ]
  },
  {
   "cell_type": "code",
   "execution_count": 105,
   "id": "4729c93f-90be-42e5-9052-3376d3d1ee6a",
   "metadata": {},
   "outputs": [],
   "source": [
    "nl_eb = curvedsky.norm_quad.qeb('lens', ellmax, ellmin, ellmax, clee[:ellmax+1],\\\n",
    "                                        oclee[:ellmax+1], oclbb[:ellmax+1], lfac='')[0]\n",
    "Al_eb = nl_eb * ells**2"
   ]
  },
  {
   "cell_type": "code",
   "execution_count": 106,
   "id": "5bbca055-d342-424c-bdd9-53d9689c814e",
   "metadata": {},
   "outputs": [],
   "source": [
    "import solenspipe\n",
    "from falafel import qe,utils\n",
    "ucls,tcls = utils.get_theory_dicts(grad=True)"
   ]
  },
  {
   "cell_type": "code",
   "execution_count": 107,
   "id": "c9a847a6-5540-4f93-95a9-3f9387b120b8",
   "metadata": {},
   "outputs": [],
   "source": [
    "bh,ells,Als,R_src_tt,Nl_g,Nl_c,Nl_g_bh = solenspipe.get_tempura_norms('EB',\n",
    "                                                                'EB',ucls,tcls, \\\n",
    "                                                                ellmin,ellmax,ellmax)"
   ]
  },
  {
   "cell_type": "code",
   "execution_count": 108,
   "id": "9cf130f4-9816-41c7-ba0d-61f831544943",
   "metadata": {},
   "outputs": [
    {
     "name": "stderr",
     "output_type": "stream",
     "text": [
      "/global/u2/h/hongbo/.conda/envs/myenv/lib/python3.7/site-packages/ipykernel_launcher.py:4: RuntimeWarning: invalid value encountered in true_divide\n",
      "  after removing the cwd from sys.path.\n"
     ]
    },
    {
     "data": {
      "text/plain": [
       "<matplotlib.legend.Legend at 0x1555247657d0>"
      ]
     },
     "execution_count": 108,
     "metadata": {},
     "output_type": "execute_result"
    },
    {
     "data": {
      "image/png": "[encoded data removed]",
      "text/plain": [
       "<Figure size 432x288 with 1 Axes>"
      ]
     },
     "metadata": {
      "needs_background": "light"
     },
     "output_type": "display_data"
    }
   ],
   "source": [
    "plt.plot(ls[2:], (fac*clpp)[2:], label='clpp')\n",
    "plt.plot(ls[2:], (fac*nl_eb)[2:], label='N0, cmblensplus')\n",
    "# for noiseless map\n",
    "plt.plot(ls[2:], (fac*(4*Nl_g/(ls*(ls+1))**2))[2:], label='N0, solenspipe')\n",
    "plt.xscale('log')\n",
    "plt.yscale('log')\n",
    "plt.legend()"
   ]
  },
  {
   "cell_type": "markdown",
   "id": "99842e3a-cd00-4fd8-9c02-d8ffd645c9ec",
   "metadata": {},
   "source": [
    "# firstly calculate unormalized uN1aa"
   ]
  },
  {
   "cell_type": "code",
   "execution_count": 109,
   "id": "dcced5c4-aaef-4de7-84bc-2c84389034a1",
   "metadata": {},
   "outputs": [],
   "source": [
    "ftl = 1/ocltt[:ellmax+1]\n",
    "fel = 1/oclee[:ellmax+1]\n",
    "fbl = 1/oclbb[:ellmax+1]\n",
    "\n",
    "ftl[:ellmin] *= 0.\n",
    "fel[:ellmin] *= 0.\n",
    "fbl[:ellmin] *= 0."
   ]
  },
  {
   "cell_type": "code",
   "execution_count": 110,
   "id": "01bcfb97-3c77-41dc-993d-53f665182aa9",
   "metadata": {},
   "outputs": [],
   "source": [
    "#---- N1 lensing bias library:\n",
    "n1_dd = n1.library_n1(main_path+'/notebooks_new/',cltt,clte,clee)"
   ]
  },
  {
   "cell_type": "code",
   "execution_count": 111,
   "id": "8b3acdb4-d91e-40c0-8085-ff9c9f0f10ea",
   "metadata": {},
   "outputs": [
    {
     "name": "stdout",
     "output_type": "stream",
     "text": [
      "n1: doing L 1 kA peb kB peb kind r\n",
      "n1: doing L 2 kA peb kB peb kind r\n",
      "n1: doing L 3 kA peb kB peb kind r\n",
      "n1: doing L 4 kA peb kB peb kind r\n",
      "n1: doing L 5 kA peb kB peb kind r\n",
      "n1: doing L 6 kA peb kB peb kind r\n",
      "n1: doing L 7 kA peb kB peb kind r\n",
      "n1: doing L 8 kA peb kB peb kind r\n",
      "n1: doing L 9 kA peb kB peb kind r\n",
      "n1: doing L 10 kA peb kB peb kind r\n",
      "n1: doing L 21 kA peb kB peb kind r\n",
      "n1: doing L 41 kA peb kB peb kind r\n",
      "n1: doing L 61 kA peb kB peb kind r\n",
      "n1: doing L 81 kA peb kB peb kind r\n",
      "n1: doing L 101 kA peb kB peb kind r\n",
      "n1: doing L 121 kA peb kB peb kind r\n",
      "n1: doing L 141 kA peb kB peb kind r\n",
      "n1: doing L 161 kA peb kB peb kind r\n",
      "n1: doing L 181 kA peb kB peb kind r\n",
      "n1: doing L 201 kA peb kB peb kind r\n",
      "n1: doing L 221 kA peb kB peb kind r\n",
      "n1: doing L 241 kA peb kB peb kind r\n",
      "n1: doing L 261 kA peb kB peb kind r\n",
      "n1: doing L 281 kA peb kB peb kind r\n",
      "n1: doing L 301 kA peb kB peb kind r\n",
      "n1: doing L 321 kA peb kB peb kind r\n",
      "n1: doing L 341 kA peb kB peb kind r\n",
      "n1: doing L 361 kA peb kB peb kind r\n",
      "n1: doing L 381 kA peb kB peb kind r\n",
      "n1: doing L 401 kA peb kB peb kind r\n",
      "n1: doing L 421 kA peb kB peb kind r\n",
      "n1: doing L 441 kA peb kB peb kind r\n",
      "n1: doing L 461 kA peb kB peb kind r\n",
      "n1: doing L 481 kA peb kB peb kind r\n",
      "n1: doing L 501 kA peb kB peb kind r\n",
      "n1: doing L 521 kA peb kB peb kind r\n",
      "n1: doing L 541 kA peb kB peb kind r\n",
      "n1: doing L 561 kA peb kB peb kind r\n",
      "n1: doing L 581 kA peb kB peb kind r\n",
      "n1: doing L 601 kA peb kB peb kind r\n",
      "n1: doing L 621 kA peb kB peb kind r\n",
      "n1: doing L 641 kA peb kB peb kind r\n",
      "n1: doing L 661 kA peb kB peb kind r\n",
      "n1: doing L 681 kA peb kB peb kind r\n",
      "n1: doing L 701 kA peb kB peb kind r\n",
      "n1: doing L 721 kA peb kB peb kind r\n",
      "n1: doing L 741 kA peb kB peb kind r\n",
      "n1: doing L 761 kA peb kB peb kind r\n",
      "n1: doing L 781 kA peb kB peb kind r\n",
      "n1: doing L 801 kA peb kB peb kind r\n",
      "n1: doing L 821 kA peb kB peb kind r\n",
      "n1: doing L 841 kA peb kB peb kind r\n",
      "n1: doing L 861 kA peb kB peb kind r\n",
      "n1: doing L 881 kA peb kB peb kind r\n",
      "n1: doing L 901 kA peb kB peb kind r\n",
      "n1: doing L 921 kA peb kB peb kind r\n",
      "n1: doing L 941 kA peb kB peb kind r\n",
      "n1: doing L 961 kA peb kB peb kind r\n",
      "n1: doing L 981 kA peb kB peb kind r\n",
      "n1: doing L 1001 kA peb kB peb kind r\n",
      "n1: doing L 1021 kA peb kB peb kind r\n",
      "n1: doing L 1041 kA peb kB peb kind r\n",
      "n1: doing L 1061 kA peb kB peb kind r\n",
      "n1: doing L 1081 kA peb kB peb kind r\n",
      "n1: doing L 1101 kA peb kB peb kind r\n",
      "n1: doing L 1121 kA peb kB peb kind r\n",
      "n1: doing L 1141 kA peb kB peb kind r\n",
      "n1: doing L 1161 kA peb kB peb kind r\n",
      "n1: doing L 1181 kA peb kB peb kind r\n",
      "n1: doing L 1201 kA peb kB peb kind r\n",
      "n1: doing L 1221 kA peb kB peb kind r\n",
      "n1: doing L 1241 kA peb kB peb kind r\n",
      "n1: doing L 1261 kA peb kB peb kind r\n",
      "n1: doing L 1281 kA peb kB peb kind r\n",
      "n1: doing L 1301 kA peb kB peb kind r\n",
      "n1: doing L 1321 kA peb kB peb kind r\n",
      "n1: doing L 1341 kA peb kB peb kind r\n",
      "n1: doing L 1361 kA peb kB peb kind r\n",
      "n1: doing L 1381 kA peb kB peb kind r\n",
      "n1: doing L 1401 kA peb kB peb kind r\n",
      "n1: doing L 1421 kA peb kB peb kind r\n",
      "n1: doing L 1441 kA peb kB peb kind r\n",
      "n1: doing L 1461 kA peb kB peb kind r\n",
      "n1: doing L 1481 kA peb kB peb kind r\n",
      "n1: doing L 1501 kA peb kB peb kind r\n",
      "n1: doing L 1521 kA peb kB peb kind r\n",
      "n1: doing L 1541 kA peb kB peb kind r\n",
      "n1: doing L 1561 kA peb kB peb kind r\n",
      "n1: doing L 1581 kA peb kB peb kind r\n",
      "n1: doing L 1601 kA peb kB peb kind r\n",
      "n1: doing L 1621 kA peb kB peb kind r\n",
      "n1: doing L 1641 kA peb kB peb kind r\n",
      "n1: doing L 1661 kA peb kB peb kind r\n",
      "n1: doing L 1681 kA peb kB peb kind r\n",
      "n1: doing L 1701 kA peb kB peb kind r\n",
      "n1: doing L 1721 kA peb kB peb kind r\n",
      "n1: doing L 1741 kA peb kB peb kind r\n",
      "n1: doing L 1761 kA peb kB peb kind r\n",
      "n1: doing L 1781 kA peb kB peb kind r\n",
      "n1: doing L 1801 kA peb kB peb kind r\n",
      "n1: doing L 1821 kA peb kB peb kind r\n",
      "n1: doing L 1841 kA peb kB peb kind r\n",
      "n1: doing L 1861 kA peb kB peb kind r\n",
      "n1: doing L 1881 kA peb kB peb kind r\n",
      "n1: doing L 1901 kA peb kB peb kind r\n",
      "n1: doing L 1921 kA peb kB peb kind r\n",
      "n1: doing L 1941 kA peb kB peb kind r\n",
      "n1: doing L 1961 kA peb kB peb kind r\n",
      "n1: doing L 1981 kA peb kB peb kind r\n",
      "n1: doing L 2001 kA peb kB peb kind r\n",
      "n1: doing L 2021 kA peb kB peb kind r\n",
      "n1: doing L 2041 kA peb kB peb kind r\n",
      "n1: doing L 2061 kA peb kB peb kind r\n",
      "n1: doing L 2081 kA peb kB peb kind r\n",
      "n1: doing L 2101 kA peb kB peb kind r\n",
      "n1: doing L 2121 kA peb kB peb kind r\n",
      "n1: doing L 2141 kA peb kB peb kind r\n",
      "n1: doing L 2161 kA peb kB peb kind r\n",
      "n1: doing L 2181 kA peb kB peb kind r\n",
      "n1: doing L 2201 kA peb kB peb kind r\n",
      "n1: doing L 2221 kA peb kB peb kind r\n",
      "n1: doing L 2241 kA peb kB peb kind r\n",
      "n1: doing L 2261 kA peb kB peb kind r\n",
      "n1: doing L 2281 kA peb kB peb kind r\n",
      "n1: doing L 2301 kA peb kB peb kind r\n",
      "n1: doing L 2321 kA peb kB peb kind r\n",
      "n1: doing L 2341 kA peb kB peb kind r\n",
      "n1: doing L 2361 kA peb kB peb kind r\n",
      "n1: doing L 2381 kA peb kB peb kind r\n",
      "n1: doing L 2401 kA peb kB peb kind r\n",
      "n1: doing L 2421 kA peb kB peb kind r\n",
      "n1: doing L 2441 kA peb kB peb kind r\n",
      "n1: doing L 2461 kA peb kB peb kind r\n",
      "n1: doing L 2481 kA peb kB peb kind r\n",
      "n1: doing L 2501 kA peb kB peb kind r\n",
      "n1: doing L 2521 kA peb kB peb kind r\n",
      "n1: doing L 2541 kA peb kB peb kind r\n",
      "n1: doing L 2561 kA peb kB peb kind r\n",
      "n1: doing L 2581 kA peb kB peb kind r\n",
      "n1: doing L 2601 kA peb kB peb kind r\n",
      "n1: doing L 2621 kA peb kB peb kind r\n",
      "n1: doing L 2641 kA peb kB peb kind r\n",
      "n1: doing L 2661 kA peb kB peb kind r\n",
      "n1: doing L 2681 kA peb kB peb kind r\n",
      "n1: doing L 2701 kA peb kB peb kind r\n",
      "n1: doing L 2721 kA peb kB peb kind r\n",
      "n1: doing L 2741 kA peb kB peb kind r\n",
      "n1: doing L 2761 kA peb kB peb kind r\n",
      "n1: doing L 2781 kA peb kB peb kind r\n",
      "n1: doing L 2801 kA peb kB peb kind r\n",
      "n1: doing L 2821 kA peb kB peb kind r\n",
      "n1: doing L 2841 kA peb kB peb kind r\n",
      "n1: doing L 2861 kA peb kB peb kind r\n",
      "n1: doing L 2881 kA peb kB peb kind r\n",
      "n1: doing L 2901 kA peb kB peb kind r\n",
      "n1: doing L 2921 kA peb kB peb kind r\n",
      "n1: doing L 2941 kA peb kB peb kind r\n",
      "n1: doing L 2961 kA peb kB peb kind r\n",
      "n1: doing L 2981 kA peb kB peb kind r\n",
      "n1: doing L 3000 kA peb kB peb kind r\n"
     ]
    }
   ],
   "source": [
    "n1aa = n1_dd.get_n1('peb', 'r', claa, ftl, fel, fbl, ellmax)"
   ]
  },
  {
   "cell_type": "code",
   "execution_count": 112,
   "id": "af3dbea6-d10d-466b-9e5f-86a0d90cdd17",
   "metadata": {},
   "outputs": [],
   "source": [
    "Ls = np.concatenate([[1, 2, 3, 4, 5, 6, 7, 8, 9, 10], np.arange(1, ellmax + 1)[::20], [ellmax]])"
   ]
  },
  {
   "cell_type": "code",
   "execution_count": 113,
   "id": "96e7df00-9295-40ea-a9ba-c0f14eaf7be8",
   "metadata": {},
   "outputs": [],
   "source": [
    "# Then calcute the correct Al_eb"
   ]
  },
  {
   "cell_type": "code",
   "execution_count": 114,
   "id": "d524668c-eeeb-453c-bc3a-5d8b272c6db1",
   "metadata": {},
   "outputs": [],
   "source": [
    "data = pd.read_csv(main_path + 'notebooks/CMB_S4_30_3000_n.csv')\n",
    "bias = ((data['EB_rot_reckap_x_reckap']-data['EB_reckap_x_reckap'])-(data['EB_rot_rdn0']-data['EB_rdn0']))/\\\n",
    "                 data['EB_inkap_x_inkap']"
   ]
  },
  {
   "cell_type": "code",
   "execution_count": 115,
   "id": "1b78d683-e287-4c9c-a61e-242cfeca922c",
   "metadata": {},
   "outputs": [
    {
     "name": "stderr",
     "output_type": "stream",
     "text": [
      "/global/u2/h/hongbo/.conda/envs/myenv/lib/python3.7/site-packages/ipykernel_launcher.py:1: RuntimeWarning: invalid value encountered in true_divide\n",
      "  \"\"\"Entry point for launching an IPython kernel.\n"
     ]
    },
    {
     "data": {
      "text/plain": [
       "[<matplotlib.lines.Line2D at 0x155524459bd0>]"
      ]
     },
     "execution_count": 115,
     "metadata": {},
     "output_type": "execute_result"
    },
    {
     "data": {
      "image/png": "[encoded data removed]",
      "text/plain": [
       "<Figure size 432x288 with 1 Axes>"
      ]
     },
     "metadata": {
      "needs_background": "light"
     },
     "output_type": "display_data"
    }
   ],
   "source": [
    "plt.plot(Ls, 100*((Al_eb/ells**2)**2)[Ls]*n1aa[Ls]/clpp[Ls])\n",
    "plt.plot(data['L'], bias)"
   ]
  },
  {
   "cell_type": "code",
   "execution_count": null,
   "id": "2e3ccc2a-47bc-497a-855c-3b2c0af0f3b7",
   "metadata": {},
   "outputs": [],
   "source": []
  }
 ],
 "metadata": {
  "kernelspec": {
   "display_name": "NERSC Python",
   "language": "python",
   "name": "python3"
  },
  "language_info": {
   "codemirror_mode": {
    "name": "ipython",
    "version": 3
   },
   "file_extension": ".py",
   "mimetype": "text/x-python",
   "name": "python",
   "nbconvert_exporter": "python",
   "pygments_lexer": "ipython3",
   "version": "3.7.9"
  }
 },
 "nbformat": 4,
 "nbformat_minor": 5
}
