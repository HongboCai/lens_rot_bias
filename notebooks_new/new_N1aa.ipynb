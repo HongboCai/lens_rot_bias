{
 "cells": [
  {
   "cell_type": "code",
   "execution_count": 1,
   "id": "cc6e0c1d-0f91-4fbd-bf53-cfc7ef95da6a",
   "metadata": {},
   "outputs": [],
   "source": [
    "import os\n",
    "import numpy as np\n",
    "import healpy as hp\n",
    "import matplotlib.pyplot as plt\n",
    "\n",
    "import curvedsky\n",
    "import orphics\n",
    "from orphics import maps, cosmology\n",
    "from math import pi\n",
    "\n",
    "import plancklens\n",
    "from plancklens import utils\n",
    "from plancklens import nhl\n",
    "from plancklens.n1 import n1\n",
    "from plancklens import qest, qecl, qresp\n",
    "\n",
    "import pandas as pd\n",
    "%matplotlib inline\n",
    "\n",
    "import matplotlib as mpl\n",
    "mpl.rcParams['font.size']=12"
   ]
  },
  {
   "cell_type": "code",
   "execution_count": 2,
   "id": "bdd8bb22-b70b-427c-8f7a-2e5abb64347b",
   "metadata": {
    "tags": []
   },
   "outputs": [],
   "source": [
    "exps_config = {\n",
    "    'CMB_S4': {\n",
    "        'nlev_t': 1,\n",
    "        'nlev_p':2**0.5,\n",
    "        'beam_arcmin': 1.4\n",
    "    }\n",
    "}\n",
    "\n",
    "\n",
    "nlev_t = 1\n",
    "nlev_p = 2**0.5\n",
    "beam_arcmin = 1.4\n",
    "lmax = 3000\n",
    "ellmin = 30\n",
    "ellmax = 3000\n",
    "Lmax = 3000\n",
    "\n",
    "# nlev_t = 30\n",
    "# nlev_p = 55\n",
    "# beam_arcmin = 1.4\n",
    "# lmax = 3001\n",
    "# ellmin = 30\n",
    "# ellmax = 3000\n",
    "# Lmax = ellmax\n",
    "\n",
    "\n",
    "\n",
    "ls = np.arange(lmax+1)\n",
    "ells = np.arange(ellmax+1)"
   ]
  },
  {
   "cell_type": "code",
   "execution_count": 3,
   "id": "0c0c08c8-611f-440a-b9c0-65056e826779",
   "metadata": {},
   "outputs": [],
   "source": [
    "theory = cosmology.default_theory()\n",
    "cltt, clee, clbb = theory.lCl('TT', ls), theory.lCl('EE', ls), theory.lCl('BB', ls)\n",
    "clte = theory.lCl('TE', ls)\n",
    "\n",
    "A_cb_index = '07'\n",
    "main_path = '/global/cscratch1/sd/hongbo/lens_rot_bias/'\n",
    "cls_path = '/global/cscratch1/sd/hongbo/lens_rot_bias/inputPs'"
   ]
  },
  {
   "cell_type": "code",
   "execution_count": 4,
   "id": "a39da8b7-b8e1-4109-b8da-b30db986d471",
   "metadata": {},
   "outputs": [],
   "source": [
    "claa = np.loadtxt(cls_path + '/claa_A1e-%s.txt' %A_cb_index)[:,1]\n",
    "# claa[1] = 0"
   ]
  },
  {
   "cell_type": "code",
   "execution_count": 5,
   "id": "39c36c33-b08d-4898-b439-c55edbd22373",
   "metadata": {},
   "outputs": [],
   "source": [
    "clpp = np.loadtxt(cls_path + '/cosmo2017_10K_acc3_lenspotentialCls.dat', \\\n",
    "                  usecols=(5), unpack=True)\n",
    "fac = (ls*(ls+1))**2/(2*pi)\n",
    "fac[0] = 1\n",
    "clpp = np.concatenate(([1,1], clpp))[ls]/fac\n",
    "clpp[0], clpp[1] = 0, 0"
   ]
  },
  {
   "cell_type": "code",
   "execution_count": 6,
   "id": "4dc8df32-6a4d-4a03-aa9f-805d16d3b150",
   "metadata": {},
   "outputs": [],
   "source": [
    "nltt = (nlev_t*pi/180/60)**2/maps.gauss_beam(ls, beam_arcmin)**2\n",
    "nlee = (nlev_p*pi/180/60)**2/maps.gauss_beam(ls, beam_arcmin)**2\n",
    "nlbb = nlee\n",
    "\n",
    "ocltt = cltt + nltt\n",
    "oclee = clee + nlee\n",
    "oclbb = clbb + nlbb\n",
    "oclee[0], oclee[1], oclbb[0], oclbb[1] = 1, 1, 1, 1"
   ]
  },
  {
   "cell_type": "code",
   "execution_count": 7,
   "id": "4729c93f-90be-42e5-9052-3376d3d1ee6a",
   "metadata": {},
   "outputs": [],
   "source": [
    "nl_eb = curvedsky.norm_quad.qeb('lens', ellmax, ellmin, ellmax, clee[:ellmax+1],\\\n",
    "                                        oclee[:ellmax+1], oclbb[:ellmax+1], lfac='')[0]\n",
    "Al_eb = nl_eb * ells**2"
   ]
  },
  {
   "cell_type": "code",
   "execution_count": 8,
   "id": "5bbca055-d342-424c-bdd9-53d9689c814e",
   "metadata": {},
   "outputs": [],
   "source": [
    "# import solenspipe\n",
    "# from falafel import qe,utils\n",
    "# ucls,tcls = utils.get_theory_dicts(grad=True)\n",
    "\n",
    "# bh,ells,Als,R_src_tt,Nl_g,Nl_c,Nl_g_bh = solenspipe.get_tempura_norms('EB',\n",
    "#                                                                 'EB',ucls,tcls, \\\n",
    "#                                                                 ellmin,ellmax,ellmax)\n",
    "\n",
    "# plt.plot(ls[2:], (fac*clpp)[2:], label='clpp')\n",
    "# plt.plot(ls[2:], (fac*nl_eb)[2:], label='N0, cmblensplus')\n",
    "# # for noiseless map\n",
    "# plt.plot(ls[2:], (fac*(4*Nl_g/(ls*(ls+1))**2))[2:], label='N0, solenspipe')\n",
    "# plt.xscale('log')\n",
    "# plt.yscale('log')\n",
    "# plt.legend()"
   ]
  },
  {
   "cell_type": "markdown",
   "id": "99842e3a-cd00-4fd8-9c02-d8ffd645c9ec",
   "metadata": {},
   "source": [
    "# firstly calculate unormalized uN1aa"
   ]
  },
  {
   "cell_type": "code",
   "execution_count": 9,
   "id": "dcced5c4-aaef-4de7-84bc-2c84389034a1",
   "metadata": {},
   "outputs": [],
   "source": [
    "ftl = 1/ocltt[:lmax+1]\n",
    "fel = 1/oclee[:lmax+1]\n",
    "fbl = 1/oclbb[:lmax+1]\n",
    "\n",
    "# ftl[:ellmin] *= 0.\n",
    "# fel[:ellmin] *= 0.\n",
    "# fbl[:ellmin] *= 0.\n",
    "\n",
    "ftl[:2] *= 0.\n",
    "fel[:2] *= 0.\n",
    "fbl[:2] *= 0."
   ]
  },
  {
   "cell_type": "code",
   "execution_count": 10,
   "id": "01bcfb97-3c77-41dc-993d-53f665182aa9",
   "metadata": {},
   "outputs": [],
   "source": [
    "#---- N1 lensing bias library:\n",
    "n1_dd = n1.library_n1(main_path+'/notebooks_new/',cltt,clte,clee)"
   ]
  },
  {
   "cell_type": "code",
   "execution_count": 11,
   "id": "8b3acdb4-d91e-40c0-8085-ff9c9f0f10ea",
   "metadata": {},
   "outputs": [],
   "source": [
    "n1aa = n1_dd.get_n1('peb', 'r', claa[:4001], ftl, fel, fbl, ellmax)"
   ]
  },
  {
   "cell_type": "code",
   "execution_count": 12,
   "id": "81bf08dc-c124-442d-9216-1e05c4ea048c",
   "metadata": {},
   "outputs": [],
   "source": [
    "# n1pp = n1_dd.get_n1('peb', 'p', clpp, ftl, fel, fbl, ellmax)"
   ]
  },
  {
   "cell_type": "code",
   "execution_count": 13,
   "id": "af3dbea6-d10d-466b-9e5f-86a0d90cdd17",
   "metadata": {},
   "outputs": [],
   "source": [
    "# Ls = np.concatenate([[1, 2, 3, 4, 5, 6, 7, 8, 9, 10], np.arange(1, ellmax + 1)[::20], [ellmax]])\n",
    "Ls = np.arange(5, ellmax+1, 20)"
   ]
  },
  {
   "cell_type": "code",
   "execution_count": 14,
   "id": "ef361674-efe6-4e17-8272-b21e5148de4c",
   "metadata": {},
   "outputs": [
    {
     "name": "stderr",
     "output_type": "stream",
     "text": [
      "/global/u2/h/hongbo/.conda/envs/myenv/lib/python3.7/site-packages/ipykernel_launcher.py:2: RuntimeWarning: invalid value encountered in true_divide\n",
      "  \n"
     ]
    },
    {
     "data": {
      "image/png": "[encoded data removed]",
      "text/plain": [
       "<Figure size 432x288 with 1 Axes>"
      ]
     },
     "metadata": {
      "needs_background": "light"
     },
     "output_type": "display_data"
    }
   ],
   "source": [
    "plt.plot(Ls, fac[Ls]*(clpp)[Ls], label='clpp')\n",
    "plt.plot(Ls, fac[Ls]*((Al_eb/ells**2)**2)[Ls]*n1aa[Ls], label='n1aa')\n",
    "# plt.plot(Ls, fac[Ls]*((Al_eb/ells**2)**2)[Ls]*n1pp[Ls], label='n1pp')\n",
    "plt.legend()\n",
    "plt.xlabel('L')\n",
    "plt.xscale('log')\n",
    "plt.yscale('log')"
   ]
  },
  {
   "cell_type": "code",
   "execution_count": 15,
   "id": "3d7b7e1e-487c-4ef0-b9e1-fe92dba69f85",
   "metadata": {
    "tags": []
   },
   "outputs": [
    {
     "name": "stderr",
     "output_type": "stream",
     "text": [
      "/global/u2/h/hongbo/.conda/envs/myenv/lib/python3.7/site-packages/ipykernel_launcher.py:2: RuntimeWarning: invalid value encountered in true_divide\n",
      "  \n"
     ]
    },
    {
     "data": {
      "image/png": "[encoded data removed]",
      "text/plain": [
       "<Figure size 432x288 with 1 Axes>"
      ]
     },
     "metadata": {
      "needs_background": "light"
     },
     "output_type": "display_data"
    }
   ],
   "source": [
    "plt.plot(Ls, fac[Ls]*(clpp)[Ls], label='clpp')\n",
    "plt.plot(Ls, np.abs(fac[Ls]*((Al_eb/ells**2)**2)[Ls]*n1aa[Ls]), label='n1aa')\n",
    "# plt.plot(Ls, np.abs(fac[Ls]*((Al_eb/ells**2)**2)[Ls]*n1pp[Ls]), label='n1pp')\n",
    "plt.legend()\n",
    "plt.xlabel('L')\n",
    "plt.xscale('log')\n",
    "plt.yscale('log')"
   ]
  },
  {
   "cell_type": "code",
   "execution_count": 16,
   "id": "96e7df00-9295-40ea-a9ba-c0f14eaf7be8",
   "metadata": {},
   "outputs": [],
   "source": [
    "# Then calcute the correct Al_eb"
   ]
  },
  {
   "cell_type": "code",
   "execution_count": 75,
   "id": "d524668c-eeeb-453c-bc3a-5d8b272c6db1",
   "metadata": {},
   "outputs": [],
   "source": [
    "# data = pd.read_csv(main_path + 'notebooks/CMB_S4_30_3000_n.csv')\n",
    "# bias = ((data['EB_rot_reckap_x_reckap']-data['EB_reckap_x_reckap'])-(data['EB_rot_rdn0']-data['EB_rdn0']))/\\\n",
    "#                  data['EB_inkap_x_inkap']\n",
    "data = np.loadtxt(main_path + 'notebooks_new/paper_data.txt')"
   ]
  },
  {
   "cell_type": "code",
   "execution_count": 83,
   "id": "2ee242e4-6bba-4b94-80db-0a9a3fbdb96b",
   "metadata": {},
   "outputs": [
    {
     "data": {
      "text/plain": [
       "array([ 1.20481928e-04,  1.80722892e-04,  3.01204819e-04,  1.80722892e-04,\n",
       "        1.20481928e-04,  6.02409639e-05, -1.80722892e-04, -6.02409639e-04,\n",
       "       -1.38554217e-03, -2.34939759e-03, -4.15662651e-03, -5.66265060e-03,\n",
       "       -8.79518072e-03, -1.05421687e-02, -1.12650602e-02])"
      ]
     },
     "execution_count": 83,
     "metadata": {},
     "output_type": "execute_result"
    }
   ],
   "source": [
    "data[:, 1]"
   ]
  },
  {
   "cell_type": "code",
   "execution_count": 85,
   "id": "1b78d683-e287-4c9c-a61e-242cfeca922c",
   "metadata": {},
   "outputs": [
    {
     "name": "stderr",
     "output_type": "stream",
     "text": [
      "/global/u2/h/hongbo/.conda/envs/myenv/lib/python3.7/site-packages/ipykernel_launcher.py:1: RuntimeWarning: invalid value encountered in true_divide\n",
      "  \"\"\"Entry point for launching an IPython kernel.\n"
     ]
    },
    {
     "data": {
      "image/png": "[encoded data removed]",
      "text/plain": [
       "<Figure size 432x288 with 1 Axes>"
      ]
     },
     "metadata": {
      "needs_background": "light"
     },
     "output_type": "display_data"
    }
   ],
   "source": [
    "plt.plot(Ls, ((Al_eb/ells**2)**2)[Ls]*n1aa[Ls]/clpp[Ls], label='calculation')\n",
    "# plt.plot(data['L'], bias, label='simulation')\n",
    "plt.plot(data[:, 0], data[:, 1], label='simulation')\n",
    "plt.legend()\n",
    "plt.xlabel('L')\n",
    "plt.ylabel('$({\\Delta}C_L^{\\phi \\phi})_{\\mathrm{rot}}/C_L^{\\phi \\phi}$')\n",
    "plt.tight_layout()\n",
    "plt.savefig(main_path + '/notebooks_new/compare.png')"
   ]
  },
  {
   "cell_type": "code",
   "execution_count": 68,
   "id": "a707a825-d116-4590-bdad-82c8bae3e55d",
   "metadata": {},
   "outputs": [],
   "source": [
    "A_cb = 1e-07\n",
    "n1aa_integral =  np.loadtxt(main_path+'/output/N1aa/N1aa_90_%s_CMB_S4_30_3000.dat' %A_cb)\n",
    "# n1aa_integral =  np.loadtxt(main_path+'/output/N1aa/N1aa_0_%s_CMB_S3_30_3000.dat' %A_cb)"
   ]
  },
  {
   "cell_type": "code",
   "execution_count": 86,
   "id": "2b15afcb-0466-4eaa-b230-4620649c7b09",
   "metadata": {},
   "outputs": [
    {
     "name": "stderr",
     "output_type": "stream",
     "text": [
      "/global/u2/h/hongbo/.conda/envs/myenv/lib/python3.7/site-packages/ipykernel_launcher.py:1: RuntimeWarning: invalid value encountered in true_divide\n",
      "  \"\"\"Entry point for launching an IPython kernel.\n"
     ]
    },
    {
     "data": {
      "image/png": "[encoded data removed]",
      "text/plain": [
       "<Figure size 432x288 with 1 Axes>"
      ]
     },
     "metadata": {
      "needs_background": "light"
     },
     "output_type": "display_data"
    }
   ],
   "source": [
    "plt.plot(Ls, ((Al_eb/ells**2)**2)[Ls]*n1aa[Ls]/clpp[Ls], label='calculation')\n",
    "plt.plot(Ls, n1aa_integral[Ls]/clpp[Ls])\n",
    "plt.plot(data[:, 0], data[:, 1], label='simulation')\n",
    "# plt.plot(data['L'], bias, label='simulation')\n",
    "plt.legend()\n",
    "plt.xlabel('L')\n",
    "plt.ylabel('$({\\Delta}C_L^{\\phi \\phi})_{\\mathrm{rot}}/C_L^{\\phi \\phi}$')\n",
    "plt.tight_layout()\n",
    "plt.savefig(main_path + '/notebooks_new/compare.png')"
   ]
  },
  {
   "cell_type": "code",
   "execution_count": null,
   "id": "316557e8-85d7-4a39-80f9-f6fe515a44d9",
   "metadata": {},
   "outputs": [],
   "source": []
  }
 ],
 "metadata": {
  "kernelspec": {
   "display_name": "NERSC Python",
   "language": "python",
   "name": "python3"
  },
  "language_info": {
   "codemirror_mode": {
    "name": "ipython",
    "version": 3
   },
   "file_extension": ".py",
   "mimetype": "text/x-python",
   "name": "python",
   "nbconvert_exporter": "python",
   "pygments_lexer": "ipython3",
   "version": "3.7.9"
  }
 },
 "nbformat": 4,
 "nbformat_minor": 5
}
