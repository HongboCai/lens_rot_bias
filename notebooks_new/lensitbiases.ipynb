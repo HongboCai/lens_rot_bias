{
 "cells": [
  {
   "cell_type": "code",
   "execution_count": 6,
   "id": "f83453fd-3e24-4232-b8f8-9406a86e40b8",
   "metadata": {},
   "outputs": [],
   "source": [
    "import numpy as np\n",
    "import pylab as pl\n",
    "import lensitbiases as lb"
   ]
  },
  {
   "cell_type": "code",
   "execution_count": 9,
   "id": "42f9dfd8-db7c-418d-a80a-5b2c192c0ab4",
   "metadata": {},
   "outputs": [
    {
     "ename": "ImportError",
     "evalue": "cannot import name '_fftpack' from 'scipy.fftpack' (/global/u2/h/hongbo/.conda/envs/myenv/lib/python3.7/site-packages/scipy/fftpack/__init__.py)",
     "output_type": "error",
     "traceback": [
      "\u001b[0;31m---------------------------------------------------------------------------\u001b[0m",
      "\u001b[0;31mImportError\u001b[0m                               Traceback (most recent call last)",
      "\u001b[0;32m<ipython-input-9-ca81f90b72ad>\u001b[0m in \u001b[0;36m<module>\u001b[0;34m\u001b[0m\n\u001b[0;32m----> 1\u001b[0;31m \u001b[0;32mfrom\u001b[0m \u001b[0mlensitbiases\u001b[0m \u001b[0;32mimport\u001b[0m \u001b[0mn1_fft\u001b[0m\u001b[0;34m\u001b[0m\u001b[0;34m\u001b[0m\u001b[0m\n\u001b[0m",
      "\u001b[0;32m/global/u2/h/hongbo/tools/lensitbiases/lensitbiases/n1_fft.py\u001b[0m in \u001b[0;36m<module>\u001b[0;34m\u001b[0m\n\u001b[1;32m     25\u001b[0m \u001b[0;32mfrom\u001b[0m \u001b[0mlensitbiases\u001b[0m\u001b[0;34m.\u001b[0m\u001b[0mutils_box\u001b[0m \u001b[0;32mimport\u001b[0m \u001b[0mlowprimes\u001b[0m\u001b[0;34m\u001b[0m\u001b[0;34m\u001b[0m\u001b[0m\n\u001b[1;32m     26\u001b[0m \u001b[0;32mimport\u001b[0m \u001b[0mos\u001b[0m\u001b[0;34m\u001b[0m\u001b[0;34m\u001b[0m\u001b[0m\n\u001b[0;32m---> 27\u001b[0;31m \u001b[0;32mimport\u001b[0m \u001b[0mpyfftw\u001b[0m\u001b[0;34m\u001b[0m\u001b[0;34m\u001b[0m\u001b[0m\n\u001b[0m\u001b[1;32m     28\u001b[0m \u001b[0;34m\u001b[0m\u001b[0m\n\u001b[1;32m     29\u001b[0m \u001b[0;32mdef\u001b[0m \u001b[0mget_n1\u001b[0m\u001b[0;34m(\u001b[0m\u001b[0mk\u001b[0m\u001b[0;34m,\u001b[0m \u001b[0mLs\u001b[0m\u001b[0;34m,\u001b[0m \u001b[0mjt_TP\u001b[0m\u001b[0;34m,\u001b[0m \u001b[0mdo_n1mat\u001b[0m\u001b[0;34m=\u001b[0m\u001b[0;32mTrue\u001b[0m\u001b[0;34m,\u001b[0m \u001b[0mlminbox\u001b[0m\u001b[0;34m=\u001b[0m\u001b[0;36m50\u001b[0m\u001b[0;34m,\u001b[0m \u001b[0mlmaxbox\u001b[0m\u001b[0;34m=\u001b[0m\u001b[0;36m2500\u001b[0m\u001b[0;34m)\u001b[0m\u001b[0;34m:\u001b[0m\u001b[0;34m\u001b[0m\u001b[0;34m\u001b[0m\u001b[0m\n",
      "\u001b[0;32m~/.local/cori/3.7-anaconda-2019.07/lib/python3.7/site-packages/pyfftw/__init__.py\u001b[0m in \u001b[0;36m<module>\u001b[0;34m\u001b[0m\n\u001b[1;32m     41\u001b[0m \u001b[0;32mfrom\u001b[0m \u001b[0;34m.\u001b[0m \u001b[0;32mimport\u001b[0m \u001b[0mconfig\u001b[0m\u001b[0;34m\u001b[0m\u001b[0;34m\u001b[0m\u001b[0m\n\u001b[1;32m     42\u001b[0m \u001b[0;32mfrom\u001b[0m \u001b[0;34m.\u001b[0m \u001b[0;32mimport\u001b[0m \u001b[0mbuilders\u001b[0m\u001b[0;34m\u001b[0m\u001b[0;34m\u001b[0m\u001b[0m\n\u001b[0;32m---> 43\u001b[0;31m \u001b[0;32mfrom\u001b[0m \u001b[0;34m.\u001b[0m \u001b[0;32mimport\u001b[0m \u001b[0minterfaces\u001b[0m\u001b[0;34m\u001b[0m\u001b[0;34m\u001b[0m\u001b[0m\n\u001b[0m\u001b[1;32m     44\u001b[0m \u001b[0;34m\u001b[0m\u001b[0m\n\u001b[1;32m     45\u001b[0m \u001b[0;34m\u001b[0m\u001b[0m\n",
      "\u001b[0;32m~/.local/cori/3.7-anaconda-2019.07/lib/python3.7/site-packages/pyfftw/interfaces/__init__.py\u001b[0m in \u001b[0;36m<module>\u001b[0;34m\u001b[0m\n\u001b[1;32m    235\u001b[0m \u001b[0;32melse\u001b[0m\u001b[0;34m:\u001b[0m\u001b[0;34m\u001b[0m\u001b[0;34m\u001b[0m\u001b[0m\n\u001b[1;32m    236\u001b[0m     \u001b[0;32mdel\u001b[0m \u001b[0mscipy\u001b[0m\u001b[0;34m\u001b[0m\u001b[0;34m\u001b[0m\u001b[0m\n\u001b[0;32m--> 237\u001b[0;31m     \u001b[0;32mfrom\u001b[0m \u001b[0;34m.\u001b[0m \u001b[0;32mimport\u001b[0m \u001b[0mscipy_fftpack\u001b[0m\u001b[0;34m\u001b[0m\u001b[0;34m\u001b[0m\u001b[0m\n\u001b[0m\u001b[1;32m    238\u001b[0m \u001b[0;34m\u001b[0m\u001b[0m\n\u001b[1;32m    239\u001b[0m \u001b[0;34m\u001b[0m\u001b[0m\n",
      "\u001b[0;32m~/.local/cori/3.7-anaconda-2019.07/lib/python3.7/site-packages/pyfftw/interfaces/scipy_fftpack.py\u001b[0m in \u001b[0;36m<module>\u001b[0;34m\u001b[0m\n\u001b[1;32m     63\u001b[0m \u001b[0;34m\u001b[0m\u001b[0m\n\u001b[1;32m     64\u001b[0m \u001b[0;31m# Complete the namespace (these are not actually used in this module)\u001b[0m\u001b[0;34m\u001b[0m\u001b[0;34m\u001b[0m\u001b[0;34m\u001b[0m\u001b[0m\n\u001b[0;32m---> 65\u001b[0;31m from scipy.fftpack import (dct, idct, dst, idst, diff, tilbert, itilbert,\n\u001b[0m\u001b[1;32m     66\u001b[0m         \u001b[0mhilbert\u001b[0m\u001b[0;34m,\u001b[0m \u001b[0mihilbert\u001b[0m\u001b[0;34m,\u001b[0m \u001b[0mcs_diff\u001b[0m\u001b[0;34m,\u001b[0m \u001b[0msc_diff\u001b[0m\u001b[0;34m,\u001b[0m \u001b[0mss_diff\u001b[0m\u001b[0;34m,\u001b[0m \u001b[0mcc_diff\u001b[0m\u001b[0;34m,\u001b[0m\u001b[0;34m\u001b[0m\u001b[0;34m\u001b[0m\u001b[0m\n\u001b[1;32m     67\u001b[0m         \u001b[0mshift\u001b[0m\u001b[0;34m,\u001b[0m \u001b[0mfftshift\u001b[0m\u001b[0;34m,\u001b[0m \u001b[0mifftshift\u001b[0m\u001b[0;34m,\u001b[0m \u001b[0mfftfreq\u001b[0m\u001b[0;34m,\u001b[0m \u001b[0mrfftfreq\u001b[0m\u001b[0;34m,\u001b[0m\u001b[0;34m\u001b[0m\u001b[0;34m\u001b[0m\u001b[0m\n",
      "\u001b[0;31mImportError\u001b[0m: cannot import name '_fftpack' from 'scipy.fftpack' (/global/u2/h/hongbo/.conda/envs/myenv/lib/python3.7/site-packages/scipy/fftpack/__init__.py)"
     ]
    }
   ],
   "source": [
    "from lensitbiases import n1_fft"
   ]
  },
  {
   "cell_type": "code",
   "execution_count": 3,
   "id": "73e79726-15aa-444b-af83-32388f457d64",
   "metadata": {},
   "outputs": [],
   "source": [
    "from scipy import fftpack"
   ]
  },
  {
   "cell_type": "code",
   "execution_count": 4,
   "id": "0426e1e6-502e-468c-92ae-077ffb740e8d",
   "metadata": {},
   "outputs": [],
   "source": [
    "import scipy"
   ]
  },
  {
   "cell_type": "code",
   "execution_count": 11,
   "id": "8a342681-51d7-4a02-ab3c-245fd8c9021f",
   "metadata": {},
   "outputs": [
    {
     "name": "stdout",
     "output_type": "stream",
     "text": [
      "/global/u2/h/hongbo/.conda/envs/myenv/lib/python3.7/site-packages/scipy/__init__.py\n"
     ]
    }
   ],
   "source": [
    "print(scipy.__file__)"
   ]
  },
  {
   "cell_type": "code",
   "execution_count": null,
   "id": "538cd182-0e51-497b-bb94-78d98f23021c",
   "metadata": {},
   "outputs": [],
   "source": []
  }
 ],
 "metadata": {
  "kernelspec": {
   "display_name": "NERSC Python",
   "language": "python",
   "name": "python3"
  },
  "language_info": {
   "codemirror_mode": {
    "name": "ipython",
    "version": 3
   },
   "file_extension": ".py",
   "mimetype": "text/x-python",
   "name": "python",
   "nbconvert_exporter": "python",
   "pygments_lexer": "ipython3",
   "version": "3.7.9"
  }
 },
 "nbformat": 4,
 "nbformat_minor": 5
}
