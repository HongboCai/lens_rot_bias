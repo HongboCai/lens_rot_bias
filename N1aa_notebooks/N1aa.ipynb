{
 "cells": [
  {
   "cell_type": "code",
   "execution_count": 2,
   "id": "cc6e0c1d-0f91-4fbd-bf53-cfc7ef95da6a",
   "metadata": {
    "collapsed": false,
    "jupyter": {
     "outputs_hidden": false
    }
   },
   "outputs": [],
   "source": [
    "import os\n",
    "import numpy as np\n",
    "import healpy as hp\n",
    "import matplotlib.pyplot as plt\n",
    "\n",
    "import curvedsky\n",
    "import orphics\n",
    "from orphics import maps, cosmology\n",
    "from math import pi\n",
    "\n",
    "import plancklens\n",
    "from plancklens import utils, n0s\n",
    "from plancklens import nhl\n",
    "from plancklens.n1 import n1\n",
    "from plancklens import qest, qecl, qresp\n",
    "\n",
    "import pandas as pd\n",
    "%matplotlib inline\n",
    "\n",
    "import matplotlib as mpl\n",
    "mpl.rcParams['font.size']=12"
   ]
  },
  {
   "cell_type": "code",
   "execution_count": 3,
   "id": "bdd8bb22-b70b-427c-8f7a-2e5abb64347b",
   "metadata": {
    "collapsed": false,
    "jupyter": {
     "outputs_hidden": false
    },
    "tags": []
   },
   "outputs": [],
   "source": [
    "exps_config = {\n",
    "    'CMB_S4': {\n",
    "        'nlev_t': 1,\n",
    "        'nlev_p':2**0.5,\n",
    "        'beam_arcmin': 1.4\n",
    "    }\n",
    "}\n",
    "\n",
    "\n",
    "nlev_t = 1\n",
    "nlev_p = 2**0.5\n",
    "beam_arcmin = 1.4\n",
    "lmax = 3000\n",
    "ellmin = 30\n",
    "ellmax = 3000\n",
    "Lmax = 3000\n",
    "\n",
    "# nlev_t = 30\n",
    "# nlev_p = 55\n",
    "# beam_arcmin = 1.4\n",
    "# lmax = 3001\n",
    "# ellmin = 30\n",
    "# ellmax = 3000\n",
    "# Lmax = ellmax\n",
    "\n",
    "\n",
    "\n",
    "ls = np.arange(lmax+1)\n",
    "ells = np.arange(ellmax+1)"
   ]
  },
  {
   "cell_type": "code",
   "execution_count": 4,
   "id": "0c0c08c8-611f-440a-b9c0-65056e826779",
   "metadata": {
    "collapsed": false,
    "jupyter": {
     "outputs_hidden": false
    }
   },
   "outputs": [],
   "source": [
    "theory = cosmology.default_theory()\n",
    "cltt, clee, clbb = theory.lCl('TT', ls), theory.lCl('EE', ls), theory.lCl('BB', ls)\n",
    "clte = theory.lCl('TE', ls)\n",
    "\n",
    "A_cb_index = '07'\n",
    "main_path = '/global/cscratch1/sd/hongbo/lens_rot_bias/'\n",
    "cls_path = '/global/cscratch1/sd/hongbo/lens_rot_bias/inputPs'"
   ]
  },
  {
   "cell_type": "code",
   "execution_count": 5,
   "id": "a39da8b7-b8e1-4109-b8da-b30db986d471",
   "metadata": {
    "collapsed": false,
    "jupyter": {
     "outputs_hidden": false
    }
   },
   "outputs": [],
   "source": [
    "claa = np.loadtxt(cls_path + '/claa_A1e-%s.txt' %A_cb_index)[:,1]\n",
    "# claa[1] = 0"
   ]
  },
  {
   "cell_type": "code",
   "execution_count": 6,
   "id": "39c36c33-b08d-4898-b439-c55edbd22373",
   "metadata": {
    "collapsed": false,
    "jupyter": {
     "outputs_hidden": false
    }
   },
   "outputs": [],
   "source": [
    "clpp = np.loadtxt(cls_path + '/cosmo2017_10K_acc3_lenspotentialCls.dat', \\\n",
    "                  usecols=(5), unpack=True)\n",
    "fac = (ls*(ls+1))**2/(2*pi)\n",
    "fac[0] = 1\n",
    "clpp = np.concatenate(([1,1], clpp))[ls]/fac\n",
    "clpp[0], clpp[1] = 0, 0"
   ]
  },
  {
   "cell_type": "code",
   "execution_count": 7,
   "id": "4dc8df32-6a4d-4a03-aa9f-805d16d3b150",
   "metadata": {
    "collapsed": false,
    "jupyter": {
     "outputs_hidden": false
    }
   },
   "outputs": [],
   "source": [
    "nltt = (nlev_t*pi/180/60)**2/maps.gauss_beam(ls, beam_arcmin)**2\n",
    "nlee = (nlev_p*pi/180/60)**2/maps.gauss_beam(ls, beam_arcmin)**2\n",
    "nlbb = nlee\n",
    "\n",
    "ocltt = cltt + nltt\n",
    "oclee = clee + nlee\n",
    "oclbb = clbb + nlbb\n",
    "oclee[0], oclee[1], oclbb[0], oclbb[1] = 1, 1, 1, 1"
   ]
  },
  {
   "cell_type": "code",
   "execution_count": 8,
   "id": "4729c93f-90be-42e5-9052-3376d3d1ee6a",
   "metadata": {
    "collapsed": false,
    "jupyter": {
     "outputs_hidden": false
    }
   },
   "outputs": [],
   "source": [
    "nl_eb = curvedsky.norm_quad.qeb('lens', ellmax, ellmin, ellmax, clee[:ellmax+1],\\\n",
    "                                        oclee[:ellmax+1], oclbb[:ellmax+1], lfac='')[0]\n",
    "Al_eb = nl_eb * ells**2"
   ]
  },
  {
   "cell_type": "code",
   "execution_count": 9,
   "id": "5bbca055-d342-424c-bdd9-53d9689c814e",
   "metadata": {
    "collapsed": false,
    "jupyter": {
     "outputs_hidden": false
    }
   },
   "outputs": [],
   "source": [
    "# import solenspipe\n",
    "# from falafel import qe,utils\n",
    "# ucls,tcls = utils.get_theory_dicts(grad=True)\n",
    "\n",
    "# bh,ells,Als,R_src_tt,Nl_g,Nl_c,Nl_g_bh = solenspipe.get_tempura_norms('EB',\n",
    "#                                                                 'EB',ucls,tcls, \\\n",
    "#                                                                 ellmin,ellmax,ellmax)\n",
    "\n",
    "# plt.plot(ls[2:], (fac*clpp)[2:], label='clpp')\n",
    "# plt.plot(ls[2:], (fac*nl_eb)[2:], label='N0, cmblensplus')\n",
    "# # for noiseless map\n",
    "# plt.plot(ls[2:], (fac*(4*Nl_g/(ls*(ls+1))**2))[2:], label='N0, solenspipe')\n",
    "# plt.xscale('log')\n",
    "# plt.yscale('log')\n",
    "# plt.legend()"
   ]
  },
  {
   "cell_type": "markdown",
   "id": "99842e3a-cd00-4fd8-9c02-d8ffd645c9ec",
   "metadata": {
    "collapsed": false,
    "jupyter": {
     "outputs_hidden": false
    }
   },
   "source": [
    "# firstly calculate unormalized uN1aa"
   ]
  },
  {
   "cell_type": "code",
   "execution_count": 10,
   "id": "dcced5c4-aaef-4de7-84bc-2c84389034a1",
   "metadata": {
    "collapsed": false,
    "jupyter": {
     "outputs_hidden": false
    }
   },
   "outputs": [],
   "source": [
    "ftl = 1/ocltt[:lmax+1]\n",
    "fel = 1/oclee[:lmax+1]\n",
    "fbl = 1/oclbb[:lmax+1]\n",
    "\n",
    "# ftl[:ellmin] *= 0.\n",
    "# fel[:ellmin] *= 0.\n",
    "# fbl[:ellmin] *= 0.\n",
    "\n",
    "ftl[:2] *= 0.\n",
    "fel[:2] *= 0.\n",
    "fbl[:2] *= 0."
   ]
  },
  {
   "cell_type": "code",
   "execution_count": 11,
   "id": "01bcfb97-3c77-41dc-993d-53f665182aa9",
   "metadata": {
    "collapsed": false,
    "jupyter": {
     "outputs_hidden": false
    }
   },
   "outputs": [],
   "source": [
    "#---- N1 lensing bias library:\n",
    "n1_dd = n1.library_n1(main_path+'/notebooks_new/',cltt,clte,clee)"
   ]
  },
  {
   "cell_type": "code",
   "execution_count": 12,
   "id": "8b3acdb4-d91e-40c0-8085-ff9c9f0f10ea",
   "metadata": {
    "collapsed": false,
    "jupyter": {
     "outputs_hidden": false
    }
   },
   "outputs": [],
   "source": [
    "n1aa = n1_dd.get_n1('peb', 'r', claa[:4001], ftl, fel, fbl, ellmax)"
   ]
  },
  {
   "cell_type": "code",
   "execution_count": 13,
   "id": "81bf08dc-c124-442d-9216-1e05c4ea048c",
   "metadata": {
    "collapsed": false,
    "jupyter": {
     "outputs_hidden": false
    }
   },
   "outputs": [],
   "source": [
    "# n1pp = n1_dd.get_n1('peb', 'p', clpp, ftl, fel, fbl, ellmax)"
   ]
  },
  {
   "cell_type": "code",
   "execution_count": 14,
   "id": "af3dbea6-d10d-466b-9e5f-86a0d90cdd17",
   "metadata": {
    "collapsed": false,
    "jupyter": {
     "outputs_hidden": false
    }
   },
   "outputs": [],
   "source": [
    "# Ls = np.concatenate([[1, 2, 3, 4, 5, 6, 7, 8, 9, 10], np.arange(1, ellmax + 1)[::20], [ellmax]])\n",
    "Ls = np.arange(5, ellmax+1, 20)"
   ]
  },
  {
   "cell_type": "code",
   "execution_count": 15,
   "id": "ef361674-efe6-4e17-8272-b21e5148de4c",
   "metadata": {
    "collapsed": false,
    "jupyter": {
     "outputs_hidden": false
    }
   },
   "outputs": [
    {
     "name": "stderr",
     "output_type": "stream",
     "text": [
      "/global/u2/h/hongbo/.conda/envs/myenv/lib/python3.7/site-packages/ipykernel_launcher.py:2: RuntimeWarning: invalid value encountered in true_divide\n",
      "  \n"
     ]
    },
    {
     "data": {
      "image/png": "[encoded data removed]",
      "text/plain": [
       "<Figure size 432x288 with 1 Axes>"
      ]
     },
     "metadata": {
      "needs_background": "light"
     },
     "output_type": "display_data"
    }
   ],
   "source": [
    "plt.plot(Ls, fac[Ls]*(clpp)[Ls], label='clpp')\n",
    "plt.plot(Ls, fac[Ls]*((Al_eb/ells**2)**2)[Ls]*n1aa[Ls], label='n1aa')\n",
    "# plt.plot(Ls, fac[Ls]*((Al_eb/ells**2)**2)[Ls]*n1pp[Ls], label='n1pp')\n",
    "plt.legend()\n",
    "plt.xlabel('L')\n",
    "plt.xscale('log')\n",
    "plt.yscale('log')"
   ]
  },
  {
   "cell_type": "code",
   "execution_count": 16,
   "id": "3d7b7e1e-487c-4ef0-b9e1-fe92dba69f85",
   "metadata": {
    "collapsed": false,
    "jupyter": {
     "outputs_hidden": false
    },
    "tags": []
   },
   "outputs": [
    {
     "name": "stderr",
     "output_type": "stream",
     "text": [
      "/global/u2/h/hongbo/.conda/envs/myenv/lib/python3.7/site-packages/ipykernel_launcher.py:2: RuntimeWarning: invalid value encountered in true_divide\n",
      "  \n"
     ]
    },
    {
     "data": {
      "image/png": "[encoded data removed]",
      "text/plain": [
       "<Figure size 432x288 with 1 Axes>"
      ]
     },
     "metadata": {
      "needs_background": "light"
     },
     "output_type": "display_data"
    }
   ],
   "source": [
    "plt.plot(Ls, fac[Ls]*(clpp)[Ls], label='clpp')\n",
    "plt.plot(Ls, np.abs(fac[Ls]*((Al_eb/ells**2)**2)[Ls]*n1aa[Ls]), label='n1aa')\n",
    "# plt.plot(Ls, np.abs(fac[Ls]*((Al_eb/ells**2)**2)[Ls]*n1pp[Ls]), label='n1pp')\n",
    "plt.legend()\n",
    "plt.xlabel('L')\n",
    "plt.xscale('log')\n",
    "plt.yscale('log')"
   ]
  },
  {
   "cell_type": "code",
   "execution_count": 17,
   "id": "96e7df00-9295-40ea-a9ba-c0f14eaf7be8",
   "metadata": {
    "collapsed": false,
    "jupyter": {
     "outputs_hidden": false
    }
   },
   "outputs": [],
   "source": [
    "# Then calcute the correct Al_eb"
   ]
  },
  {
   "cell_type": "code",
   "execution_count": 18,
   "id": "d524668c-eeeb-453c-bc3a-5d8b272c6db1",
   "metadata": {
    "collapsed": false,
    "jupyter": {
     "outputs_hidden": false
    }
   },
   "outputs": [],
   "source": [
    "# data = pd.read_csv(main_path + 'notebooks/CMB_S4_30_3000_n.csv')\n",
    "# bias = ((data['EB_rot_reckap_x_reckap']-data['EB_reckap_x_reckap'])-(data['EB_rot_rdn0']-data['EB_rdn0']))/\\\n",
    "#                  data['EB_inkap_x_inkap']\n",
    "data = np.loadtxt(main_path + 'notebooks_new/paper_data.txt')"
   ]
  },
  {
   "cell_type": "code",
   "execution_count": 19,
   "id": "1b78d683-e287-4c9c-a61e-242cfeca922c",
   "metadata": {
    "collapsed": false,
    "jupyter": {
     "outputs_hidden": false
    }
   },
   "outputs": [
    {
     "name": "stderr",
     "output_type": "stream",
     "text": [
      "/global/u2/h/hongbo/.conda/envs/myenv/lib/python3.7/site-packages/ipykernel_launcher.py:1: RuntimeWarning: invalid value encountered in true_divide\n",
      "  \"\"\"Entry point for launching an IPython kernel.\n"
     ]
    },
    {
     "data": {
      "image/png": "[encoded data removed]",
      "text/plain": [
       "<Figure size 432x288 with 1 Axes>"
      ]
     },
     "metadata": {
      "needs_background": "light"
     },
     "output_type": "display_data"
    }
   ],
   "source": [
    "plt.plot(Ls, ((Al_eb/ells**2)**2)[Ls]*n1aa[Ls]/clpp[Ls], label='calculation')\n",
    "# plt.plot(data['L'], bias, label='simulation')\n",
    "plt.plot(data[:, 0], data[:, 1], label='simulation')\n",
    "plt.legend()\n",
    "plt.xlabel('L')\n",
    "plt.ylabel('$({\\Delta}C_L^{\\phi \\phi})_{\\mathrm{rot}}/C_L^{\\phi \\phi}$')\n",
    "plt.tight_layout()\n",
    "plt.savefig(main_path + '/notebooks_new/compare.png')"
   ]
  },
  {
   "cell_type": "code",
   "execution_count": 20,
   "id": "a707a825-d116-4590-bdad-82c8bae3e55d",
   "metadata": {
    "collapsed": false,
    "jupyter": {
     "outputs_hidden": false
    }
   },
   "outputs": [],
   "source": [
    "A_cb = 1e-06\n",
    "\n",
    "result_nums = [90, 110, 130, 150, 170]\n",
    "n1aa_integral = []\n",
    "for result_num in result_nums:\n",
    "    n1aa_integral.append(np.loadtxt(main_path+'/output/N1aa/N1aa_%s_%s_CMB_S4_30_3000.dat' %(result_num, A_cb)))\n",
    "\n",
    "n1aa_integral = np.array(n1aa_integral)\n",
    "n1aa_sim = np.mean(n1aa_integral, axis=0)"
   ]
  },
  {
   "cell_type": "code",
   "execution_count": 23,
   "id": "2b15afcb-0466-4eaa-b230-4620649c7b09",
   "metadata": {
    "collapsed": false,
    "jupyter": {
     "outputs_hidden": false
    }
   },
   "outputs": [
    {
     "name": "stderr",
     "output_type": "stream",
     "text": [
      "/global/u2/h/hongbo/.conda/envs/myenv/lib/python3.7/site-packages/ipykernel_launcher.py:1: RuntimeWarning: invalid value encountered in true_divide\n",
      "  \"\"\"Entry point for launching an IPython kernel.\n"
     ]
    },
    {
     "data": {
      "image/png": "[encoded data removed]",
      "text/plain": [
       "<Figure size 432x288 with 1 Axes>"
      ]
     },
     "metadata": {
      "needs_background": "light"
     },
     "output_type": "display_data"
    }
   ],
   "source": [
    "plt.plot(Ls, ((Al_eb/ells**2)**2)[Ls]*n1aa[Ls]/clpp[Ls], label='cal')\n",
    "plt.plot(Ls, n1aa_sim[Ls]/clpp[Ls]/10, label='n1aa sim')\n",
    "plt.plot(data[:, 0], data[:, 1], label='sim')\n",
    "# plt.plot(data['L'], bias, label='simulation')\n",
    "plt.legend()\n",
    "plt.xlabel('L')\n",
    "plt.ylabel('$({\\Delta}C_L^{\\phi \\phi})_{\\mathrm{rot}}/C_L^{\\phi \\phi}$')\n",
    "plt.tight_layout()\n",
    "plt.savefig(main_path + '/notebooks_new/compare.png')"
   ]
  },
  {
   "cell_type": "code",
   "execution_count": null,
   "id": "26779c7b-3990-49ab-ae3e-a1b2949e27f9",
   "metadata": {
    "collapsed": false,
    "jupyter": {
     "outputs_hidden": false
    }
   },
   "outputs": [],
   "source": []
  }
 ],
 "metadata": {
  "kernelspec": {
   "display_name": "Python 3 (ipykernel)",
   "language": "python",
   "name": "python3"
  },
  "language_info": {
   "codemirror_mode": {
    "name": "ipython",
    "version": 3
   },
   "file_extension": ".py",
   "mimetype": "text/x-python",
   "name": "python",
   "nbconvert_exporter": "python",
   "pygments_lexer": "ipython3",
   "version": "3.12.7"
  },
  "name": "new_N1aa.ipynb"
 },
 "nbformat": 4,
 "nbformat_minor": 5
}
