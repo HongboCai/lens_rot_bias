{
 "cells": [
  {
   "cell_type": "code",
   "execution_count": 1,
   "id": "4abe2485-218d-446e-b5ff-6ed0c0e7b2fb",
   "metadata": {},
   "outputs": [],
   "source": [
    "import numpy as np"
   ]
  },
  {
   "cell_type": "code",
   "execution_count": 2,
   "id": "6d56aee9-c6f0-477e-8def-29ff7a63d323",
   "metadata": {},
   "outputs": [],
   "source": [
    "log_kmax = 2\n",
    "log_kmin = -5\n",
    "k_res = 1000\n",
    "ks_hm = np.logspace(log_kmin,log_kmax,num=k_res )     #k-sampling \n",
    "zs_hm = np.logspace(-2,np.log10(6),150) #z-sampling "
   ]
  },
  {
   "cell_type": "code",
   "execution_count": 5,
   "id": "c21d7950-c2cb-4816-a5aa-f06b4ba96d40",
   "metadata": {},
   "outputs": [],
   "source": [
    "ReCCO_path = '/home/hongbo/tools/ReCCO'\n",
    "output = '/home/hongbo/tools/ReCCO/code/output/3433eb162e0158142a0800b60adca53b'"
   ]
  },
  {
   "cell_type": "code",
   "execution_count": 6,
   "id": "ca72b08a-a955-46fb-ba65-8ab5988e79a7",
   "metadata": {},
   "outputs": [],
   "source": [
    "import pickle"
   ]
  },
  {
   "cell_type": "code",
   "execution_count": 9,
   "id": "2b6ff14b-b020-4843-be5e-7060063d572a",
   "metadata": {},
   "outputs": [],
   "source": [
    "filename = '/home/hongbo/tools/ReCCO/code/output/3433eb162e0158142a0800b60adca53b/Cls/Pi_bins=8/Cl_vr_vr_lmax=4000.p'\n",
    "data = pickle.load( open( filename, \"rb\" ) )"
   ]
  },
  {
   "cell_type": "code",
   "execution_count": null,
   "id": "d82109d4-bec4-492a-847a-2ed3e50f48d6",
   "metadata": {},
   "outputs": [],
   "source": []
  }
 ],
 "metadata": {
  "kernelspec": {
   "display_name": "Python 3 (ipykernel)",
   "language": "python",
   "name": "python3"
  },
  "language_info": {
   "codemirror_mode": {
    "name": "ipython",
    "version": 3
   },
   "file_extension": ".py",
   "mimetype": "text/x-python",
   "name": "python",
   "nbconvert_exporter": "python",
   "pygments_lexer": "ipython3",
   "version": "3.11.5"
  }
 },
 "nbformat": 4,
 "nbformat_minor": 5
}
